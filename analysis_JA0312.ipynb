{
 "cells": [
  {
   "cell_type": "markdown",
   "id": "97a19949",
   "metadata": {},
   "source": [
    "Working Title: \n",
    "Household Wealth as a Fundamental Cause of Child Health Disparities in Nigeria"
   ]
  },
  {
   "cell_type": "code",
   "execution_count": 1,
   "id": "9372c0a0-d02e-4488-bef9-c757bc01f3fe",
   "metadata": {
    "tags": []
   },
   "outputs": [
    {
     "data": {
      "text/html": [
       "<style>div.jp-Notebook .datagrid-container {min-height: 448px; }</style>"
      ],
      "text/plain": [
       "<IPython.core.display.HTML object>"
      ]
     },
     "metadata": {},
     "output_type": "display_data"
    },
    {
     "name": "stdout",
     "output_type": "stream",
     "text": [
      "(-set more- irrelevant in this version of Stata)\n"
     ]
    }
   ],
   "source": [
    "set more off"
   ]
  },
  {
   "cell_type": "code",
   "execution_count": 2,
   "id": "eacfce4c-c6e0-4644-a151-d9b736ba3ea4",
   "metadata": {
    "tags": []
   },
   "outputs": [
    {
     "name": "stdout",
     "output_type": "stream",
     "text": [
      "\n"
     ]
    }
   ],
   "source": [
    "set maxvar 120000"
   ]
  },
  {
   "cell_type": "code",
   "execution_count": 3,
   "id": "e1d71598-665a-4481-8249-59003445465f",
   "metadata": {},
   "outputs": [
    {
     "name": "stdout",
     "output_type": "stream",
     "text": [
      "-------------------------------------------------------------------------------\n",
      "      name:  <unnamed>\n",
      "       log:  /Users/johnadeleke/Desktop/Household_inequalities_and_Child_Health\n",
      "> /Log for MA Thesis.smcl\n",
      "  log type:  smcl\n",
      " opened on:  12 Mar 2025, 16:30:54\n"
     ]
    }
   ],
   "source": [
    "log using \"Log for MA Thesis\", replace"
   ]
  },
  {
   "cell_type": "markdown",
   "id": "74d328fc",
   "metadata": {},
   "source": [
    "load data"
   ]
  },
  {
   "cell_type": "code",
   "execution_count": 4,
   "id": "936537ef-a32a-49f1-a7d5-c7d666af3a0b",
   "metadata": {
    "tags": []
   },
   "outputs": [],
   "source": [
    "use /Users/johnadeleke/Desktop/Household_inequalities_and_Child_Health/NGKR7BDT/NGKR7BFL.DTA, clear"
   ]
  },
  {
   "cell_type": "markdown",
   "id": "e2ddb3fb",
   "metadata": {},
   "source": [
    "This dataset uses multi-stage cluster sampling, and the standard errors would be incorrect if survey weight is not applied. This will help to produce estimates that are representative of the Nigerian population and account for the complex sampling structure of the DHS dataset."
   ]
  },
  {
   "cell_type": "code",
   "execution_count": 5,
   "id": "bdac249f",
   "metadata": {},
   "outputs": [
    {
     "name": "stdout",
     "output_type": "stream",
     "text": [
      "\n",
      "Sampling weights: v005\n",
      "             VCE: linearized\n",
      "     Single unit: missing\n",
      "        Strata 1: v022\n",
      " Sampling unit 1: v021\n",
      "           FPC 1: <zero>\n"
     ]
    }
   ],
   "source": [
    "svyset [pw= v005], psu(v021) strata(v022)"
   ]
  },
  {
   "cell_type": "markdown",
   "id": "5b87ca15",
   "metadata": {},
   "source": [
    "Checking if the survey-weighted setting worked"
   ]
  },
  {
   "cell_type": "code",
   "execution_count": 6,
   "id": "b78dbc54",
   "metadata": {},
   "outputs": [
    {
     "name": "stdout",
     "output_type": "stream",
     "text": [
      "\n",
      "Survey: Describing stage 1 sampling units\n",
      "\n",
      "Sampling weights: v005\n",
      "             VCE: linearized\n",
      "     Single unit: missing\n",
      "        Strata 1: v022\n",
      " Sampling unit 1: v021\n",
      "           FPC 1: <zero>\n",
      "\n",
      "                                    Number of obs per unit\n",
      " Stratum   # units     # obs       Min      Mean       Max\n",
      "----------------------------------------------------------\n",
      "       1         5        90        14      18.0        23\n",
      "       2        33       818        12      24.8        36\n",
      "       3        22       440         6      20.0        36\n",
      "       4        13       363        10      27.9        52\n",
      "       5        12       207        10      17.2        29\n",
      "       6        24       413         2      17.2        32\n",
      "       7        24       455         4      19.0        40\n",
      "       8        11       239        14      21.7        46\n",
      "       9         9       208        11      23.1        42\n",
      "      10        26       626         5      24.1        44\n",
      "      11        10       264        14      26.4        39\n",
      "      12        28       955        15      34.1        62\n",
      "      13        10       161         5      16.1        27\n",
      "      14        25       636         7      25.4        63\n",
      "      15        10       214        14      21.4        29\n",
      "      16        25       748         9      29.9        52\n",
      "      17         6       203        24      33.8        41\n",
      "      18        33     1,239        16      37.5        58\n",
      "      19        13       356        15      27.4        37\n",
      "      20        25       743        10      29.7        58\n",
      "      21         9       280        11      31.1        45\n",
      "      22        26     1,064        14      40.9        64\n",
      "      23         6       163        14      27.2        38\n",
      "      24        29       949        11      32.7        56\n",
      "      25         8       262        21      32.8        43\n",
      "      26        27       990         9      36.7        62\n",
      "      27         5       169        18      33.8        50\n",
      "      28        34     1,333        19      39.2        60\n",
      "      29        20       612         8      30.6        68\n",
      "      30        22       839        15      38.1        74\n",
      "      31        22       705        13      32.0        50\n",
      "      32        31     1,332        28      43.0        76\n",
      "      33         9       283        19      31.4        42\n",
      "      34        31     1,272        27      41.0        61\n",
      "      35         6       183        21      30.5        39\n",
      "      36        29     1,214        21      41.9        62\n",
      "      37         8       236        11      29.5        44\n",
      "      38        26       901        18      34.7        61\n",
      "      39         7       249        28      35.6        45\n",
      "      40        25       977        18      39.1        57\n",
      "      41         8       116         7      14.5        20\n",
      "      42        28       525         6      18.8        35\n",
      "      43        32       703         9      22.0        40\n",
      "      44         7       153        12      21.9        28\n",
      "      45        30       845        14      28.2        44\n",
      "      46         6       167        12      27.8        47\n",
      "      47        25       415         5      16.6        35\n",
      "      48        11       146         2      13.3        21\n",
      "      49        18       365         5      20.3        37\n",
      "      50        21       363         7      17.3        38\n",
      "      51         3        35         9      11.7        17\n",
      "      52        34       529         5      15.6        27\n",
      "      53         9       152         7      16.9        28\n",
      "      54        26       418         6      16.1        33\n",
      "      55         6        77         3      12.8        22\n",
      "      56        29       351         5      12.1        18\n",
      "      57        18       231         5      12.8        19\n",
      "      58        20       277         4      13.8        24\n",
      "      59        20       265         5      13.2        23\n",
      "      60        15       200         6      13.3        28\n",
      "      61        19       317         7      16.7        27\n",
      "      62        22       350         4      15.9        31\n",
      "      63        26       374         5      14.4        22\n",
      "      64         9       148         8      16.4        27\n",
      "      65        49       756         6      15.4        29\n",
      "      66         3        51        12      17.0        20\n",
      "      67        18       217         4      12.1        30\n",
      "      68        19       291         7      15.3        28\n",
      "      69        17       246         8      14.5        23\n",
      "      70        19       296         6      15.6        34\n",
      "      71        27       374         6      13.9        30\n",
      "      72         9       124         8      13.8        19\n",
      "      73        30       471         5      15.7        33\n",
      "      74        12       185         4      15.4        29\n",
      "----------------------------------------------------------\n",
      "      74     1,389    33,924         2      24.4        76\n"
     ]
    }
   ],
   "source": [
    "svydes"
   ]
  },
  {
   "cell_type": "markdown",
   "id": "03b7506f",
   "metadata": {},
   "source": [
    "keep variables of interest"
   ]
  },
  {
   "cell_type": "code",
   "execution_count": 7,
   "id": "24536e47",
   "metadata": {},
   "outputs": [],
   "source": [
    "keep caseid b8 v001 v002 v003 v005 v190 v021 v022 v025 v024 v106 v151 h10 h11 h22 hw70 hw71 hw72 "
   ]
  },
  {
   "cell_type": "code",
   "execution_count": 8,
   "id": "53fd7ffd",
   "metadata": {},
   "outputs": [
    {
     "name": "stdout",
     "output_type": "stream",
     "text": [
      "\n",
      "-------------------------------------------------------------------------------\n",
      "caseid                                                      case identification\n",
      "-------------------------------------------------------------------------------\n",
      "\n",
      "                  Type: String (str15)\n",
      "\n",
      "         Unique values: 21,792                    Missing \"\": 0/33,924\n",
      "\n",
      "              Examples: \"286  22  3\"\n",
      "                        \"481  53  2\"\n",
      "                        \"665  47  2\"\n",
      "                        \"939  17  9\"\n",
      "\n",
      "               Warning: Variable has leading and embedded blanks.\n",
      "\n",
      "-------------------------------------------------------------------------------\n",
      "v001                                                             cluster number\n",
      "-------------------------------------------------------------------------------\n",
      "\n",
      "                  Type: Numeric (int)\n",
      "\n",
      "                 Range: [1,1400]                      Units: 1\n",
      "         Unique values: 1,389                     Missing .: 0/33,924\n",
      "\n",
      "                  Mean: 612.956\n",
      "             Std. dev.: 358.907\n",
      "\n",
      "           Percentiles:     10%       25%       50%       75%       90%\n",
      "                            158       334       579     848.5      1172\n",
      "\n",
      "-------------------------------------------------------------------------------\n",
      "v002                                                           household number\n",
      "-------------------------------------------------------------------------------\n",
      "\n",
      "                  Type: Numeric (int)\n",
      "\n",
      "                 Range: [1,274]                       Units: 1\n",
      "         Unique values: 207                       Missing .: 0/33,924\n",
      "\n",
      "                  Mean: 31.0563\n",
      "             Std. dev.:  24.878\n",
      "\n",
      "           Percentiles:     10%       25%       50%       75%       90%\n",
      "                              6        14        26        41        60\n",
      "\n",
      "-------------------------------------------------------------------------------\n",
      "v003                                                   respondent's line number\n",
      "-------------------------------------------------------------------------------\n",
      "\n",
      "                  Type: Numeric (byte)\n",
      "\n",
      "                 Range: [1,26]                        Units: 1\n",
      "         Unique values: 25                        Missing .: 0/33,924\n",
      "\n",
      "                  Mean: 2.77211\n",
      "             Std. dev.: 2.23091\n",
      "\n",
      "           Percentiles:     10%       25%       50%       75%       90%\n",
      "                              2         2         2         2         5\n",
      "\n",
      "-------------------------------------------------------------------------------\n",
      "v005                              women's individual sample weight (6 decimals)\n",
      "-------------------------------------------------------------------------------\n",
      "\n",
      "                  Type: Numeric (long)\n",
      "\n",
      "                 Range: [103280,13411626]             Units: 1\n",
      "         Unique values: 1,367                     Missing .: 0/33,924\n",
      "\n",
      "                  Mean: 1.0e+06\n",
      "             Std. dev.:  646460\n",
      "\n",
      "           Percentiles:     10%       25%       50%       75%       90%\n",
      "                         434753    612943    884697   1.2e+06   1.7e+06\n",
      "\n",
      "-------------------------------------------------------------------------------\n",
      "v021                                                      primary sampling unit\n",
      "-------------------------------------------------------------------------------\n",
      "\n",
      "                  Type: Numeric (int)\n",
      "\n",
      "                 Range: [1,1400]                      Units: 1\n",
      "         Unique values: 1,389                     Missing .: 0/33,924\n",
      "\n",
      "                  Mean: 612.956\n",
      "             Std. dev.: 358.907\n",
      "\n",
      "           Percentiles:     10%       25%       50%       75%       90%\n",
      "                            158       334       579     848.5      1172\n",
      "\n",
      "-------------------------------------------------------------------------------\n",
      "v022                                          sample strata for sampling errors\n",
      "-------------------------------------------------------------------------------\n",
      "\n",
      "                  Type: Numeric (byte)\n",
      "                 Label: V022\n",
      "\n",
      "                 Range: [1,74]                        Units: 1\n",
      "         Unique values: 74                        Missing .: 0/33,924\n",
      "\n",
      "              Examples: 16    ne adamawa rural\n",
      "                        28    nw jigawa rural\n",
      "                        36    nw kebbi rural\n",
      "                        50    se imo rural\n",
      "\n",
      "-------------------------------------------------------------------------------\n",
      "v024                                                                     region\n",
      "-------------------------------------------------------------------------------\n",
      "\n",
      "                  Type: Numeric (byte)\n",
      "                 Label: V024\n",
      "\n",
      "                 Range: [1,6]                         Units: 1\n",
      "         Unique values: 6                         Missing .: 0/33,924\n",
      "\n",
      "            Tabulation: Freq.   Numeric  Label\n",
      "                        5,875         1  north central\n",
      "                        7,211         2  north east\n",
      "                       10,305         3  north west\n",
      "                        3,798         4  south east\n",
      "                        3,202         5  south south\n",
      "                        3,533         6  south west\n",
      "\n",
      "-------------------------------------------------------------------------------\n",
      "v025                                                 type of place of residence\n",
      "-------------------------------------------------------------------------------\n",
      "\n",
      "                  Type: Numeric (byte)\n",
      "                 Label: V025\n",
      "\n",
      "                 Range: [1,2]                         Units: 1\n",
      "         Unique values: 2                         Missing .: 0/33,924\n",
      "\n",
      "            Tabulation: Freq.   Numeric  Label\n",
      "                       11,699         1  urban\n",
      "                       22,225         2  rural\n",
      "\n",
      "-------------------------------------------------------------------------------\n",
      "v106                                                  highest educational level\n",
      "-------------------------------------------------------------------------------\n",
      "\n",
      "                  Type: Numeric (byte)\n",
      "                 Label: V106\n",
      "\n",
      "                 Range: [0,3]                         Units: 1\n",
      "         Unique values: 4                         Missing .: 0/33,924\n",
      "\n",
      "            Tabulation: Freq.   Numeric  Label\n",
      "                       15,391         0  no education\n",
      "                        5,274         1  primary\n",
      "                       10,623         2  secondary\n",
      "                        2,636         3  higher\n",
      "\n",
      "-------------------------------------------------------------------------------\n",
      "v151                                                      sex of household head\n",
      "-------------------------------------------------------------------------------\n",
      "\n",
      "                  Type: Numeric (byte)\n",
      "                 Label: V151\n",
      "\n",
      "                 Range: [1,2]                         Units: 1\n",
      "         Unique values: 2                         Missing .: 0/33,924\n",
      "\n",
      "            Tabulation: Freq.   Numeric  Label\n",
      "                       30,734         1  male\n",
      "                        3,190         2  female\n",
      "\n",
      "-------------------------------------------------------------------------------\n",
      "v190                                                      wealth index combined\n",
      "-------------------------------------------------------------------------------\n",
      "\n",
      "                  Type: Numeric (byte)\n",
      "                 Label: V190\n",
      "\n",
      "                 Range: [1,5]                         Units: 1\n",
      "         Unique values: 5                         Missing .: 0/33,924\n",
      "\n",
      "            Tabulation: Freq.   Numeric  Label\n",
      "                        8,066         1  poorest\n",
      "                        7,743         2  poorer\n",
      "                        7,171         3  middle\n",
      "                        6,166         4  richer\n",
      "                        4,778         5  richest\n",
      "\n",
      "-------------------------------------------------------------------------------\n",
      "b8                                                         current age of child\n",
      "-------------------------------------------------------------------------------\n",
      "\n",
      "                  Type: Numeric (byte)\n",
      "\n",
      "                 Range: [0,4]                         Units: 1\n",
      "         Unique values: 5                         Missing .: 3,211/33,924\n",
      "\n",
      "            Tabulation: Freq.  Value\n",
      "                        6,399  0\n",
      "                        6,059  1\n",
      "                        5,834  2\n",
      "                        6,168  3\n",
      "                        6,253  4\n",
      "                        3,211  .\n",
      "\n",
      "-------------------------------------------------------------------------------\n",
      "h10                                                        ever had vaccination\n",
      "-------------------------------------------------------------------------------\n",
      "\n",
      "                  Type: Numeric (byte)\n",
      "                 Label: H10\n",
      "\n",
      "                 Range: [0,8]                         Units: 1\n"
     ]
    },
    {
     "name": "stdout",
     "output_type": "stream",
     "text": [
      "         Unique values: 3                         Missing .: 23,002/33,924\n",
      "\n",
      "            Tabulation: Freq.   Numeric  Label\n",
      "                        3,606         0  no\n",
      "                        7,307         1  yes\n",
      "                            9         8  don't know\n",
      "                       23,002         .  \n",
      "\n",
      "-------------------------------------------------------------------------------\n",
      "h11                                                       had diarrhea recently\n",
      "-------------------------------------------------------------------------------\n",
      "\n",
      "                  Type: Numeric (byte)\n",
      "                 Label: H11\n",
      "\n",
      "                 Range: [0,8]                         Units: 1\n",
      "         Unique values: 3                         Missing .: 3,211/33,924\n",
      "\n",
      "            Tabulation: Freq.   Numeric  Label\n",
      "                       26,647         0  no\n",
      "                        3,956         2  yes, last two weeks\n",
      "                          110         8  don't know\n",
      "                        3,211         .  \n",
      "\n",
      "-------------------------------------------------------------------------------\n",
      "h22                                                 had fever in last two weeks\n",
      "-------------------------------------------------------------------------------\n",
      "\n",
      "                  Type: Numeric (byte)\n",
      "                 Label: H22\n",
      "\n",
      "                 Range: [0,8]                         Units: 1\n",
      "         Unique values: 3                         Missing .: 3,211/33,924\n",
      "\n",
      "            Tabulation: Freq.   Numeric  Label\n",
      "                       23,065         0  no\n",
      "                        7,536         1  yes\n",
      "                          112         8  don't know\n",
      "                        3,211         .  \n",
      "\n",
      "-------------------------------------------------------------------------------\n",
      "hw70                                    height/age standard deviation (new who)\n",
      "-------------------------------------------------------------------------------\n",
      "\n",
      "                  Type: Numeric (int)\n",
      "                 Label: HW70, but 898 nonmissing values are not labeled\n",
      "\n",
      "                 Range: [-599,9998]                   Units: 1\n",
      "         Unique values: 899                       Missing .: 22,453/33,924\n",
      "\n",
      "              Examples: -110  \n",
      "                        .     \n",
      "                        .     \n",
      "                        .     \n",
      "\n",
      "-------------------------------------------------------------------------------\n",
      "hw71                                    weight/age standard deviation (new who)\n",
      "-------------------------------------------------------------------------------\n",
      "\n",
      "                  Type: Numeric (int)\n",
      "                 Label: HW71, but 756 nonmissing values are not labeled\n",
      "\n",
      "                 Range: [-594,9998]                   Units: 1\n",
      "         Unique values: 757                       Missing .: 22,452/33,924\n",
      "\n",
      "              Examples: -76   \n",
      "                        .     \n",
      "                        .     \n",
      "                        .     \n",
      "\n",
      "-------------------------------------------------------------------------------\n",
      "hw72                                 weight/height standard deviation (new who)\n",
      "-------------------------------------------------------------------------------\n",
      "\n",
      "                  Type: Numeric (int)\n",
      "                 Label: HW72, but 729 nonmissing values are not labeled\n",
      "\n",
      "                 Range: [-499,9998]                   Units: 1\n",
      "         Unique values: 731                       Missing .: 22,448/33,924\n",
      "\n",
      "              Examples: 0     \n",
      "                        .     \n",
      "                        .     \n",
      "                        .     \n"
     ]
    }
   ],
   "source": [
    "codebook"
   ]
  },
  {
   "cell_type": "markdown",
   "id": "2943e151",
   "metadata": {},
   "source": [
    "Since not all households in have child(ren) under 5, keep only households with child(ren) under the age of 5"
   ]
  },
  {
   "cell_type": "code",
   "execution_count": 9,
   "id": "0f101922",
   "metadata": {},
   "outputs": [
    {
     "name": "stdout",
     "output_type": "stream",
     "text": [
      "variable hw70 was int now float\n",
      "(11,458 real changes made)\n",
      "variable hw71 was int now float\n",
      "(11,450 real changes made)\n",
      "variable hw72 was int now float\n",
      "(11,436 real changes made)\n"
     ]
    }
   ],
   "source": [
    "replace hw70 = hw70 / 100\n",
    "replace hw71 = hw71 / 100\n",
    "replace hw72 = hw72 / 100"
   ]
  },
  {
   "cell_type": "code",
   "execution_count": 10,
   "id": "1ebb7e7b",
   "metadata": {},
   "outputs": [
    {
     "name": "stdout",
     "output_type": "stream",
     "text": [
      "\n",
      "    Variable |        Obs        Mean    Std. dev.       Min        Max\n",
      "-------------+---------------------------------------------------------\n",
      "        hw70 |     11,471   -.5566646    9.882177      -5.99      99.98\n",
      "        hw71 |     11,472   -.9262099    4.300253      -5.94      99.98\n",
      "        hw72 |     11,476    .3247412    7.946526      -4.99      99.98\n",
      "(bin=50, start=-5.9899998, width=2.1194001)\n",
      "(bin=50, start=-5.9400001, width=2.1184001)\n",
      "(bin=50, start=-4.9899998, width=2.0994001)\n"
     ]
    },
    {
     "data": {
      "image/png": "[encoded data removed]",
      "text/plain": [
       "<IPython.core.display.Image object>"
      ]
     },
     "metadata": {},
     "output_type": "display_data"
    }
   ],
   "source": [
    "summarize hw70 hw71 hw72\n",
    "histogram hw70, bin(50) normal\n",
    "histogram hw71, bin(50) normal\n",
    "histogram hw72, bin(50) normal"
   ]
  },
  {
   "cell_type": "code",
   "execution_count": 11,
   "id": "db659c6c",
   "metadata": {},
   "outputs": [
    {
     "name": "stdout",
     "output_type": "stream",
     "text": [
      "(107 real changes made, 107 to missing)\n",
      "(19 real changes made, 19 to missing)\n",
      "(71 real changes made, 71 to missing)\n"
     ]
    }
   ],
   "source": [
    "replace hw70 = . if hw70 > 6 | hw70 < -6\n",
    "replace hw71 = . if hw71 > 6 | hw71 < -6\n",
    "replace hw72 = . if hw72 > 6 | hw72 < -6"
   ]
  },
  {
   "cell_type": "code",
   "execution_count": 12,
   "id": "8cc6f96c",
   "metadata": {},
   "outputs": [
    {
     "name": "stdout",
     "output_type": "stream",
     "text": [
      "\n",
      "    Variable |        Obs        Mean    Std. dev.       Min        Max\n",
      "-------------+---------------------------------------------------------\n",
      "        hw70 |     11,364   -1.503288    1.581818      -5.99       5.99\n",
      "        hw71 |     11,453   -1.093609    1.265616      -5.94       4.41\n",
      "        hw72 |     11,405   -.2956046    1.154821      -4.99       4.85\n",
      "(bin=50, start=-5.9899998, width=.23959999)\n",
      "(bin=50, start=-5.9400001, width=.207)\n",
      "(bin=50, start=-4.9899998, width=.19679999)\n"
     ]
    },
    {
     "data": {
      "image/png": "[encoded data removed]",
      "text/plain": [
       "<IPython.core.display.Image object>"
      ]
     },
     "metadata": {},
     "output_type": "display_data"
    }
   ],
   "source": [
    "summarize hw70 hw71 hw72\n",
    "histogram hw70, bin(50) normal\n",
    "histogram hw71, bin(50) normal\n",
    "histogram hw72, bin(50) normal"
   ]
  },
  {
   "cell_type": "code",
   "execution_count": 13,
   "id": "8968f587",
   "metadata": {},
   "outputs": [
    {
     "name": "stdout",
     "output_type": "stream",
     "text": [
      "(33,924 missing values generated)\n",
      "(29,815 real changes made)\n",
      "(4,109 real changes made)\n"
     ]
    }
   ],
   "source": [
    "* Stunting (Binary: Stunted vs. Not Stunted)\n",
    "gen stunting = .\n",
    "replace stunting = 0 if hw70 >= -2  // Not Stunted\n",
    "replace stunting = 1 if hw70 < -2   // Stunted\n",
    "label define stunting_lbl 0 \"Not Stunted\" 1 \"Stunted\"\n",
    "label values stunting stunting_lbl"
   ]
  },
  {
   "cell_type": "code",
   "execution_count": 14,
   "id": "faf81849",
   "metadata": {},
   "outputs": [
    {
     "name": "stdout",
     "output_type": "stream",
     "text": [
      "(33,924 missing values generated)\n",
      "(31,435 real changes made)\n",
      "(2,489 real changes made)\n"
     ]
    }
   ],
   "source": [
    "* Wasting (Binary: Wasted vs. Not Wasted)\n",
    "gen wasting = .\n",
    "replace wasting = 0 if hw71 >= -2  // Not Wasted\n",
    "replace wasting = 1 if hw71 < -2   // Wasted\n",
    "label define wasting_lbl 0 \"Not Wasted\" 1 \"Wasted\"\n",
    "label values wasting wasting_lbl"
   ]
  },
  {
   "cell_type": "code",
   "execution_count": 15,
   "id": "9d11fdfd",
   "metadata": {},
   "outputs": [
    {
     "name": "stdout",
     "output_type": "stream",
     "text": [
      "(33,924 missing values generated)\n",
      "(33,154 real changes made)\n",
      "(770 real changes made)\n"
     ]
    }
   ],
   "source": [
    "* Underweight (Binary: Underweight vs. Not Underweight)\n",
    "gen underweight = .\n",
    "replace underweight = 0 if hw72 >= -2  // Not Underweight\n",
    "replace underweight = 1 if hw72 < -2   // Underweight\n",
    "label define underweight_lbl 0 \"Not Underweight\" 1 \"Underweight\"\n",
    "label values underweight underweight_lbl"
   ]
  },
  {
   "cell_type": "markdown",
   "id": "06e9dd4f",
   "metadata": {},
   "source": [
    "recoding rural-urban to 0 and 1"
   ]
  },
  {
   "cell_type": "code",
   "execution_count": 16,
   "id": "ef2823b0",
   "metadata": {},
   "outputs": [
    {
     "name": "stdout",
     "output_type": "stream",
     "text": [
      "(33,924 missing values generated)\n",
      "(22,225 real changes made)\n",
      "(11,699 real changes made)\n",
      "\n",
      "rural_binar |\n",
      "          y |      Freq.     Percent        Cum.\n",
      "------------+-----------------------------------\n",
      "      Rural |     22,225       65.51       65.51\n",
      "      Urban |     11,699       34.49      100.00\n",
      "------------+-----------------------------------\n",
      "      Total |     33,924      100.00\n"
     ]
    }
   ],
   "source": [
    "gen rural_binary = .\n",
    "replace rural_binary = 0 if v025 == 2\n",
    "replace rural_binary = 1 if v025 == 1\n",
    "label define rural_label 0 \"Rural\" 1 \"Urban\"\n",
    "label values rural_binary rural_label\n",
    "tab rural_binary\n"
   ]
  },
  {
   "cell_type": "code",
   "execution_count": 17,
   "id": "cd5114c2",
   "metadata": {},
   "outputs": [
    {
     "name": "stdout",
     "output_type": "stream",
     "text": [
      "\n",
      "    type of |\n",
      "   place of |\n",
      "  residence |      Freq.     Percent        Cum.\n",
      "------------+-----------------------------------\n",
      "      urban |     11,699       34.49       34.49\n",
      "      rural |     22,225       65.51      100.00\n",
      "------------+-----------------------------------\n",
      "      Total |     33,924      100.00\n"
     ]
    }
   ],
   "source": [
    "tab v025"
   ]
  },
  {
   "cell_type": "markdown",
   "id": "80af8be2",
   "metadata": {},
   "source": [
    "recoding household wealth index"
   ]
  },
  {
   "cell_type": "code",
   "execution_count": 18,
   "id": "0d729701",
   "metadata": {},
   "outputs": [
    {
     "name": "stdout",
     "output_type": "stream",
     "text": [
      "(25,858 differences between v190 and household_wealth)\n"
     ]
    }
   ],
   "source": [
    "recode v190 (1 2 = 1 \"poor_households\") (3 = 2 \"average_households\") (4 5 = 3 \"rich_households\"), gen(household_wealth)"
   ]
  },
  {
   "cell_type": "code",
   "execution_count": 19,
   "id": "db21fcb5",
   "metadata": {},
   "outputs": [
    {
     "name": "stdout",
     "output_type": "stream",
     "text": [
      "\n",
      "    RECODE of v190 |\n",
      "     (wealth index |\n",
      "         combined) |      Freq.     Percent        Cum.\n",
      "-------------------+-----------------------------------\n",
      "   poor_households |     15,809       46.60       46.60\n",
      "average_households |      7,171       21.14       67.74\n",
      "   rich_households |     10,944       32.26      100.00\n",
      "-------------------+-----------------------------------\n",
      "             Total |     33,924      100.00\n"
     ]
    }
   ],
   "source": [
    "tab household_wealth"
   ]
  },
  {
   "cell_type": "code",
   "execution_count": 20,
   "id": "d9338e01",
   "metadata": {},
   "outputs": [
    {
     "name": "stdout",
     "output_type": "stream",
     "text": [
      "\n",
      "    RECODE of v190 |\n",
      "     (wealth index |\n",
      "         combined) |      Freq.     Percent        Cum.\n",
      "-------------------+-----------------------------------\n",
      "   Poor_households |     15,809       46.60       46.60\n",
      "Average_Households |      7,171       21.14       67.74\n",
      "   Rich_Households |     10,944       32.26      100.00\n",
      "-------------------+-----------------------------------\n",
      "             Total |     33,924      100.00\n"
     ]
    }
   ],
   "source": [
    "label define wealth_label 1 \"Poor_households\" 2 \"Average_Households\" 3 \"Rich_Households\"\n",
    "label values household_wealth wealth_label\n",
    "tab household_wealth\n"
   ]
  },
  {
   "cell_type": "markdown",
   "id": "86a1c8d2",
   "metadata": {},
   "source": [
    "Collapse data to household level"
   ]
  },
  {
   "cell_type": "code",
   "execution_count": 21,
   "id": "475e3bc8",
   "metadata": {},
   "outputs": [],
   "source": [
    "collapse (max) h10 h11 h22 stunting wasting underweight v005 v021 v022 (count) num_children = b8 ///\n",
    "(first) v190 household_wealth rural_binary v024 v106, by(v001 v002)"
   ]
  },
  {
   "cell_type": "markdown",
   "id": "6541b3af",
   "metadata": {},
   "source": [
    "Checking the structure of the collapsed dataset"
   ]
  },
  {
   "cell_type": "code",
   "execution_count": 22,
   "id": "ef2e4a35",
   "metadata": {},
   "outputs": [
    {
     "name": "stdout",
     "output_type": "stream",
     "text": [
      "\n",
      "       +--------------------------------------------------------+\n",
      "       | v001   v002   stunting   wasting   underw~t   num_ch~n |\n",
      "       |--------------------------------------------------------|\n",
      "    1. |    1      1          0         0          0          1 |\n",
      "    2. |    1     11          0         0          0          1 |\n",
      "    3. |    1     25          0         0          0          1 |\n",
      "    4. |    1     35          1         0          0          1 |\n",
      "    5. |    1     40          0         0          0          1 |\n",
      "       |--------------------------------------------------------|\n",
      "    6. |    1     64          0         0          0          1 |\n",
      "    7. |    1     78          0         0          0          1 |\n",
      "    8. |    1     83          0         0          0          1 |\n",
      "    9. |    1     93          1         1          0          1 |\n",
      "   10. |    1    117          0         0          0          2 |\n",
      "       +--------------------------------------------------------+\n"
     ]
    }
   ],
   "source": [
    "list v001 v002 stunting wasting underweight num_children if _n <= 10"
   ]
  },
  {
   "cell_type": "markdown",
   "id": "f029559c",
   "metadata": {},
   "source": [
    "Renaming other varibales for easy identification"
   ]
  },
  {
   "cell_type": "code",
   "execution_count": 23,
   "id": "1a317db6",
   "metadata": {},
   "outputs": [],
   "source": [
    "label variable rural_binary residence_type\n",
    "label variable v024 geopolitical_region\n",
    "label variable v106 mother_education\n",
    "label variable h10 vaccination\n",
    "label variable h11 diarrhea\n",
    "label variable h22 fever"
   ]
  },
  {
   "cell_type": "code",
   "execution_count": 24,
   "id": "fe29b062",
   "metadata": {},
   "outputs": [],
   "source": [
    "rename rural_binary residence_type\n",
    "rename v024 geopolitical_region\n",
    "rename v106 mother_education\n",
    "rename h10 vaccination\n",
    "rename h11 diarrhea\n",
    "rename h22 fever"
   ]
  },
  {
   "cell_type": "markdown",
   "id": "f20cf47a",
   "metadata": {},
   "source": [
    "Assigning proper labels to categorical variables for easy identification"
   ]
  },
  {
   "cell_type": "code",
   "execution_count": 26,
   "id": "874758c3",
   "metadata": {},
   "outputs": [],
   "source": [
    "label define wealth_lbl 1 \"Poor\" 2 \"Average\" 3 \"Rich\"\n",
    "label values household_wealth wealth_lbl\n"
   ]
  },
  {
   "cell_type": "code",
   "execution_count": 27,
   "id": "5755bc7a",
   "metadata": {},
   "outputs": [],
   "source": [
    "label define educ_lbl 0 \"No Education\" 1 \"Primary\" 2 \"Secondary\" 3 \"Higher\"\n",
    "label values mother_education educ_lbl"
   ]
  },
  {
   "cell_type": "code",
   "execution_count": 28,
   "id": "89089778",
   "metadata": {},
   "outputs": [],
   "source": [
    "label define residence_lbl 0 \"Rural\" 1 \"Urban\"\n",
    "label values residence_type residence_lbl"
   ]
  },
  {
   "cell_type": "code",
   "execution_count": 29,
   "id": "2a545f70",
   "metadata": {},
   "outputs": [],
   "source": [
    "label define region_lbl 1 \"North Central\" 2 \"North East\" 3 \"North West\" 4 \"South East\" 5 \"South South\" 6 \"South West\"\n",
    "label values geopolitical_region region_lbl"
   ]
  },
  {
   "cell_type": "code",
   "execution_count": 30,
   "id": "95041dee",
   "metadata": {},
   "outputs": [
    {
     "name": "stdout",
     "output_type": "stream",
     "text": [
      "\n",
      "Contains data\n",
      " Observations:        19,236                  \n",
      "    Variables:            17                  \n",
      "-------------------------------------------------------------------------------\n",
      "Variable      Storage   Display    Value\n",
      "    name         type    format    label      Variable label\n",
      "-------------------------------------------------------------------------------\n",
      "v001            int     %8.0g                 cluster number\n",
      "v002            int     %8.0g                 household number\n",
      "vaccination     byte    %8.0g                 vaccination\n",
      "diarrhea        byte    %8.0g                 diarrhea\n",
      "fever           byte    %8.0g                 fever\n",
      "stunting        float   %11.0g                (max) stunting\n",
      "wasting         float   %10.0g                (max) wasting\n",
      "underweight     float   %15.0g                (max) underweight\n",
      "v005            long    %12.0g                (max) v005\n",
      "v021            int     %8.0g                 (max) v021\n",
      "v022            byte    %8.0g                 (max) v022\n",
      "num_children    long    %8.0g                 (count) b8\n",
      "v190            byte    %8.0g                 (first) v190\n",
      "household_wea~h byte    %18.0g     wealth_lbl\n",
      "                                              (first) household_wealth\n",
      "residence_type  float   %9.0g      residence_lbl\n",
      "                                              residence_type\n",
      "geopolitical_~n byte    %13.0g     region_lbl\n",
      "                                              geopolitical_region\n",
      "mother_educat~n byte    %12.0g     educ_lbl   mother_education\n",
      "-------------------------------------------------------------------------------\n",
      "Sorted by: v001  v002\n",
      "     Note: Dataset has changed since last saved.\n"
     ]
    }
   ],
   "source": [
    "describe"
   ]
  },
  {
   "cell_type": "markdown",
   "id": "12912c1e",
   "metadata": {},
   "source": [
    "To confirm that each household appears once without duplicate"
   ]
  },
  {
   "cell_type": "code",
   "execution_count": 31,
   "id": "9870294e",
   "metadata": {},
   "outputs": [
    {
     "name": "stdout",
     "output_type": "stream",
     "text": [
      "\n",
      "Duplicates in terms of v001 v002\n",
      "\n",
      "--------------------------------------\n",
      "   Copies | Observations       Surplus\n",
      "----------+---------------------------\n",
      "        1 |        19236             0\n",
      "--------------------------------------\n"
     ]
    }
   ],
   "source": [
    "duplicates report v001 v002"
   ]
  },
  {
   "cell_type": "markdown",
   "id": "50c990ce",
   "metadata": {},
   "source": [
    "This dataset uses multi-stage cluster sampling, and the standard errors would be incorrect if survey weight is not applied. This will help to produce estimates that are representative of the Nigerian population and account for the complex sampling structure of the DHS dataset. "
   ]
  },
  {
   "cell_type": "markdown",
   "id": "748b884e",
   "metadata": {},
   "source": [
    "Reapply survey weight"
   ]
  },
  {
   "cell_type": "code",
   "execution_count": 32,
   "id": "036ba745",
   "metadata": {},
   "outputs": [
    {
     "name": "stdout",
     "output_type": "stream",
     "text": [
      "\n",
      "Sampling weights: v005\n",
      "             VCE: linearized\n",
      "     Single unit: missing\n",
      "        Strata 1: v022\n",
      " Sampling unit 1: v021\n",
      "           FPC 1: <zero>\n"
     ]
    }
   ],
   "source": [
    "svyset [pw= v005], psu(v021) strata(v022)"
   ]
  },
  {
   "cell_type": "code",
   "execution_count": 33,
   "id": "195fe028",
   "metadata": {},
   "outputs": [
    {
     "name": "stdout",
     "output_type": "stream",
     "text": [
      "file recodedchildren_under5.dta saved\n"
     ]
    }
   ],
   "source": [
    "save \"recodedchildren_under5.dta\", replace"
   ]
  },
  {
   "cell_type": "markdown",
   "id": "16a64279",
   "metadata": {},
   "source": [
    "Descriptive statistics"
   ]
  },
  {
   "cell_type": "code",
   "execution_count": 34,
   "id": "c552e70e",
   "metadata": {},
   "outputs": [],
   "source": [
    "use /Users/johnadeleke/Desktop/Household_inequalities_and_Child_Health/recodedchildren_under5.dta, clear"
   ]
  },
  {
   "cell_type": "code",
   "execution_count": 35,
   "id": "401c54e5",
   "metadata": {},
   "outputs": [
    {
     "name": "stdout",
     "output_type": "stream",
     "text": [
      "\n",
      "Contains data from /Users/johnadeleke/Desktop/Household_inequalities_and_Child_\n",
      "> Health/recodedchildren_under5.dta\n",
      " Observations:        19,236                  \n",
      "    Variables:            17                  12 Mar 2025 16:31\n",
      "-------------------------------------------------------------------------------\n",
      "Variable      Storage   Display    Value\n",
      "    name         type    format    label      Variable label\n",
      "-------------------------------------------------------------------------------\n",
      "v001            int     %8.0g                 cluster number\n",
      "v002            int     %8.0g                 household number\n",
      "vaccination     byte    %8.0g                 vaccination\n",
      "diarrhea        byte    %8.0g                 diarrhea\n",
      "fever           byte    %8.0g                 fever\n",
      "stunting        float   %11.0g                (max) stunting\n",
      "wasting         float   %10.0g                (max) wasting\n",
      "underweight     float   %15.0g                (max) underweight\n",
      "v005            long    %12.0g                (max) v005\n",
      "v021            int     %8.0g                 (max) v021\n",
      "v022            byte    %8.0g                 (max) v022\n",
      "num_children    long    %8.0g                 (count) b8\n",
      "v190            byte    %8.0g                 (first) v190\n",
      "household_wea~h byte    %18.0g     wealth_lbl\n",
      "                                              (first) household_wealth\n",
      "residence_type  float   %9.0g      residence_lbl\n",
      "                                              residence_type\n",
      "geopolitical_~n byte    %13.0g     region_lbl\n",
      "                                              geopolitical_region\n",
      "mother_educat~n byte    %12.0g     educ_lbl   mother_education\n",
      "-------------------------------------------------------------------------------\n",
      "Sorted by: v001  v002\n"
     ]
    }
   ],
   "source": [
    "describe"
   ]
  },
  {
   "cell_type": "code",
   "execution_count": 36,
   "id": "def97b6b",
   "metadata": {},
   "outputs": [
    {
     "name": "stdout",
     "output_type": "stream",
     "text": [
      "\n",
      "-------------------------------------------------------------------------------\n",
      "v001                                                             cluster number\n",
      "-------------------------------------------------------------------------------\n",
      "\n",
      "                  Type: Numeric (int)\n",
      "\n",
      "                 Range: [1,1400]                      Units: 1\n",
      "         Unique values: 1,389                     Missing .: 0/19,236\n",
      "\n",
      "                  Mean: 636.883\n",
      "             Std. dev.: 379.728\n",
      "\n",
      "           Percentiles:     10%       25%       50%       75%       90%\n",
      "                            150       329       599       916      1219\n",
      "\n",
      "-------------------------------------------------------------------------------\n",
      "v002                                                           household number\n",
      "-------------------------------------------------------------------------------\n",
      "\n",
      "                  Type: Numeric (int)\n",
      "\n",
      "                 Range: [1,274]                       Units: 1\n",
      "         Unique values: 207                       Missing .: 0/19,236\n",
      "\n",
      "                  Mean: 31.1478\n",
      "             Std. dev.: 25.1006\n",
      "\n",
      "           Percentiles:     10%       25%       50%       75%       90%\n",
      "                              6      13.5        26        42        60\n",
      "\n",
      "-------------------------------------------------------------------------------\n",
      "vaccination                                                         vaccination\n",
      "-------------------------------------------------------------------------------\n",
      "\n",
      "                  Type: Numeric (byte)\n",
      "\n",
      "                 Range: [0,8]                         Units: 1\n",
      "         Unique values: 3                         Missing .: 10,020/19,236\n",
      "\n",
      "            Tabulation: Freq.  Value\n",
      "                        2,731  0\n",
      "                        6,477  1\n",
      "                            8  8\n",
      "                       10,020  .\n",
      "\n",
      "-------------------------------------------------------------------------------\n",
      "diarrhea                                                               diarrhea\n",
      "-------------------------------------------------------------------------------\n",
      "\n",
      "                  Type: Numeric (byte)\n",
      "\n",
      "                 Range: [0,8]                         Units: 1\n",
      "         Unique values: 3                         Missing .: 610/19,236\n",
      "\n",
      "            Tabulation: Freq.  Value\n",
      "                       15,090  0\n",
      "                        3,433  2\n",
      "                          103  8\n",
      "                          610  .\n",
      "\n",
      "-------------------------------------------------------------------------------\n",
      "fever                                                                     fever\n",
      "-------------------------------------------------------------------------------\n",
      "\n",
      "                  Type: Numeric (byte)\n",
      "\n",
      "                 Range: [0,8]                         Units: 1\n",
      "         Unique values: 3                         Missing .: 610/19,236\n",
      "\n",
      "            Tabulation: Freq.  Value\n",
      "                       12,481  0\n",
      "                        6,041  1\n",
      "                          104  8\n",
      "                          610  .\n",
      "\n",
      "-------------------------------------------------------------------------------\n",
      "stunting                                                         (max) stunting\n",
      "-------------------------------------------------------------------------------\n",
      "\n",
      "                  Type: Numeric (float)\n",
      "\n",
      "                 Range: [0,1]                         Units: 1\n",
      "         Unique values: 2                         Missing .: 0/19,236\n",
      "\n",
      "            Tabulation: Freq.  Value\n",
      "                       16,101  0\n",
      "                        3,135  1\n",
      "\n",
      "-------------------------------------------------------------------------------\n",
      "wasting                                                           (max) wasting\n",
      "-------------------------------------------------------------------------------\n",
      "\n",
      "                  Type: Numeric (float)\n",
      "\n",
      "                 Range: [0,1]                         Units: 1\n",
      "         Unique values: 2                         Missing .: 0/19,236\n",
      "\n",
      "            Tabulation: Freq.  Value\n",
      "                       17,207  0\n",
      "                        2,029  1\n",
      "\n",
      "-------------------------------------------------------------------------------\n",
      "underweight                                                   (max) underweight\n",
      "-------------------------------------------------------------------------------\n",
      "\n",
      "                  Type: Numeric (float)\n",
      "\n",
      "                 Range: [0,1]                         Units: 1\n",
      "         Unique values: 2                         Missing .: 0/19,236\n",
      "\n",
      "            Tabulation: Freq.  Value\n",
      "                       18,514  0\n",
      "                          722  1\n",
      "\n",
      "-------------------------------------------------------------------------------\n",
      "v005                                                                 (max) v005\n",
      "-------------------------------------------------------------------------------\n",
      "\n",
      "                  Type: Numeric (long)\n",
      "\n",
      "                 Range: [103280,13411626]             Units: 1\n",
      "         Unique values: 1,367                     Missing .: 0/19,236\n",
      "\n",
      "                  Mean: 1.0e+06\n",
      "             Std. dev.:  660131\n",
      "\n",
      "           Percentiles:     10%       25%       50%       75%       90%\n",
      "                         431577    612606    874391   1.2e+06   1.7e+06\n",
      "\n",
      "-------------------------------------------------------------------------------\n",
      "v021                                                                 (max) v021\n",
      "-------------------------------------------------------------------------------\n",
      "\n",
      "                  Type: Numeric (int)\n",
      "\n",
      "                 Range: [1,1400]                      Units: 1\n",
      "         Unique values: 1,389                     Missing .: 0/19,236\n",
      "\n",
      "                  Mean: 636.883\n",
      "             Std. dev.: 379.728\n",
      "\n",
      "           Percentiles:     10%       25%       50%       75%       90%\n",
      "                            150       329       599       916      1219\n",
      "\n",
      "-------------------------------------------------------------------------------\n",
      "v022                                                                 (max) v022\n",
      "-------------------------------------------------------------------------------\n",
      "\n",
      "                  Type: Numeric (byte)\n",
      "\n",
      "                 Range: [1,74]                        Units: 1\n",
      "         Unique values: 74                        Missing .: 0/19,236\n",
      "\n",
      "                  Mean: 34.7161\n",
      "             Std. dev.: 19.8739\n",
      "\n",
      "           Percentiles:     10%       25%       50%       75%       90%\n",
      "                              9        19        32        49        65\n",
      "\n",
      "-------------------------------------------------------------------------------\n",
      "num_children                                                         (count) b8\n",
      "-------------------------------------------------------------------------------\n",
      "\n",
      "                  Type: Numeric (long)\n",
      "\n",
      "                 Range: [0,9]                         Units: 1\n",
      "         Unique values: 9                         Missing .: 0/19,236\n",
      "\n",
      "            Tabulation: Freq.  Value\n",
      "                          610  0\n",
      "                        9,700  1\n",
      "                        6,708  2\n",
      "                        1,527  3\n",
      "                          498  4\n",
      "                          147  5\n",
      "                           35  6\n",
      "                           10  7\n",
      "                            1  9\n",
      "\n",
      "-------------------------------------------------------------------------------\n",
      "v190                                                               (first) v190\n",
      "-------------------------------------------------------------------------------\n",
      "\n",
      "                  Type: Numeric (byte)\n",
      "\n",
      "                 Range: [1,5]                         Units: 1\n",
      "         Unique values: 5                         Missing .: 0/19,236\n",
      "\n",
      "            Tabulation: Freq.  Value\n",
      "                        4,223  1\n",
      "                        4,127  2\n",
      "                        4,064  3\n",
      "                        3,708  4\n",
      "                        3,114  5\n",
      "\n",
      "-------------------------------------------------------------------------------\n",
      "household_wealth                                       (first) household_wealth\n",
      "-------------------------------------------------------------------------------\n",
      "\n",
      "                  Type: Numeric (byte)\n",
      "                 Label: wealth_lbl\n",
      "\n",
      "                 Range: [1,3]                         Units: 1\n",
      "         Unique values: 3                         Missing .: 0/19,236\n",
      "\n",
      "            Tabulation: Freq.   Numeric  Label\n",
      "                        8,350         1  Poor\n",
      "                        4,064         2  Average\n",
      "                        6,822         3  Rich\n",
      "\n",
      "-------------------------------------------------------------------------------\n",
      "residence_type                                                   residence_type\n",
      "-------------------------------------------------------------------------------\n",
      "\n",
      "                  Type: Numeric (float)\n"
     ]
    },
    {
     "name": "stdout",
     "output_type": "stream",
     "text": [
      "                 Label: residence_lbl\n",
      "\n",
      "                 Range: [0,1]                         Units: 1\n",
      "         Unique values: 2                         Missing .: 0/19,236\n",
      "\n",
      "            Tabulation: Freq.   Numeric  Label\n",
      "                       12,046         0  Rural\n",
      "                        7,190         1  Urban\n",
      "\n",
      "-------------------------------------------------------------------------------\n",
      "geopolitical_region                                         geopolitical_region\n",
      "-------------------------------------------------------------------------------\n",
      "\n",
      "                  Type: Numeric (byte)\n",
      "                 Label: region_lbl\n",
      "\n",
      "                 Range: [1,6]                         Units: 1\n",
      "         Unique values: 6                         Missing .: 0/19,236\n",
      "\n",
      "            Tabulation: Freq.   Numeric  Label\n",
      "                        3,504         1  North Central\n",
      "                        3,749         2  North East\n",
      "                        5,152         3  North West\n",
      "                        2,256         4  South East\n",
      "                        2,079         5  South South\n",
      "                        2,496         6  South West\n",
      "\n",
      "-------------------------------------------------------------------------------\n",
      "mother_education                                               mother_education\n",
      "-------------------------------------------------------------------------------\n",
      "\n",
      "                  Type: Numeric (byte)\n",
      "                 Label: educ_lbl\n",
      "\n",
      "                 Range: [0,3]                         Units: 1\n",
      "         Unique values: 4                         Missing .: 0/19,236\n",
      "\n",
      "            Tabulation: Freq.   Numeric  Label\n",
      "                        7,825         0  No Education\n",
      "                        3,090         1  Primary\n",
      "                        6,574         2  Secondary\n",
      "                        1,747         3  Higher\n"
     ]
    }
   ],
   "source": [
    "codebook"
   ]
  },
  {
   "cell_type": "code",
   "execution_count": 37,
   "id": "c694f5e4",
   "metadata": {},
   "outputs": [
    {
     "name": "stdout",
     "output_type": "stream",
     "text": [
      "\n",
      "    Variable |        Obs        Mean    Std. dev.       Min        Max\n",
      "-------------+---------------------------------------------------------\n",
      "    stunting |     19,236    .1629757    .3693531          0          1\n",
      "     wasting |     19,236    .1054793     .307178          0          1\n",
      " underweight |     19,236    .0375338    .1900707          0          1\n",
      "household_~h |     19,236    1.920566    .8845679          1          3\n",
      "mother_edu~n |     19,236    1.116604     1.04799          0          3\n",
      "-------------+---------------------------------------------------------\n",
      "residence_~e |     19,236    .3737783    .4838184          0          1\n",
      "geopolitic~n |     19,236    3.163496    1.616892          1          6\n"
     ]
    }
   ],
   "source": [
    "summarize stunting wasting underweight household_wealth mother_education residence_type geopolitical_region"
   ]
  },
  {
   "cell_type": "code",
   "execution_count": 38,
   "id": "d3f661dd",
   "metadata": {},
   "outputs": [
    {
     "name": "stdout",
     "output_type": "stream",
     "text": [
      "\n",
      "Variable      Storage   Display    Value\n",
      "    name         type    format    label      Variable label\n",
      "-------------------------------------------------------------------------------\n",
      "residence_type  float   %9.0g      residence_lbl\n",
      "                                              residence_type\n"
     ]
    }
   ],
   "source": [
    "describe residence_type\n"
   ]
  },
  {
   "cell_type": "code",
   "execution_count": 39,
   "id": "825ffe3e",
   "metadata": {},
   "outputs": [
    {
     "name": "stdout",
     "output_type": "stream",
     "text": [
      "\n",
      "Summary for variables: stunting wasting underweight household_wealth geopolitic\n",
      "> al_region\n",
      "Group variable: residence_type (residence_type)\n",
      "\n",
      "residence_type |      Mean        SD         N\n",
      "---------------+------------------------------\n",
      "         Rural |  .1817201  .3856297     12046\n",
      "               |   .120704  .3257965     12046\n",
      "               |  .0420887  .2007998     12046\n",
      "               |  1.561182  .7720958     12046\n",
      "               |    2.8392  1.441988     12046\n",
      "---------------+------------------------------\n",
      "         Urban |  .1315716   .338048      7190\n",
      "               |  .0799722   .271269      7190\n",
      "               |  .0299026  .1703306      7190\n",
      "               |   2.52267  .7181649      7190\n",
      "               |  3.706815  1.743456      7190\n",
      "---------------+------------------------------\n",
      "         Total |  .1629757  .3693531     19236\n",
      "               |  .1054793   .307178     19236\n",
      "               |  .0375338  .1900707     19236\n",
      "               |  1.920566  .8845679     19236\n",
      "               |  3.163496  1.616892     19236\n",
      "----------------------------------------------\n"
     ]
    }
   ],
   "source": [
    "tabstat stunting wasting underweight household_wealth geopolitical_region, by(residence_type) statistics(mean sd count) columns(statistics)\n"
   ]
  },
  {
   "cell_type": "markdown",
   "id": "a0c06e9c",
   "metadata": {},
   "source": [
    "Does household wealth impact each child health outcome? Association?"
   ]
  },
  {
   "cell_type": "code",
   "execution_count": 40,
   "id": "4b2c0705",
   "metadata": {},
   "outputs": [
    {
     "name": "stdout",
     "output_type": "stream",
     "text": [
      "\n",
      "     (max) |     (first) household_wealth\n",
      "  stunting |      Poor    Average       Rich |     Total\n",
      "-----------+---------------------------------+----------\n",
      "         0 |     6,661      3,353      6,087 |    16,101 \n",
      "         1 |     1,689        711        735 |     3,135 \n",
      "-----------+---------------------------------+----------\n",
      "     Total |     8,350      4,064      6,822 |    19,236 \n",
      "\n",
      "          Pearson chi2(2) = 251.3893   Pr = 0.000\n",
      "\n",
      "     (max) |     (first) household_wealth\n",
      "   wasting |      Poor    Average       Rich |     Total\n",
      "-----------+---------------------------------+----------\n",
      "         0 |     7,198      3,639      6,370 |    17,207 \n",
      "         1 |     1,152        425        452 |     2,029 \n",
      "-----------+---------------------------------+----------\n",
      "     Total |     8,350      4,064      6,822 |    19,236 \n",
      "\n",
      "          Pearson chi2(2) = 204.6564   Pr = 0.000\n",
      "\n",
      "     (max) |\n",
      "underweigh |     (first) household_wealth\n",
      "         t |      Poor    Average       Rich |     Total\n",
      "-----------+---------------------------------+----------\n",
      "         0 |     7,968      3,912      6,634 |    18,514 \n",
      "         1 |       382        152        188 |       722 \n",
      "-----------+---------------------------------+----------\n",
      "     Total |     8,350      4,064      6,822 |    19,236 \n",
      "\n",
      "          Pearson chi2(2) =  34.3932   Pr = 0.000\n"
     ]
    }
   ],
   "source": [
    "tab stunting household_wealth, chi2\n",
    "tab wasting household_wealth, chi2\n",
    "tab underweight household_wealth, chi2"
   ]
  },
  {
   "cell_type": "markdown",
   "id": "02d32443",
   "metadata": {},
   "source": [
    "With p-value less than 0.05, household wealth is significantly asscociated with stunting, wasting, and underweight. While stunting and wasting have strong association with household wealth, underweight is relatively weaker (34.393). "
   ]
  },
  {
   "cell_type": "markdown",
   "id": "50a2e8ac",
   "metadata": {},
   "source": [
    "Logistic regression for each dependent variable"
   ]
  },
  {
   "cell_type": "code",
   "execution_count": 41,
   "id": "da4db6f2",
   "metadata": {},
   "outputs": [
    {
     "name": "stdout",
     "output_type": "stream",
     "text": [
      "\n",
      "Iteration 0:  Log likelihood = -8551.7763  \n",
      "Iteration 1:  Log likelihood = -8422.5142  \n",
      "Iteration 2:  Log likelihood = -8420.3499  \n",
      "Iteration 3:  Log likelihood = -8420.3485  \n",
      "Iteration 4:  Log likelihood = -8420.3485  \n",
      "\n",
      "Logistic regression                                     Number of obs = 19,236\n",
      "                                                        LR chi2(2)    = 262.86\n",
      "                                                        Prob > chi2   = 0.0000\n",
      "Log likelihood = -8420.3485                             Pseudo R2     = 0.0154\n",
      "\n",
      "------------------------------------------------------------------------------\n",
      "    stunting | Odds ratio   Std. err.      z    P>|z|     [95% conf. interval]\n",
      "-------------+----------------------------------------------------------------\n",
      "household_~h |\n",
      "    Average  |   .8362687    .041367    -3.61   0.000     .7589971     .921407\n",
      "       Rich  |   .4762049   .0226737   -15.58   0.000     .4337758     .522784\n",
      "             |\n",
      "       _cons |   .2535655   .0069079   -50.37   0.000     .2403813    .2674728\n",
      "------------------------------------------------------------------------------\n",
      "Note: _cons estimates baseline odds.\n"
     ]
    }
   ],
   "source": [
    "logit stunting i.household_wealth, or"
   ]
  },
  {
   "cell_type": "code",
   "execution_count": 42,
   "id": "f1cabf98",
   "metadata": {},
   "outputs": [
    {
     "name": "stdout",
     "output_type": "stream",
     "text": [
      "\n",
      "Iteration 0:  Log likelihood = -6481.7258  \n",
      "Iteration 1:  Log likelihood = -6378.0914  \n",
      "Iteration 2:  Log likelihood = -6375.4966  \n",
      "Iteration 3:  Log likelihood = -6375.4938  \n",
      "Iteration 4:  Log likelihood = -6375.4938  \n",
      "\n",
      "Logistic regression                                     Number of obs = 19,236\n",
      "                                                        LR chi2(2)    = 212.46\n",
      "                                                        Prob > chi2   = 0.0000\n",
      "Log likelihood = -6375.4938                             Pseudo R2     = 0.0164\n",
      "\n",
      "------------------------------------------------------------------------------\n",
      "     wasting | Odds ratio   Std. err.      z    P>|z|     [95% conf. interval]\n",
      "-------------+----------------------------------------------------------------\n",
      "household_~h |\n",
      "    Average  |   .7297368   .0439949    -5.23   0.000     .6484081    .8212664\n",
      "       Rich  |   .4433619   .0257622   -14.00   0.000     .3956381    .4968424\n",
      "             |\n",
      "       _cons |   .1600445   .0050787   -57.74   0.000     .1503936    .1703146\n",
      "------------------------------------------------------------------------------\n",
      "Note: _cons estimates baseline odds.\n"
     ]
    }
   ],
   "source": [
    "logit wasting i.household_wealth, or"
   ]
  },
  {
   "cell_type": "code",
   "execution_count": 43,
   "id": "83dcc47e",
   "metadata": {},
   "outputs": [
    {
     "name": "stdout",
     "output_type": "stream",
     "text": [
      "\n",
      "Iteration 0:  Log likelihood = -3078.2524  \n",
      "Iteration 1:  Log likelihood = -3060.8747  \n",
      "Iteration 2:  Log likelihood = -3060.6223  \n",
      "Iteration 3:  Log likelihood = -3060.6223  \n",
      "\n",
      "Logistic regression                                     Number of obs = 19,236\n",
      "                                                        LR chi2(2)    =  35.26\n",
      "                                                        Prob > chi2   = 0.0000\n",
      "Log likelihood = -3060.6223                             Pseudo R2     = 0.0057\n",
      "\n",
      "------------------------------------------------------------------------------\n",
      " underweight | Odds ratio   Std. err.      z    P>|z|     [95% conf. interval]\n",
      "-------------+----------------------------------------------------------------\n",
      "household_~h |\n",
      "    Average  |   .8104583   .0793168    -2.15   0.032     .6690006    .9818269\n",
      "       Rich  |   .5911103   .0535703    -5.80   0.000     .4949108    .7060087\n",
      "             |\n",
      "       _cons |   .0479418    .002511   -58.00   0.000     .0432644    .0531248\n",
      "------------------------------------------------------------------------------\n",
      "Note: _cons estimates baseline odds.\n"
     ]
    }
   ],
   "source": [
    "logit underweight i.household_wealth, or"
   ]
  },
  {
   "cell_type": "markdown",
   "id": "d6b8038c",
   "metadata": {},
   "source": [
    "Adjusted model with covariates"
   ]
  },
  {
   "cell_type": "code",
   "execution_count": 44,
   "id": "beedff53",
   "metadata": {},
   "outputs": [
    {
     "name": "stdout",
     "output_type": "stream",
     "text": [
      "\n",
      "Iteration 0:  Log likelihood = -8551.7763  \n",
      "Iteration 1:  Log likelihood =   -8324.85  \n",
      "Iteration 2:  Log likelihood = -8316.7036  \n",
      "Iteration 3:  Log likelihood = -8316.6728  \n",
      "Iteration 4:  Log likelihood = -8316.6728  \n",
      "\n",
      "Logistic regression                                     Number of obs = 19,236\n",
      "                                                        LR chi2(11)   = 470.21\n",
      "                                                        Prob > chi2   = 0.0000\n",
      "Log likelihood = -8316.6728                             Pseudo R2     = 0.0275\n",
      "\n",
      "------------------------------------------------------------------------------\n",
      "    stunting | Odds ratio   Std. err.      z    P>|z|     [95% conf. interval]\n",
      "-------------+----------------------------------------------------------------\n",
      "household_~h |\n",
      "    Average  |   1.036542   .0563805     0.66   0.509     .9317243    1.153151\n",
      "       Rich  |   .7479092   .0486728    -4.46   0.000     .6583456    .8496573\n",
      "             |\n",
      "mother_edu~n |\n",
      "    Primary  |   .9628822   .0573534    -0.64   0.525     .8567851    1.082117\n",
      "  Secondary  |   .6629901   .0406307    -6.71   0.000     .5879521    .7476049\n",
      "     Higher  |   .3979659   .0439323    -8.35   0.000     .3205383    .4940965\n",
      "             |\n",
      "residence_~e |\n",
      "      Urban  |   .9686578   .0497548    -0.62   0.535     .8758882    1.071253\n",
      "             |\n",
      "geopolitic~n |\n",
      " North East  |   1.299766   .0873813     3.90   0.000     1.139305    1.482826\n",
      " North West  |   1.506313   .0955086     6.46   0.000     1.330284    1.705635\n",
      " South East  |   1.109938   .0951805     1.22   0.224     .9382218    1.313081\n",
      "South South  |   1.016336   .0895119     0.18   0.854     .8552032    1.207828\n",
      " South West  |   1.335548   .1079831     3.58   0.000     1.139822    1.564882\n",
      "             |\n",
      "       _cons |   .2060885   .0123356   -26.39   0.000     .1832755    .2317411\n",
      "------------------------------------------------------------------------------\n",
      "Note: _cons estimates baseline odds.\n"
     ]
    }
   ],
   "source": [
    "logit stunting i.household_wealth i.mother_education i.residence_type i.geopolitical_region, or\n"
   ]
  },
  {
   "cell_type": "code",
   "execution_count": 45,
   "id": "57dde59e",
   "metadata": {},
   "outputs": [
    {
     "name": "stdout",
     "output_type": "stream",
     "text": [
      "\n",
      "Iteration 0:  Log likelihood = -6481.7258  \n",
      "Iteration 1:  Log likelihood =  -6280.678  \n",
      "Iteration 2:  Log likelihood = -6271.0565  \n",
      "Iteration 3:  Log likelihood = -6271.0198  \n",
      "Iteration 4:  Log likelihood = -6271.0198  \n",
      "\n",
      "Logistic regression                                     Number of obs = 19,236\n",
      "                                                        LR chi2(11)   = 421.41\n",
      "                                                        Prob > chi2   = 0.0000\n",
      "Log likelihood = -6271.0198                             Pseudo R2     = 0.0325\n",
      "\n",
      "------------------------------------------------------------------------------\n",
      "     wasting | Odds ratio   Std. err.      z    P>|z|     [95% conf. interval]\n",
      "-------------+----------------------------------------------------------------\n",
      "household_~h |\n",
      "    Average  |   .9912076   .0656196    -0.13   0.894       .87059    1.128536\n",
      "       Rich  |    .782622   .0628438    -3.05   0.002     .6686539    .9160154\n",
      "             |\n",
      "mother_edu~n |\n",
      "    Primary  |   .7201026   .0537913    -4.40   0.000     .6220282    .8336404\n",
      "  Secondary  |    .556362   .0422032    -7.73   0.000     .4795004     .645544\n",
      "     Higher  |   .4233195   .0554938    -6.56   0.000      .327403    .5473359\n",
      "             |\n",
      "residence_~e |\n",
      "      Urban  |   .9244463   .0582597    -1.25   0.213     .8170299    1.045985\n",
      "             |\n",
      "geopolitic~n |\n",
      " North East  |    1.50598   .1255494     4.91   0.000      1.27896    1.773297\n",
      " North West  |   1.753762   .1382217     7.13   0.000      1.50274    2.046716\n",
      " South East  |   1.297258   .1414768     2.39   0.017     1.047601    1.606412\n",
      "South South  |   1.117297   .1266266     0.98   0.328     .8947451    1.395204\n",
      " South West  |   1.505217   .1538538     4.00   0.000     1.231955    1.839093\n",
      "             |\n",
      "       _cons |   .1210616   .0090535   -28.23   0.000     .1045563    .1401724\n",
      "------------------------------------------------------------------------------\n",
      "Note: _cons estimates baseline odds.\n"
     ]
    }
   ],
   "source": [
    "logit wasting i.household_wealth i.mother_education i.residence_type i.geopolitical_region, or"
   ]
  },
  {
   "cell_type": "code",
   "execution_count": 46,
   "id": "d5bfdf1e",
   "metadata": {},
   "outputs": [
    {
     "name": "stdout",
     "output_type": "stream",
     "text": [
      "\n",
      "Iteration 0:  Log likelihood = -3078.2524  \n",
      "Iteration 1:  Log likelihood =  -3040.835  \n",
      "Iteration 2:  Log likelihood = -3039.6909  \n",
      "Iteration 3:  Log likelihood = -3039.6894  \n",
      "Iteration 4:  Log likelihood = -3039.6894  \n",
      "\n",
      "Logistic regression                                     Number of obs = 19,236\n",
      "                                                        LR chi2(11)   =  77.13\n",
      "                                                        Prob > chi2   = 0.0000\n",
      "Log likelihood = -3039.6894                             Pseudo R2     = 0.0125\n",
      "\n",
      "------------------------------------------------------------------------------\n",
      " underweight | Odds ratio   Std. err.      z    P>|z|     [95% conf. interval]\n",
      "-------------+----------------------------------------------------------------\n",
      "household_~h |\n",
      "    Average  |   1.028292   .1100325     0.26   0.794     .8337459    1.268234\n",
      "       Rich  |   .9047459   .1145332    -0.79   0.429     .7059464    1.159529\n",
      "             |\n",
      "mother_edu~n |\n",
      "    Primary  |   .7365567    .091109    -2.47   0.013     .5779844     .938634\n",
      "  Secondary  |   .7163527   .0854556    -2.80   0.005     .5670023    .9050426\n",
      "     Higher  |   .6520604   .1244033    -2.24   0.025     .4486332    .9477291\n",
      "             |\n",
      "residence_~e |\n",
      "      Urban  |   .8592674   .0859978    -1.52   0.130     .7062164    1.045488\n",
      "             |\n",
      "geopolitic~n |\n",
      " North East  |   1.398597   .1828561     2.57   0.010     1.082441    1.807094\n",
      " North West  |   1.446546   .1806987     2.96   0.003     1.132407    1.847831\n",
      " South East  |   1.394168   .2237476     2.07   0.038     1.017905    1.909514\n",
      "South South  |   .8874858   .1608826    -0.66   0.510     .6220946    1.266095\n",
      " South West  |   1.153926    .188453     0.88   0.381     .8378463    1.589248\n",
      "             |\n",
      "       _cons |   .0400384   .0047318   -27.23   0.000       .03176    .0504745\n",
      "------------------------------------------------------------------------------\n",
      "Note: _cons estimates baseline odds.\n"
     ]
    }
   ],
   "source": [
    "logit underweight i.household_wealth i.mother_education i.residence_type i.geopolitical_region, or"
   ]
  },
  {
   "cell_type": "markdown",
   "id": "49c12e90",
   "metadata": {},
   "source": [
    "2-way Interaction"
   ]
  },
  {
   "cell_type": "markdown",
   "id": "cad065b8",
   "metadata": {},
   "source": [
    "Tesing whether the effect of household wealth on the child health outcomes differs between rural and urban areas, controlling for region"
   ]
  },
  {
   "cell_type": "code",
   "execution_count": 48,
   "id": "eeee66b0",
   "metadata": {},
   "outputs": [
    {
     "name": "stdout",
     "output_type": "stream",
     "text": [
      "\n",
      "Iteration 0:  Log likelihood = -8551.7763  \n",
      "Iteration 1:  Log likelihood = -8371.3002  \n",
      "Iteration 2:  Log likelihood = -8367.4146  \n",
      "Iteration 3:  Log likelihood = -8367.4111  \n",
      "Iteration 4:  Log likelihood = -8367.4111  \n",
      "\n",
      "Logistic regression                                     Number of obs = 19,236\n",
      "                                                        LR chi2(10)   = 368.73\n",
      "                                                        Prob > chi2   = 0.0000\n",
      "Log likelihood = -8367.4111                             Pseudo R2     = 0.0216\n",
      "\n",
      "------------------------------------------------------------------------------\n",
      "    stunting | Odds ratio   Std. err.      z    P>|z|     [95% conf. interval]\n",
      "-------------+----------------------------------------------------------------\n",
      "household_~h |\n",
      "    Average  |   .9519847   .0588917    -0.80   0.426     .8432823    1.074699\n",
      "       Rich  |   .6144336   .0496171    -6.03   0.000     .5244913    .7197998\n",
      "             |\n",
      "residence_~e |\n",
      "      Urban  |    .976367   .0880471    -0.27   0.791     .8181882    1.165126\n",
      "             |\n",
      "household_~h#|\n",
      "residence_~e |\n",
      "    Average #|\n",
      "      Urban  |   .9943593   .1230066    -0.05   0.964      .780272    1.267187\n",
      " Rich#Urban  |   .9036235   .1123113    -0.82   0.415     .7082584    1.152878\n",
      "             |\n",
      "geopolitic~n |\n",
      " North East  |   1.389084   .0923903     4.94   0.000     1.219309    1.582499\n",
      " North West  |    1.65613    .102044     8.19   0.000     1.467733    1.868711\n",
      " South East  |   1.015444   .0860503     0.18   0.856       .86005    1.198914\n",
      "South South  |   .9295344   .0806111    -0.84   0.399     .7842375    1.101751\n",
      " South West  |    1.25756   .1007188     2.86   0.004     1.074869    1.471303\n",
      "             |\n",
      "       _cons |    .184129    .010454   -29.80   0.000     .1647384     .205802\n",
      "------------------------------------------------------------------------------\n",
      "Note: _cons estimates baseline odds.\n"
     ]
    }
   ],
   "source": [
    "logit stunting i.household_wealth##i.residence_type i.geopolitical_region, or"
   ]
  },
  {
   "cell_type": "code",
   "execution_count": 49,
   "id": "714404e5",
   "metadata": {},
   "outputs": [
    {
     "name": "stdout",
     "output_type": "stream",
     "text": [
      "\n",
      "Iteration 0:  Log likelihood = -6481.7258  \n",
      "Iteration 1:  Log likelihood = -6314.5433  \n",
      "Iteration 2:  Log likelihood = -6308.1602  \n",
      "Iteration 3:  Log likelihood = -6308.1485  \n",
      "Iteration 4:  Log likelihood = -6308.1485  \n",
      "\n",
      "Logistic regression                                     Number of obs = 19,236\n",
      "                                                        LR chi2(10)   = 347.15\n",
      "                                                        Prob > chi2   = 0.0000\n",
      "Log likelihood = -6308.1485                             Pseudo R2     = 0.0268\n",
      "\n",
      "------------------------------------------------------------------------------\n",
      "     wasting | Odds ratio   Std. err.      z    P>|z|     [95% conf. interval]\n",
      "-------------+----------------------------------------------------------------\n",
      "household_~h |\n",
      "    Average  |   .8195034   .0624126    -2.61   0.009      .705869    .9514313\n",
      "       Rich  |   .6039157    .059924    -5.08   0.000     .4971818     .733563\n",
      "             |\n",
      "residence_~e |\n",
      "      Urban  |   .7890145   .0891915    -2.10   0.036     .6322136    .9847051\n",
      "             |\n",
      "household_~h#|\n",
      "residence_~e |\n",
      "    Average #|\n",
      "      Urban  |    1.32335   .2036181     1.82   0.069     .9788224    1.789144\n",
      " Rich#Urban  |    1.09007   .1692331     0.56   0.579     .8040919    1.477758\n",
      "             |\n",
      "geopolitic~n |\n",
      " North East  |   1.655221   .1366253     6.11   0.000     1.407978    1.945879\n",
      " North West  |    2.02176   .1553852     9.16   0.000     1.739039    2.350444\n",
      " South East  |   1.125509   .1211119     1.10   0.272      .911495    1.389772\n",
      "South South  |   .9748759   .1087265    -0.23   0.820     .7834585    1.213061\n",
      " South West  |    1.37275   .1390032     3.13   0.002      1.12564    1.674107\n",
      "             |\n",
      "       _cons |   .1013102   .0072653   -31.93   0.000      .088026    .1165992\n",
      "------------------------------------------------------------------------------\n",
      "Note: _cons estimates baseline odds.\n"
     ]
    }
   ],
   "source": [
    "logit wasting i.household_wealth##i.residence_type i.geopolitical_region, or"
   ]
  },
  {
   "cell_type": "code",
   "execution_count": 50,
   "id": "0186cf16",
   "metadata": {},
   "outputs": [
    {
     "name": "stdout",
     "output_type": "stream",
     "text": [
      "\n",
      "Iteration 0:  Log likelihood = -3078.2524  \n",
      "Iteration 1:  Log likelihood = -3045.8569  \n",
      "Iteration 2:  Log likelihood = -3044.9613  \n",
      "Iteration 3:  Log likelihood = -3044.9601  \n",
      "Iteration 4:  Log likelihood = -3044.9601  \n",
      "\n",
      "Logistic regression                                     Number of obs = 19,236\n",
      "                                                        LR chi2(10)   =  66.58\n",
      "                                                        Prob > chi2   = 0.0000\n",
      "Log likelihood = -3044.9601                             Pseudo R2     = 0.0108\n",
      "\n",
      "------------------------------------------------------------------------------\n",
      " underweight | Odds ratio   Std. err.      z    P>|z|     [95% conf. interval]\n",
      "-------------+----------------------------------------------------------------\n",
      "household_~h |\n",
      "    Average  |   .9263909   .1125365    -0.63   0.529     .7301156     1.17543\n",
      "       Rich  |   .8211131    .122652    -1.32   0.187     .6127124    1.100397\n",
      "             |\n",
      "residence_~e |\n",
      "      Urban  |   .8377511   .1531277    -0.97   0.333     .5855025    1.198674\n",
      "             |\n",
      "household_~h#|\n",
      "residence_~e |\n",
      "    Average #|\n",
      "      Urban  |   1.090174   .2717169     0.35   0.729     .6688683     1.77685\n",
      " Rich#Urban  |   .9435411   .2285073    -0.24   0.810     .5869707    1.516719\n",
      "             |\n",
      "geopolitic~n |\n",
      " North East  |   1.498503   .1939904     3.12   0.002     1.162691    1.931305\n",
      " North West  |   1.593588   .1936901     3.83   0.000     1.255793    2.022246\n",
      " South East  |   1.276579   .2026449     1.54   0.124     .9352494     1.74248\n",
      "South South  |   .8190591   .1466701    -1.11   0.265     .5766195    1.163432\n",
      " South West  |   1.101277   .1786718     0.59   0.552     .8013032    1.513547\n",
      "             |\n",
      "       _cons |   .0349337   .0039431   -29.72   0.000     .0280006    .0435835\n",
      "------------------------------------------------------------------------------\n",
      "Note: _cons estimates baseline odds.\n"
     ]
    }
   ],
   "source": [
    "logit underweight i.household_wealth##i.residence_type i.geopolitical_region, or"
   ]
  },
  {
   "cell_type": "markdown",
   "id": "8abd17bf",
   "metadata": {},
   "source": [
    "Within region analysis"
   ]
  },
  {
   "cell_type": "code",
   "execution_count": 51,
   "id": "3bbbc212",
   "metadata": {},
   "outputs": [
    {
     "name": "stdout",
     "output_type": "stream",
     "text": [
      "1 2 3 4 5 6\n",
      "\n",
      "Iteration 0:  Log likelihood = -1366.1645  \n",
      "Iteration 1:  Log likelihood = -1344.5779  \n",
      "Iteration 2:  Log likelihood = -1344.1157  \n",
      "Iteration 3:  Log likelihood = -1344.1153  \n",
      "Iteration 4:  Log likelihood = -1344.1153  \n",
      "\n",
      "Logistic regression                                     Number of obs =  3,504\n",
      "                                                        LR chi2(5)    =  44.10\n",
      "                                                        Prob > chi2   = 0.0000\n",
      "Log likelihood = -1344.1153                             Pseudo R2     = 0.0161\n",
      "\n",
      "------------------------------------------------------------------------------\n",
      "    stunting | Odds ratio   Std. err.      z    P>|z|     [95% conf. interval]\n",
      "-------------+----------------------------------------------------------------\n",
      "household_~h |\n",
      "    Average  |    .721174   .0987063    -2.39   0.017     .5514892    .9430683\n",
      "       Rich  |   .5073271   .0907207    -3.79   0.000      .357335    .7202788\n",
      "             |\n",
      "residence_~e |\n",
      "      Urban  |   1.036688   .2505773     0.15   0.882     .6455121    1.664913\n",
      "             |\n",
      "household_~h#|\n",
      "residence_~e |\n",
      "    Average #|\n",
      "      Urban  |   1.223302   .4053345     0.61   0.543     .6389877    2.341934\n",
      " Rich#Urban  |   .8255057   .2626318    -0.60   0.547     .4424999    1.540022\n",
      "             |\n",
      "       _cons |   .2054264   .0154903   -20.99   0.000      .177203    .2381449\n",
      "------------------------------------------------------------------------------\n",
      "Note: _cons estimates baseline odds.\n",
      "\n",
      "Iteration 0:  Log likelihood = -921.30443  \n",
      "Iteration 1:  Log likelihood = -915.86289  \n",
      "Iteration 2:  Log likelihood = -915.76808  \n",
      "Iteration 3:  Log likelihood = -915.76802  \n",
      "\n",
      "Logistic regression                                     Number of obs =  3,504\n",
      "                                                        LR chi2(5)    =  11.07\n",
      "                                                        Prob > chi2   = 0.0500\n",
      "Log likelihood = -915.76802                             Pseudo R2     = 0.0060\n",
      "\n",
      "------------------------------------------------------------------------------\n",
      "     wasting | Odds ratio   Std. err.      z    P>|z|     [95% conf. interval]\n",
      "-------------+----------------------------------------------------------------\n",
      "household_~h |\n",
      "    Average  |   .8588504   .1522321    -0.86   0.391     .6067938    1.215609\n",
      "       Rich  |   .7956793   .1685992    -1.08   0.281     .5252596    1.205319\n",
      "             |\n",
      "residence_~e |\n",
      "      Urban  |   .7838977   .2821303    -0.68   0.499     .3871737    1.587131\n",
      "             |\n",
      "household_~h#|\n",
      "residence_~e |\n",
      "    Average #|\n",
      "      Urban  |   1.694261   .7745701     1.15   0.249     .6915665    4.150749\n",
      " Rich#Urban  |   .9130661   .3978958    -0.21   0.835     .3886563    2.145056\n",
      "             |\n",
      "       _cons |   .0941073   .0095162   -23.37   0.000      .077188    .1147353\n",
      "------------------------------------------------------------------------------\n",
      "Note: _cons estimates baseline odds.\n",
      "\n",
      "Iteration 0:  Log likelihood = -464.74504  \n",
      "Iteration 1:  Log likelihood = -459.79935  \n",
      "Iteration 2:  Log likelihood = -459.59385  \n",
      "Iteration 3:  Log likelihood = -459.59341  \n",
      "Iteration 4:  Log likelihood = -459.59341  \n",
      "\n",
      "Logistic regression                                     Number of obs =  3,504\n",
      "                                                        LR chi2(5)    =  10.30\n",
      "                                                        Prob > chi2   = 0.0671\n",
      "Log likelihood = -459.59341                             Pseudo R2     = 0.0111\n",
      "\n",
      "------------------------------------------------------------------------------\n",
      " underweight | Odds ratio   Std. err.      z    P>|z|     [95% conf. interval]\n",
      "-------------+----------------------------------------------------------------\n",
      "household_~h |\n",
      "    Average  |   .8881481   .2350255    -0.45   0.654     .5287336     1.49188\n",
      "       Rich  |   .8018004   .2564435    -0.69   0.490     .4283735    1.500755\n",
      "             |\n",
      "residence_~e |\n",
      "      Urban  |   .6244792   .3768679    -0.78   0.435     .1913485    2.038032\n",
      "             |\n",
      "household_~h#|\n",
      "residence_~e |\n",
      "    Average #|\n",
      "      Urban  |   2.044257   1.504288     0.97   0.331     .4832476    8.647711\n",
      " Rich#Urban  |   .8042354   .5844046    -0.30   0.764     .1935754    3.341305\n",
      "             |\n",
      "       _cons |   .0375313   .0056989   -21.62   0.000     .0278705    .0505408\n",
      "------------------------------------------------------------------------------\n",
      "Note: _cons estimates baseline odds.\n",
      "\n",
      "Iteration 0:  Log likelihood = -1825.2979  \n",
      "Iteration 1:  Log likelihood = -1820.5973  \n",
      "Iteration 2:  Log likelihood = -1820.5724  \n",
      "Iteration 3:  Log likelihood = -1820.5724  \n",
      "\n",
      "Logistic regression                                     Number of obs =  3,749\n",
      "                                                        LR chi2(5)    =   9.45\n",
      "                                                        Prob > chi2   = 0.0924\n",
      "Log likelihood = -1820.5724                             Pseudo R2     = 0.0026\n",
      "\n",
      "------------------------------------------------------------------------------\n",
      "    stunting | Odds ratio   Std. err.      z    P>|z|     [95% conf. interval]\n",
      "-------------+----------------------------------------------------------------\n",
      "household_~h |\n",
      "    Average  |   .8950027   .1217232    -0.82   0.415     .6855802    1.168397\n",
      "       Rich  |   .5797176   .1684487    -1.88   0.061     .3280066    1.024591\n",
      "             |\n",
      "residence_~e |\n",
      "      Urban  |   1.004263   .2350465     0.02   0.985      .634782    1.588803\n",
      "             |\n",
      "household_~h#|\n",
      "residence_~e |\n",
      "    Average #|\n",
      "      Urban  |   1.028536   .3175846     0.09   0.927     .5615536    1.883857\n",
      " Rich#Urban  |   1.222651   .4809909     0.51   0.609     .5655095    2.643414\n",
      "             |\n",
      "       _cons |   .2515593   .0127921   -27.14   0.000      .227696    .2779234\n",
      "------------------------------------------------------------------------------\n",
      "Note: _cons estimates baseline odds.\n",
      "\n",
      "Iteration 0:  Log likelihood = -1449.7609  \n",
      "Iteration 1:  Log likelihood = -1440.8564  \n",
      "Iteration 2:  Log likelihood = -1440.6595  \n",
      "Iteration 3:  Log likelihood = -1440.6587  \n",
      "Iteration 4:  Log likelihood = -1440.6587  \n",
      "\n",
      "Logistic regression                                     Number of obs =  3,749\n",
      "                                                        LR chi2(5)    =  18.20\n",
      "                                                        Prob > chi2   = 0.0027\n",
      "Log likelihood = -1440.6587                             Pseudo R2     = 0.0063\n",
      "\n",
      "------------------------------------------------------------------------------\n",
      "     wasting | Odds ratio   Std. err.      z    P>|z|     [95% conf. interval]\n",
      "-------------+----------------------------------------------------------------\n",
      "household_~h |\n",
      "    Average  |   .6747013    .115424    -2.30   0.021     .4824951    .9434745\n",
      "       Rich  |   .3403681   .1442587    -2.54   0.011     .1483143    .7811146\n",
      "             |\n",
      "residence_~e |\n",
      "      Urban  |   .8509202    .240124    -0.57   0.567     .4894242    1.479422\n",
      "             |\n",
      "household_~h#|\n",
      "residence_~e |\n",
      "    Average #|\n",
      "      Urban  |   1.411317   .5301188     0.92   0.359     .6759217    2.946815\n",
      " Rich#Urban  |   2.275103   1.207667     1.55   0.121     .8038359    6.439239\n",
      "             |\n",
      "       _cons |   .1694998    .009812   -30.66   0.000     .1513195    .1898643\n",
      "------------------------------------------------------------------------------\n",
      "Note: _cons estimates baseline odds.\n",
      "\n",
      "Iteration 0:  Log likelihood = -704.11107  \n",
      "Iteration 1:  Log likelihood = -702.04318  \n",
      "Iteration 2:  Log likelihood = -701.93571  \n",
      "Iteration 3:  Log likelihood = -701.93543  \n",
      "Iteration 4:  Log likelihood = -701.93543  \n",
      "\n",
      "Logistic regression                                     Number of obs =  3,749\n",
      "                                                        LR chi2(5)    =   4.35\n",
      "                                                        Prob > chi2   = 0.5000\n",
      "Log likelihood = -701.93543                             Pseudo R2     = 0.0031\n",
      "\n",
      "------------------------------------------------------------------------------\n",
      " underweight | Odds ratio   Std. err.      z    P>|z|     [95% conf. interval]\n",
      "-------------+----------------------------------------------------------------\n",
      "household_~h |\n",
      "    Average  |   .9994552   .2481348    -0.00   0.998     .6143777     1.62589\n",
      "       Rich  |     .75242   .3899291    -0.55   0.583      .272483    2.077693\n",
      "             |\n",
      "residence_~e |\n",
      "      Urban  |   1.631383   .5866945     1.36   0.174     .8061918    3.301214\n",
      "             |\n",
      "household_~h#|\n",
      "residence_~e |\n",
      "    Average #|\n",
      "      Urban  |   .5800262   .3009022    -1.05   0.294     .2098296     1.60335\n",
      " Rich#Urban  |     .54931   .3736163    -0.88   0.378     .1448331    2.083373\n",
      "             |\n",
      "       _cons |   .0501526   .0047926   -31.32   0.000     .0415865    .0604832\n",
      "------------------------------------------------------------------------------\n",
      "Note: _cons estimates baseline odds.\n"
     ]
    },
    {
     "name": "stdout",
     "output_type": "stream",
     "text": [
      "\n",
      "Iteration 0:  Log likelihood = -2694.9527  \n",
      "Iteration 1:  Log likelihood = -2681.0198  \n",
      "Iteration 2:  Log likelihood = -2680.9389  \n",
      "Iteration 3:  Log likelihood = -2680.9389  \n",
      "\n",
      "Logistic regression                                     Number of obs =  5,152\n",
      "                                                        LR chi2(5)    =  28.03\n",
      "                                                        Prob > chi2   = 0.0000\n",
      "Log likelihood = -2680.9389                             Pseudo R2     = 0.0052\n",
      "\n",
      "------------------------------------------------------------------------------\n",
      "    stunting | Odds ratio   Std. err.      z    P>|z|     [95% conf. interval]\n",
      "-------------+----------------------------------------------------------------\n",
      "household_~h |\n",
      "    Average  |   1.046219   .1125691     0.42   0.675     .8472987     1.29184\n",
      "       Rich  |   .7739437   .1367017    -1.45   0.147     .5474716      1.0941\n",
      "             |\n",
      "residence_~e |\n",
      "      Urban  |   .9265838   .1322596    -0.53   0.593     .7004628      1.2257\n",
      "             |\n",
      "household_~h#|\n",
      "residence_~e |\n",
      "    Average #|\n",
      "      Urban  |   .8403854   .1839518    -0.79   0.427     .5472164    1.290618\n",
      " Rich#Urban  |   .7894735   .1973121    -0.95   0.344     .4837243    1.288479\n",
      "             |\n",
      "       _cons |   .3014862    .012908   -28.01   0.000     .2772194    .3278772\n",
      "------------------------------------------------------------------------------\n",
      "Note: _cons estimates baseline odds.\n",
      "\n",
      "Iteration 0:  Log likelihood = -2197.1296  \n",
      "Iteration 1:  Log likelihood =  -2171.584  \n",
      "Iteration 2:  Log likelihood = -2171.0206  \n",
      "Iteration 3:  Log likelihood = -2171.0201  \n",
      "Iteration 4:  Log likelihood = -2171.0201  \n",
      "\n",
      "Logistic regression                                     Number of obs =  5,152\n",
      "                                                        LR chi2(5)    =  52.22\n",
      "                                                        Prob > chi2   = 0.0000\n",
      "Log likelihood = -2171.0201                             Pseudo R2     = 0.0119\n",
      "\n",
      "------------------------------------------------------------------------------\n",
      "     wasting | Odds ratio   Std. err.      z    P>|z|     [95% conf. interval]\n",
      "-------------+----------------------------------------------------------------\n",
      "household_~h |\n",
      "    Average  |   .7692865   .0997362    -2.02   0.043     .5966667    .9918464\n",
      "       Rich  |   .6161161   .1318571    -2.26   0.024     .4050364    .9371973\n",
      "             |\n",
      "residence_~e |\n",
      "      Urban  |   .6924627   .1204661    -2.11   0.035     .4923964    .9738183\n",
      "             |\n",
      "household_~h#|\n",
      "residence_~e |\n",
      "    Average #|\n",
      "      Urban  |   1.265644   .3355345     0.89   0.374     .7527482    2.128008\n",
      " Rich#Urban  |   .9165568   .2839177    -0.28   0.778     .4994436    1.682024\n",
      "             |\n",
      "       _cons |   .2153053   .0101859   -32.46   0.000      .196239    .2362241\n",
      "------------------------------------------------------------------------------\n",
      "Note: _cons estimates baseline odds.\n",
      "\n",
      "Iteration 0:  Log likelihood = -1003.2275  \n",
      "Iteration 1:  Log likelihood =  -997.1844  \n",
      "Iteration 2:  Log likelihood = -997.03409  \n",
      "Iteration 3:  Log likelihood = -997.03384  \n",
      "Iteration 4:  Log likelihood = -997.03384  \n",
      "\n",
      "Logistic regression                                     Number of obs =  5,152\n",
      "                                                        LR chi2(5)    =  12.39\n",
      "                                                        Prob > chi2   = 0.0298\n",
      "Log likelihood = -997.03384                             Pseudo R2     = 0.0062\n",
      "\n",
      "------------------------------------------------------------------------------\n",
      " underweight | Odds ratio   Std. err.      z    P>|z|     [95% conf. interval]\n",
      "-------------+----------------------------------------------------------------\n",
      "household_~h |\n",
      "    Average  |   .8968423   .1877935    -0.52   0.603     .5949486    1.351925\n",
      "       Rich  |   .7240603   .2529743    -0.92   0.355     .3650728    1.436052\n",
      "             |\n",
      "residence_~e |\n",
      "      Urban  |   .7943885   .2260901    -0.81   0.419     .4547506     1.38769\n",
      "             |\n",
      "household_~h#|\n",
      "residence_~e |\n",
      "    Average #|\n",
      "      Urban  |   1.061146   .4603388     0.14   0.891     .4534329    2.483346\n",
      " Rich#Urban  |   .7750844   .3959265    -0.50   0.618     .2848004    2.109393\n",
      "             |\n",
      "       _cons |   .0583564   .0046181   -35.90   0.000     .0499721    .0681473\n",
      "------------------------------------------------------------------------------\n",
      "Note: _cons estimates baseline odds.\n",
      "\n",
      "Iteration 0:  Log likelihood = -826.34714  \n",
      "Iteration 1:  Log likelihood = -819.07999  \n",
      "Iteration 2:  Log likelihood = -818.96075  \n",
      "Iteration 3:  Log likelihood = -818.96072  \n",
      "\n",
      "Logistic regression                                     Number of obs =  2,256\n",
      "                                                        LR chi2(5)    =  14.77\n",
      "                                                        Prob > chi2   = 0.0114\n",
      "Log likelihood = -818.96072                             Pseudo R2     = 0.0089\n",
      "\n",
      "------------------------------------------------------------------------------\n",
      "    stunting | Odds ratio   Std. err.      z    P>|z|     [95% conf. interval]\n",
      "-------------+----------------------------------------------------------------\n",
      "household_~h |\n",
      "    Average  |   1.082561   .3877469     0.22   0.825     .5365041    2.184399\n",
      "       Rich  |   .8225438   .2753215    -0.58   0.559     .4268204    1.585159\n",
      "             |\n",
      "residence_~e |\n",
      "      Urban  |   1.285714   .4406176     0.73   0.463     .6568036    2.516827\n",
      "             |\n",
      "household_~h#|\n",
      "residence_~e |\n",
      "    Average #|\n",
      "      Urban  |   1.057754   .4455548     0.13   0.894      .463271    2.415093\n",
      " Rich#Urban  |   .7583877   .2992146    -0.70   0.483     .3499918     1.64333\n",
      "             |\n",
      "       _cons |   .1354167   .0400201    -6.77   0.000     .0758777    .2416742\n",
      "------------------------------------------------------------------------------\n",
      "Note: _cons estimates baseline odds.\n",
      "\n",
      "Iteration 0:  Log likelihood = -580.14436  \n",
      "Iteration 1:  Log likelihood = -574.57207  \n",
      "Iteration 2:  Log likelihood =   -574.398  \n",
      "Iteration 3:  Log likelihood = -574.39783  \n",
      "Iteration 4:  Log likelihood = -574.39783  \n",
      "\n",
      "Logistic regression                                     Number of obs =  2,256\n",
      "                                                        LR chi2(5)    =  11.49\n",
      "                                                        Prob > chi2   = 0.0424\n",
      "Log likelihood = -574.39783                             Pseudo R2     = 0.0099\n",
      "\n",
      "------------------------------------------------------------------------------\n",
      "     wasting | Odds ratio   Std. err.      z    P>|z|     [95% conf. interval]\n",
      "-------------+----------------------------------------------------------------\n",
      "household_~h |\n",
      "    Average  |   1.862687   .9681421     1.20   0.231     .6725473    5.158895\n",
      "       Rich  |    1.43619   .7130206     0.73   0.466     .5427738    3.800189\n",
      "             |\n",
      "residence_~e |\n",
      "      Urban  |   1.898755   .9667243     1.26   0.208     .6999899    5.150462\n",
      "             |\n",
      "household_~h#|\n",
      "residence_~e |\n",
      "    Average #|\n",
      "      Urban  |   .6939287   .4091826    -0.62   0.535     .2184715    2.204119\n",
      " Rich#Urban  |   .4537881   .2561494    -1.40   0.162     .1500984    1.371924\n",
      "             |\n",
      "       _cons |   .0480769   .0220114    -6.63   0.000     .0195986    .1179367\n",
      "------------------------------------------------------------------------------\n",
      "Note: _cons estimates baseline odds.\n",
      "\n",
      "Iteration 0:  Log likelihood =   -332.392  \n",
      "Iteration 1:  Log likelihood = -330.88246  \n",
      "Iteration 2:  Log likelihood = -330.83993  \n",
      "Iteration 3:  Log likelihood = -330.83982  \n",
      "Iteration 4:  Log likelihood = -330.83982  \n",
      "\n",
      "Logistic regression                                     Number of obs =  2,256\n",
      "                                                        LR chi2(5)    =   3.10\n",
      "                                                        Prob > chi2   = 0.6839\n",
      "Log likelihood = -330.83982                             Pseudo R2     = 0.0047\n",
      "\n",
      "------------------------------------------------------------------------------\n",
      " underweight | Odds ratio   Std. err.      z    P>|z|     [95% conf. interval]\n",
      "-------------+----------------------------------------------------------------\n",
      "household_~h |\n",
      "    Average  |   2.559809   2.006032     1.20   0.230      .550999    11.89225\n",
      "       Rich  |   2.234339   1.682772     1.07   0.286     .5105922    9.777411\n",
      "             |\n",
      "residence_~e |\n",
      "      Urban  |   1.678431   1.340926     0.65   0.517     .3506427    8.034196\n",
      "             |\n",
      "household_~h#|\n",
      "residence_~e |\n",
      "    Average #|\n",
      "      Urban  |   .3374554   .3103419    -1.18   0.238     .0556424     2.04657\n",
      " Rich#Urban  |   .4937541   .4227566    -0.82   0.410     .0921944    2.644338\n",
      "             |\n",
      "       _cons |   .0186916   .0133399    -5.58   0.000     .0046148    .0757069\n",
      "------------------------------------------------------------------------------\n",
      "Note: _cons estimates baseline odds.\n",
      "\n"
     ]
    },
    {
     "name": "stdout",
     "output_type": "stream",
     "text": [
      "Iteration 0:  Log likelihood = -733.50093  \n",
      "Iteration 1:  Log likelihood = -718.44721  \n",
      "Iteration 2:  Log likelihood = -717.88314  \n",
      "Iteration 3:  Log likelihood =  -717.8818  \n",
      "Iteration 4:  Log likelihood =  -717.8818  \n",
      "\n",
      "Logistic regression                                     Number of obs =  2,079\n",
      "                                                        LR chi2(5)    =  31.24\n",
      "                                                        Prob > chi2   = 0.0000\n",
      "Log likelihood = -717.8818                              Pseudo R2     = 0.0213\n",
      "\n",
      "------------------------------------------------------------------------------\n",
      "    stunting | Odds ratio   Std. err.      z    P>|z|     [95% conf. interval]\n",
      "-------------+----------------------------------------------------------------\n",
      "household_~h |\n",
      "    Average  |   1.190248   .2408639     0.86   0.389     .8005425    1.769662\n",
      "       Rich  |   .6930091   .1443004    -1.76   0.078      .460786    1.042266\n",
      "             |\n",
      "residence_~e |\n",
      "      Urban  |   1.010638   .5134587     0.02   0.983     .3733701    2.735596\n",
      "             |\n",
      "household_~h#|\n",
      "residence_~e |\n",
      "    Average #|\n",
      "      Urban  |   .7446883   .4484059    -0.49   0.624     .2287878    2.423909\n",
      " Rich#Urban  |   .5782638   .3200486    -0.99   0.322     .1954412    1.710945\n",
      "             |\n",
      "       _cons |   .1649123   .0259627   -11.45   0.000     .1211282     .224523\n",
      "------------------------------------------------------------------------------\n",
      "Note: _cons estimates baseline odds.\n",
      "\n",
      "Iteration 0:  Log likelihood = -499.65842  \n",
      "Iteration 1:  Log likelihood = -493.71841  \n",
      "Iteration 2:  Log likelihood =  -493.5645  \n",
      "Iteration 3:  Log likelihood =  -493.5644  \n",
      "Iteration 4:  Log likelihood =  -493.5644  \n",
      "\n",
      "Logistic regression                                     Number of obs =  2,079\n",
      "                                                        LR chi2(5)    =  12.19\n",
      "                                                        Prob > chi2   = 0.0323\n",
      "Log likelihood = -493.5644                              Pseudo R2     = 0.0122\n",
      "\n",
      "------------------------------------------------------------------------------\n",
      "     wasting | Odds ratio   Std. err.      z    P>|z|     [95% conf. interval]\n",
      "-------------+----------------------------------------------------------------\n",
      "household_~h |\n",
      "    Average  |   1.160011   .2992968     0.58   0.565     .6995871    1.923456\n",
      "       Rich  |   .6106106   .1677245    -1.80   0.073      .356413    1.046105\n",
      "             |\n",
      "residence_~e |\n",
      "      Urban  |   1.059028   .6738772     0.09   0.928     .3042801     3.68588\n",
      "             |\n",
      "household_~h#|\n",
      "residence_~e |\n",
      "    Average #|\n",
      "      Urban  |   .5807568   .4529704    -0.70   0.486     .1259176    2.678566\n",
      " Rich#Urban  |   .8606916   .5956185    -0.22   0.828     .2217157    3.341171\n",
      "             |\n",
      "       _cons |   .0885246   .0177747   -12.07   0.000     .0597246    .1312124\n",
      "------------------------------------------------------------------------------\n",
      "Note: _cons estimates baseline odds.\n",
      "\n",
      "note: 1.household_wealth#1.residence_type != 0 predicts failure perfectly;\n",
      "      1.household_wealth#1.residence_type omitted and 35 obs not used.\n",
      "\n",
      "note: 3.household_wealth#1.residence_type omitted because of collinearity.\n",
      "Iteration 0:  Log likelihood = -227.50216  \n",
      "Iteration 1:  Log likelihood = -225.82766  \n",
      "Iteration 2:  Log likelihood = -225.77439  \n",
      "Iteration 3:  Log likelihood = -225.77433  \n",
      "Iteration 4:  Log likelihood = -225.77433  \n",
      "\n",
      "Logistic regression                                     Number of obs =  2,044\n",
      "                                                        LR chi2(4)    =   3.46\n",
      "                                                        Prob > chi2   = 0.4847\n",
      "Log likelihood = -225.77433                             Pseudo R2     = 0.0076\n",
      "\n",
      "------------------------------------------------------------------------------\n",
      " underweight | Odds ratio   Std. err.      z    P>|z|     [95% conf. interval]\n",
      "-------------+----------------------------------------------------------------\n",
      "household_~h |\n",
      "    Average  |   .6617192   .2931737    -0.93   0.351     .2776836    1.576875\n",
      "       Rich  |   .4559659   .2073876    -1.73   0.084     .1869731    1.111951\n",
      "             |\n",
      "residence_~e |\n",
      "      Urban  |   1.714286   .7299307     1.27   0.206      .744128    3.949288\n",
      "             |\n",
      "household_~h#|\n",
      "residence_~e |\n",
      " Poor#Urban  |          1  (empty)\n",
      "    Average #|\n",
      "      Urban  |      .7875   .6236207    -0.30   0.763     .1667956    3.718061\n",
      " Rich#Urban  |          1  (omitted)\n",
      "             |\n",
      "       _cons |   .0342679   .0105077   -11.00   0.000      .018788    .0625021\n",
      "------------------------------------------------------------------------------\n",
      "Note: _cons estimates baseline odds.\n",
      "\n",
      "Iteration 0:  Log likelihood = -986.08753  \n",
      "Iteration 1:  Log likelihood = -972.18124  \n",
      "Iteration 2:  Log likelihood = -971.83899  \n",
      "Iteration 3:  Log likelihood =  -971.8388  \n",
      "Iteration 4:  Log likelihood =  -971.8388  \n",
      "\n",
      "Logistic regression                                     Number of obs =  2,496\n",
      "                                                        LR chi2(5)    =  28.50\n",
      "                                                        Prob > chi2   = 0.0000\n",
      "Log likelihood = -971.8388                              Pseudo R2     = 0.0144\n",
      "\n",
      "------------------------------------------------------------------------------\n",
      "    stunting | Odds ratio   Std. err.      z    P>|z|     [95% conf. interval]\n",
      "-------------+----------------------------------------------------------------\n",
      "household_~h |\n",
      "    Average  |   1.104492   .2640078     0.42   0.678     .6913514    1.764518\n",
      "       Rich  |   .5078045     .12846    -2.68   0.007     .3092907    .8337314\n",
      "             |\n",
      "residence_~e |\n",
      "      Urban  |   1.114558   .3419131     0.35   0.724     .6109129    2.033414\n",
      "             |\n",
      "household_~h#|\n",
      "residence_~e |\n",
      "    Average #|\n",
      "      Urban  |   .7515004   .2952798    -0.73   0.467     .3479163    1.623243\n",
      " Rich#Urban  |     .96022   .3556343    -0.11   0.913     .4646365    1.984395\n",
      "             |\n",
      "       _cons |   .2303665   .0385221    -8.78   0.000     .1659895    .3197114\n",
      "------------------------------------------------------------------------------\n",
      "Note: _cons estimates baseline odds.\n",
      "\n",
      "Iteration 0:  Log likelihood = -703.88709  \n",
      "Iteration 1:  Log likelihood = -699.19096  \n",
      "Iteration 2:  Log likelihood = -699.07551  \n",
      "Iteration 3:  Log likelihood = -699.07545  \n",
      "\n",
      "Logistic regression                                     Number of obs =  2,496\n",
      "                                                        LR chi2(5)    =   9.62\n",
      "                                                        Prob > chi2   = 0.0866\n",
      "Log likelihood = -699.07545                             Pseudo R2     = 0.0068\n",
      "\n",
      "------------------------------------------------------------------------------\n",
      "     wasting | Odds ratio   Std. err.      z    P>|z|     [95% conf. interval]\n",
      "-------------+----------------------------------------------------------------\n",
      "household_~h |\n",
      "    Average  |   1.372341     .43751     0.99   0.321     .7346736     2.56348\n",
      "       Rich  |   .9056777   .2889558    -0.31   0.756     .4846168    1.692579\n",
      "             |\n",
      "residence_~e |\n",
      "      Urban  |   1.442076   .5727697     0.92   0.357     .6620708    3.141029\n",
      "             |\n",
      "household_~h#|\n",
      "residence_~e |\n",
      "    Average #|\n",
      "      Urban  |   .6893379   .3445429    -0.74   0.457     .2588136    1.836019\n",
      " Rich#Urban  |   .6151635   .2856663    -1.05   0.295     .2475791    1.528505\n",
      "             |\n",
      "       _cons |   .0930233   .0217466   -10.16   0.000     .0588303    .1470896\n",
      "------------------------------------------------------------------------------\n",
      "Note: _cons estimates baseline odds.\n",
      "\n",
      "Iteration 0:  Log likelihood = -319.18559  \n",
      "Iteration 1:  Log likelihood = -317.50524  \n",
      "Iteration 2:  Log likelihood = -317.44181  \n",
      "Iteration 3:  Log likelihood = -317.44171  \n",
      "Iteration 4:  Log likelihood = -317.44171  \n",
      "\n",
      "Logistic regression                                     Number of obs =  2,496\n",
      "                                                        LR chi2(5)    =   3.49\n",
      "                                                        Prob > chi2   = 0.6252\n",
      "Log likelihood = -317.44171                             Pseudo R2     = 0.0055\n",
      "\n",
      "------------------------------------------------------------------------------\n",
      " underweight | Odds ratio   Std. err.      z    P>|z|     [95% conf. interval]\n",
      "-------------+----------------------------------------------------------------\n",
      "household_~h |\n",
      "    Average  |   1.682039   1.097651     0.80   0.426     .4681293    6.043746\n",
      "       Rich  |   2.440141   1.425309     1.53   0.127      .776641    7.666718\n",
      "             |\n",
      "residence_~e |\n",
      "      Urban  |   1.269231   1.110354     0.27   0.785     .2285012    7.050057\n",
      "             |\n",
      "household_~h#|\n",
      "residence_~e |\n",
      "    Average #|\n",
      "      Urban  |   1.011234   1.044322     0.01   0.991     .1335975    7.654292\n",
      " Rich#Urban  |   .5061183   .4745659    -0.73   0.468     .0805594    3.179714\n",
      "             |\n",
      "       _cons |    .017316   .0087326    -8.04   0.000     .0064443    .0465284\n",
      "------------------------------------------------------------------------------\n",
      "Note: _cons estimates baseline odds.\n"
     ]
    }
   ],
   "source": [
    "levelsof geopolitical_region, local(regions)\n",
    "foreach r of local regions {\n",
    "    logit stunting i.household_wealth##i.residence_type if geopolitical_region == `r', or\n",
    "    logit wasting i.household_wealth##i.residence_type if geopolitical_region == `r', or\n",
    "    logit underweight i.household_wealth##i.residence_type if geopolitical_region == `r', or\n",
    "}\n"
   ]
  },
  {
   "cell_type": "markdown",
   "id": "4891c59c",
   "metadata": {},
   "source": [
    "log close"
   ]
  },
  {
   "cell_type": "code",
   "execution_count": null,
   "id": "9a114849",
   "metadata": {},
   "outputs": [],
   "source": []
  }
 ],
 "metadata": {
  "kernelspec": {
   "display_name": "Stata (nbstata)",
   "language": "stata",
   "name": "nbstata"
  },
  "language_info": {
   "file_extension": ".do",
   "mimetype": "text/x-stata",
   "name": "stata",
   "version": "17"
  }
 },
 "nbformat": 4,
 "nbformat_minor": 5
}
