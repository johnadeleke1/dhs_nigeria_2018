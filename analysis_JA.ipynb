{
 "cells": [
  {
   "cell_type": "markdown",
   "id": "97a19949",
   "metadata": {},
   "source": [
    "Working Title: \n",
    "Household Inequities as Fundamental Cause of Child Health Disparities in Nigeria"
   ]
  },
  {
   "cell_type": "code",
   "execution_count": 1,
   "id": "9372c0a0-d02e-4488-bef9-c757bc01f3fe",
   "metadata": {
    "tags": []
   },
   "outputs": [
    {
     "data": {
      "text/html": [
       "<style>div.jp-Notebook .datagrid-container {min-height: 448px; }</style>"
      ],
      "text/plain": [
       "<IPython.core.display.HTML object>"
      ]
     },
     "metadata": {},
     "output_type": "display_data"
    },
    {
     "name": "stdout",
     "output_type": "stream",
     "text": [
      "(-set more- irrelevant in this version of Stata)\n"
     ]
    }
   ],
   "source": [
    "set more off"
   ]
  },
  {
   "cell_type": "code",
   "execution_count": 2,
   "id": "eacfce4c-c6e0-4644-a151-d9b736ba3ea4",
   "metadata": {
    "tags": []
   },
   "outputs": [
    {
     "name": "stdout",
     "output_type": "stream",
     "text": [
      "\n"
     ]
    }
   ],
   "source": [
    "set maxvar 120000"
   ]
  },
  {
   "cell_type": "code",
   "execution_count": 3,
   "id": "e1d71598-665a-4481-8249-59003445465f",
   "metadata": {},
   "outputs": [
    {
     "name": "stdout",
     "output_type": "stream",
     "text": [
      "-------------------------------------------------------------------------------\n",
      "      name:  <unnamed>\n",
      "       log:  /Users/johnadeleke/Desktop/Household_inequalities_and_Child_Health\n",
      "> /Log for MA Thesis.smcl\n",
      "  log type:  smcl\n",
      " opened on:  11 Feb 2025, 10:26:15\n"
     ]
    }
   ],
   "source": [
    "log using \"Log for MA Thesis\", replace"
   ]
  },
  {
   "cell_type": "markdown",
   "id": "74d328fc",
   "metadata": {},
   "source": [
    "load data"
   ]
  },
  {
   "cell_type": "code",
   "execution_count": 4,
   "id": "936537ef-a32a-49f1-a7d5-c7d666af3a0b",
   "metadata": {
    "tags": []
   },
   "outputs": [],
   "source": [
    "use /Users/johnadeleke/Desktop/Household_inequalities_and_Child_Health/NGKR7BDT/NGKR7BFL.DTA, clear"
   ]
  },
  {
   "cell_type": "markdown",
   "id": "e2ddb3fb",
   "metadata": {},
   "source": [
    "This dataset uses multi-stage cluster sampling, and the standard errors would be incorrect if survey weight is not applied. This will help to produce estimates that are representative of the Nigerian population and account for the complex sampling structure of the DHS dataset."
   ]
  },
  {
   "cell_type": "code",
   "execution_count": 5,
   "id": "bdac249f",
   "metadata": {},
   "outputs": [
    {
     "name": "stdout",
     "output_type": "stream",
     "text": [
      "\n",
      "Sampling weights: v005\n",
      "             VCE: linearized\n",
      "     Single unit: missing\n",
      "        Strata 1: v022\n",
      " Sampling unit 1: v021\n",
      "           FPC 1: <zero>\n"
     ]
    }
   ],
   "source": [
    "svyset [pw= v005], psu(v021) strata(v022)"
   ]
  },
  {
   "cell_type": "markdown",
   "id": "5b87ca15",
   "metadata": {},
   "source": [
    "Checking if the survey-weighted setting worked"
   ]
  },
  {
   "cell_type": "code",
   "execution_count": 6,
   "id": "b78dbc54",
   "metadata": {},
   "outputs": [
    {
     "name": "stdout",
     "output_type": "stream",
     "text": [
      "\n",
      "Survey: Describing stage 1 sampling units\n",
      "\n",
      "Sampling weights: v005\n",
      "             VCE: linearized\n",
      "     Single unit: missing\n",
      "        Strata 1: v022\n",
      " Sampling unit 1: v021\n",
      "           FPC 1: <zero>\n",
      "\n",
      "                                    Number of obs per unit\n",
      " Stratum   # units     # obs       Min      Mean       Max\n",
      "----------------------------------------------------------\n",
      "       1         5        90        14      18.0        23\n",
      "       2        33       818        12      24.8        36\n",
      "       3        22       440         6      20.0        36\n",
      "       4        13       363        10      27.9        52\n",
      "       5        12       207        10      17.2        29\n",
      "       6        24       413         2      17.2        32\n",
      "       7        24       455         4      19.0        40\n",
      "       8        11       239        14      21.7        46\n",
      "       9         9       208        11      23.1        42\n",
      "      10        26       626         5      24.1        44\n",
      "      11        10       264        14      26.4        39\n",
      "      12        28       955        15      34.1        62\n",
      "      13        10       161         5      16.1        27\n",
      "      14        25       636         7      25.4        63\n",
      "      15        10       214        14      21.4        29\n",
      "      16        25       748         9      29.9        52\n",
      "      17         6       203        24      33.8        41\n",
      "      18        33     1,239        16      37.5        58\n",
      "      19        13       356        15      27.4        37\n",
      "      20        25       743        10      29.7        58\n",
      "      21         9       280        11      31.1        45\n",
      "      22        26     1,064        14      40.9        64\n",
      "      23         6       163        14      27.2        38\n",
      "      24        29       949        11      32.7        56\n",
      "      25         8       262        21      32.8        43\n",
      "      26        27       990         9      36.7        62\n",
      "      27         5       169        18      33.8        50\n",
      "      28        34     1,333        19      39.2        60\n",
      "      29        20       612         8      30.6        68\n",
      "      30        22       839        15      38.1        74\n",
      "      31        22       705        13      32.0        50\n",
      "      32        31     1,332        28      43.0        76\n",
      "      33         9       283        19      31.4        42\n",
      "      34        31     1,272        27      41.0        61\n",
      "      35         6       183        21      30.5        39\n",
      "      36        29     1,214        21      41.9        62\n",
      "      37         8       236        11      29.5        44\n",
      "      38        26       901        18      34.7        61\n",
      "      39         7       249        28      35.6        45\n",
      "      40        25       977        18      39.1        57\n",
      "      41         8       116         7      14.5        20\n",
      "      42        28       525         6      18.8        35\n",
      "      43        32       703         9      22.0        40\n",
      "      44         7       153        12      21.9        28\n",
      "      45        30       845        14      28.2        44\n",
      "      46         6       167        12      27.8        47\n",
      "      47        25       415         5      16.6        35\n",
      "      48        11       146         2      13.3        21\n",
      "      49        18       365         5      20.3        37\n",
      "      50        21       363         7      17.3        38\n",
      "      51         3        35         9      11.7        17\n",
      "      52        34       529         5      15.6        27\n",
      "      53         9       152         7      16.9        28\n",
      "      54        26       418         6      16.1        33\n",
      "      55         6        77         3      12.8        22\n",
      "      56        29       351         5      12.1        18\n",
      "      57        18       231         5      12.8        19\n",
      "      58        20       277         4      13.8        24\n",
      "      59        20       265         5      13.2        23\n",
      "      60        15       200         6      13.3        28\n",
      "      61        19       317         7      16.7        27\n",
      "      62        22       350         4      15.9        31\n",
      "      63        26       374         5      14.4        22\n",
      "      64         9       148         8      16.4        27\n",
      "      65        49       756         6      15.4        29\n",
      "      66         3        51        12      17.0        20\n",
      "      67        18       217         4      12.1        30\n",
      "      68        19       291         7      15.3        28\n",
      "      69        17       246         8      14.5        23\n",
      "      70        19       296         6      15.6        34\n",
      "      71        27       374         6      13.9        30\n",
      "      72         9       124         8      13.8        19\n",
      "      73        30       471         5      15.7        33\n",
      "      74        12       185         4      15.4        29\n",
      "----------------------------------------------------------\n",
      "      74     1,389    33,924         2      24.4        76\n"
     ]
    }
   ],
   "source": [
    "svydes"
   ]
  },
  {
   "cell_type": "markdown",
   "id": "03b7506f",
   "metadata": {},
   "source": [
    "keep variables of interest"
   ]
  },
  {
   "cell_type": "code",
   "execution_count": 7,
   "id": "24536e47",
   "metadata": {},
   "outputs": [],
   "source": [
    "keep caseid b8 v001 v002 v003 v005 v190 v021 v022 v025 v024 v106 v151 h10 h11 h22 hw70 hw71 hw72 "
   ]
  },
  {
   "cell_type": "code",
   "execution_count": 8,
   "id": "53fd7ffd",
   "metadata": {},
   "outputs": [
    {
     "name": "stdout",
     "output_type": "stream",
     "text": [
      "\n",
      "-------------------------------------------------------------------------------\n",
      "caseid                                                      case identification\n",
      "-------------------------------------------------------------------------------\n",
      "\n",
      "                  Type: String (str15)\n",
      "\n",
      "         Unique values: 21,792                    Missing \"\": 0/33,924\n",
      "\n",
      "              Examples: \"286  22  3\"\n",
      "                        \"481  53  2\"\n",
      "                        \"665  47  2\"\n",
      "                        \"939  17  9\"\n",
      "\n",
      "               Warning: Variable has leading and embedded blanks.\n",
      "\n",
      "-------------------------------------------------------------------------------\n",
      "v001                                                             cluster number\n",
      "-------------------------------------------------------------------------------\n",
      "\n",
      "                  Type: Numeric (int)\n",
      "\n",
      "                 Range: [1,1400]                      Units: 1\n",
      "         Unique values: 1,389                     Missing .: 0/33,924\n",
      "\n",
      "                  Mean: 612.956\n",
      "             Std. dev.: 358.907\n",
      "\n",
      "           Percentiles:     10%       25%       50%       75%       90%\n",
      "                            158       334       579     848.5      1172\n",
      "\n",
      "-------------------------------------------------------------------------------\n",
      "v002                                                           household number\n",
      "-------------------------------------------------------------------------------\n",
      "\n",
      "                  Type: Numeric (int)\n",
      "\n",
      "                 Range: [1,274]                       Units: 1\n",
      "         Unique values: 207                       Missing .: 0/33,924\n",
      "\n",
      "                  Mean: 31.0563\n",
      "             Std. dev.:  24.878\n",
      "\n",
      "           Percentiles:     10%       25%       50%       75%       90%\n",
      "                              6        14        26        41        60\n",
      "\n",
      "-------------------------------------------------------------------------------\n",
      "v003                                                   respondent's line number\n",
      "-------------------------------------------------------------------------------\n",
      "\n",
      "                  Type: Numeric (byte)\n",
      "\n",
      "                 Range: [1,26]                        Units: 1\n",
      "         Unique values: 25                        Missing .: 0/33,924\n",
      "\n",
      "                  Mean: 2.77211\n",
      "             Std. dev.: 2.23091\n",
      "\n",
      "           Percentiles:     10%       25%       50%       75%       90%\n",
      "                              2         2         2         2         5\n",
      "\n",
      "-------------------------------------------------------------------------------\n",
      "v005                              women's individual sample weight (6 decimals)\n",
      "-------------------------------------------------------------------------------\n",
      "\n",
      "                  Type: Numeric (long)\n",
      "\n",
      "                 Range: [103280,13411626]             Units: 1\n",
      "         Unique values: 1,367                     Missing .: 0/33,924\n",
      "\n",
      "                  Mean: 1.0e+06\n",
      "             Std. dev.:  646460\n",
      "\n",
      "           Percentiles:     10%       25%       50%       75%       90%\n",
      "                         434753    612943    884697   1.2e+06   1.7e+06\n",
      "\n",
      "-------------------------------------------------------------------------------\n",
      "v021                                                      primary sampling unit\n",
      "-------------------------------------------------------------------------------\n",
      "\n",
      "                  Type: Numeric (int)\n",
      "\n",
      "                 Range: [1,1400]                      Units: 1\n",
      "         Unique values: 1,389                     Missing .: 0/33,924\n",
      "\n",
      "                  Mean: 612.956\n",
      "             Std. dev.: 358.907\n",
      "\n",
      "           Percentiles:     10%       25%       50%       75%       90%\n",
      "                            158       334       579     848.5      1172\n",
      "\n",
      "-------------------------------------------------------------------------------\n",
      "v022                                          sample strata for sampling errors\n",
      "-------------------------------------------------------------------------------\n",
      "\n",
      "                  Type: Numeric (byte)\n",
      "                 Label: V022\n",
      "\n",
      "                 Range: [1,74]                        Units: 1\n",
      "         Unique values: 74                        Missing .: 0/33,924\n",
      "\n",
      "              Examples: 16    ne adamawa rural\n",
      "                        28    nw jigawa rural\n",
      "                        36    nw kebbi rural\n",
      "                        50    se imo rural\n",
      "\n",
      "-------------------------------------------------------------------------------\n",
      "v024                                                                     region\n",
      "-------------------------------------------------------------------------------\n",
      "\n",
      "                  Type: Numeric (byte)\n",
      "                 Label: V024\n",
      "\n",
      "                 Range: [1,6]                         Units: 1\n",
      "         Unique values: 6                         Missing .: 0/33,924\n",
      "\n",
      "            Tabulation: Freq.   Numeric  Label\n",
      "                        5,875         1  north central\n",
      "                        7,211         2  north east\n",
      "                       10,305         3  north west\n",
      "                        3,798         4  south east\n",
      "                        3,202         5  south south\n",
      "                        3,533         6  south west\n",
      "\n",
      "-------------------------------------------------------------------------------\n",
      "v025                                                 type of place of residence\n",
      "-------------------------------------------------------------------------------\n",
      "\n",
      "                  Type: Numeric (byte)\n",
      "                 Label: V025\n",
      "\n",
      "                 Range: [1,2]                         Units: 1\n",
      "         Unique values: 2                         Missing .: 0/33,924\n",
      "\n",
      "            Tabulation: Freq.   Numeric  Label\n",
      "                       11,699         1  urban\n",
      "                       22,225         2  rural\n",
      "\n",
      "-------------------------------------------------------------------------------\n",
      "v106                                                  highest educational level\n",
      "-------------------------------------------------------------------------------\n",
      "\n",
      "                  Type: Numeric (byte)\n",
      "                 Label: V106\n",
      "\n",
      "                 Range: [0,3]                         Units: 1\n",
      "         Unique values: 4                         Missing .: 0/33,924\n",
      "\n",
      "            Tabulation: Freq.   Numeric  Label\n",
      "                       15,391         0  no education\n",
      "                        5,274         1  primary\n",
      "                       10,623         2  secondary\n",
      "                        2,636         3  higher\n",
      "\n",
      "-------------------------------------------------------------------------------\n",
      "v151                                                      sex of household head\n",
      "-------------------------------------------------------------------------------\n",
      "\n",
      "                  Type: Numeric (byte)\n",
      "                 Label: V151\n",
      "\n",
      "                 Range: [1,2]                         Units: 1\n",
      "         Unique values: 2                         Missing .: 0/33,924\n",
      "\n",
      "            Tabulation: Freq.   Numeric  Label\n",
      "                       30,734         1  male\n",
      "                        3,190         2  female\n",
      "\n",
      "-------------------------------------------------------------------------------\n",
      "v190                                                      wealth index combined\n",
      "-------------------------------------------------------------------------------\n",
      "\n",
      "                  Type: Numeric (byte)\n",
      "                 Label: V190\n",
      "\n",
      "                 Range: [1,5]                         Units: 1\n",
      "         Unique values: 5                         Missing .: 0/33,924\n",
      "\n",
      "            Tabulation: Freq.   Numeric  Label\n",
      "                        8,066         1  poorest\n",
      "                        7,743         2  poorer\n",
      "                        7,171         3  middle\n",
      "                        6,166         4  richer\n",
      "                        4,778         5  richest\n",
      "\n",
      "-------------------------------------------------------------------------------\n",
      "b8                                                         current age of child\n",
      "-------------------------------------------------------------------------------\n",
      "\n",
      "                  Type: Numeric (byte)\n",
      "\n",
      "                 Range: [0,4]                         Units: 1\n",
      "         Unique values: 5                         Missing .: 3,211/33,924\n",
      "\n",
      "            Tabulation: Freq.  Value\n",
      "                        6,399  0\n",
      "                        6,059  1\n",
      "                        5,834  2\n",
      "                        6,168  3\n",
      "                        6,253  4\n",
      "                        3,211  .\n",
      "\n",
      "-------------------------------------------------------------------------------\n",
      "h10                                                        ever had vaccination\n",
      "-------------------------------------------------------------------------------\n",
      "\n",
      "                  Type: Numeric (byte)\n",
      "                 Label: H10\n",
      "\n",
      "                 Range: [0,8]                         Units: 1\n",
      "         Unique values: 3                         Missing .: 23,002/33,924\n",
      "\n",
      "            Tabulation: Freq.   Numeric  Label\n",
      "                        3,606         0  no\n",
      "                        7,307         1  yes\n",
      "                            9         8  don't know\n",
      "                       23,002         .  \n",
      "\n",
      "-------------------------------------------------------------------------------\n",
      "h11                                                       had diarrhea recently\n",
      "-------------------------------------------------------------------------------\n",
      "\n",
      "                  Type: Numeric (byte)\n",
      "                 Label: H11\n",
      "\n",
      "                 Range: [0,8]                         Units: 1\n",
      "         Unique values: 3                         Missing .: 3,211/33,924\n",
      "\n",
      "            Tabulation: Freq.   Numeric  Label\n",
      "                       26,647         0  no\n",
      "                        3,956         2  yes, last two weeks\n",
      "                          110         8  don't know\n",
      "                        3,211         .  \n",
      "\n",
      "-------------------------------------------------------------------------------\n",
      "h22                                                 had fever in last two weeks\n",
      "-------------------------------------------------------------------------------\n",
      "\n",
      "                  Type: Numeric (byte)\n",
      "                 Label: H22\n",
      "\n",
      "                 Range: [0,8]                         Units: 1\n",
      "         Unique values: 3                         Missing .: 3,211/33,924\n",
      "\n",
      "            Tabulation: Freq.   Numeric  Label\n",
      "                       23,065         0  no\n",
      "                        7,536         1  yes\n",
      "                          112         8  don't know\n",
      "                        3,211         .  \n",
      "\n",
      "-------------------------------------------------------------------------------\n",
      "hw70                                    height/age standard deviation (new who)\n",
      "-------------------------------------------------------------------------------\n",
      "\n",
      "                  Type: Numeric (int)\n",
      "                 Label: HW70, but 898 nonmissing values are not labeled\n",
      "\n",
      "                 Range: [-599,9998]                   Units: 1\n",
      "         Unique values: 899                       Missing .: 22,453/33,924\n",
      "\n",
      "              Examples: -110  \n",
      "                        .     \n",
      "                        .     \n",
      "                        .     \n",
      "\n",
      "-------------------------------------------------------------------------------\n",
      "hw71                                    weight/age standard deviation (new who)\n",
      "-------------------------------------------------------------------------------\n",
      "\n",
      "                  Type: Numeric (int)\n",
      "                 Label: HW71, but 756 nonmissing values are not labeled\n",
      "\n",
      "                 Range: [-594,9998]                   Units: 1\n",
      "         Unique values: 757                       Missing .: 22,452/33,924\n",
      "\n",
      "              Examples: -76   \n",
      "                        .     \n",
      "                        .     \n",
      "                        .     \n",
      "\n",
      "-------------------------------------------------------------------------------\n",
      "hw72                                 weight/height standard deviation (new who)\n",
      "-------------------------------------------------------------------------------\n",
      "\n",
      "                  Type: Numeric (int)\n",
      "                 Label: HW72, but 729 nonmissing values are not labeled\n",
      "\n",
      "                 Range: [-499,9998]                   Units: 1\n",
      "         Unique values: 731                       Missing .: 22,448/33,924\n",
      "\n",
      "              Examples: 0     \n",
      "                        .     \n",
      "                        .     \n",
      "                        .     \n"
     ]
    }
   ],
   "source": [
    "codebook"
   ]
  },
  {
   "cell_type": "markdown",
   "id": "2943e151",
   "metadata": {},
   "source": [
    "Since not all households in have child(ren) under 5, keep only households with child(ren) under the age of 5"
   ]
  },
  {
   "cell_type": "code",
   "execution_count": 9,
   "id": "0f101922",
   "metadata": {},
   "outputs": [
    {
     "name": "stdout",
     "output_type": "stream",
     "text": [
      "variable hw70 was int now float\n",
      "(11,458 real changes made)\n",
      "variable hw71 was int now float\n",
      "(11,450 real changes made)\n",
      "variable hw72 was int now float\n",
      "(11,436 real changes made)\n"
     ]
    }
   ],
   "source": [
    "replace hw70 = hw70 / 100\n",
    "replace hw71 = hw71 / 100\n",
    "replace hw72 = hw72 / 100"
   ]
  },
  {
   "cell_type": "code",
   "execution_count": 10,
   "id": "1ebb7e7b",
   "metadata": {},
   "outputs": [
    {
     "name": "stdout",
     "output_type": "stream",
     "text": [
      "\n",
      "    Variable |        Obs        Mean    Std. dev.       Min        Max\n",
      "-------------+---------------------------------------------------------\n",
      "        hw70 |     11,471   -.5566646    9.882177      -5.99      99.98\n",
      "        hw71 |     11,472   -.9262099    4.300253      -5.94      99.98\n",
      "        hw72 |     11,476    .3247412    7.946526      -4.99      99.98\n",
      "(bin=50, start=-5.9899998, width=2.1194001)\n",
      "(bin=50, start=-5.9400001, width=2.1184001)\n",
      "(bin=50, start=-4.9899998, width=2.0994001)\n"
     ]
    },
    {
     "data": {
      "image/png": "[encoded data removed]",
      "text/plain": [
       "<IPython.core.display.Image object>"
      ]
     },
     "metadata": {},
     "output_type": "display_data"
    }
   ],
   "source": [
    "summarize hw70 hw71 hw72\n",
    "histogram hw70, bin(50) normal\n",
    "histogram hw71, bin(50) normal\n",
    "histogram hw72, bin(50) normal"
   ]
  },
  {
   "cell_type": "code",
   "execution_count": 11,
   "id": "db659c6c",
   "metadata": {},
   "outputs": [
    {
     "name": "stdout",
     "output_type": "stream",
     "text": [
      "(107 real changes made, 107 to missing)\n",
      "(19 real changes made, 19 to missing)\n",
      "(71 real changes made, 71 to missing)\n"
     ]
    }
   ],
   "source": [
    "replace hw70 = . if hw70 > 6 | hw70 < -6\n",
    "replace hw71 = . if hw71 > 6 | hw71 < -6\n",
    "replace hw72 = . if hw72 > 6 | hw72 < -6"
   ]
  },
  {
   "cell_type": "code",
   "execution_count": 12,
   "id": "8cc6f96c",
   "metadata": {},
   "outputs": [
    {
     "name": "stdout",
     "output_type": "stream",
     "text": [
      "\n",
      "    Variable |        Obs        Mean    Std. dev.       Min        Max\n",
      "-------------+---------------------------------------------------------\n",
      "        hw70 |     11,364   -1.503288    1.581818      -5.99       5.99\n",
      "        hw71 |     11,453   -1.093609    1.265616      -5.94       4.41\n",
      "        hw72 |     11,405   -.2956046    1.154821      -4.99       4.85\n",
      "(bin=50, start=-5.9899998, width=.23959999)\n",
      "(bin=50, start=-5.9400001, width=.207)\n",
      "(bin=50, start=-4.9899998, width=.19679999)\n"
     ]
    },
    {
     "data": {
      "image/png": "[encoded data removed]",
      "text/plain": [
       "<IPython.core.display.Image object>"
      ]
     },
     "metadata": {},
     "output_type": "display_data"
    }
   ],
   "source": [
    "summarize hw70 hw71 hw72\n",
    "histogram hw70, bin(50) normal\n",
    "histogram hw71, bin(50) normal\n",
    "histogram hw72, bin(50) normal"
   ]
  },
  {
   "cell_type": "code",
   "execution_count": 13,
   "id": "8968f587",
   "metadata": {},
   "outputs": [
    {
     "name": "stdout",
     "output_type": "stream",
     "text": [
      "(33,924 missing values generated)\n",
      "(29,815 real changes made)\n",
      "(4,109 real changes made)\n"
     ]
    }
   ],
   "source": [
    "* Stunting (Binary: Stunted vs. Not Stunted)\n",
    "gen stunting = .\n",
    "replace stunting = 0 if hw70 >= -2  // Not Stunted\n",
    "replace stunting = 1 if hw70 < -2   // Stunted\n",
    "label define stunting_lbl 0 \"Not Stunted\" 1 \"Stunted\"\n",
    "label values stunting stunting_lbl"
   ]
  },
  {
   "cell_type": "code",
   "execution_count": 14,
   "id": "faf81849",
   "metadata": {},
   "outputs": [
    {
     "name": "stdout",
     "output_type": "stream",
     "text": [
      "(33,924 missing values generated)\n",
      "(31,435 real changes made)\n",
      "(2,489 real changes made)\n"
     ]
    }
   ],
   "source": [
    "* Wasting (Binary: Wasted vs. Not Wasted)\n",
    "gen wasting = .\n",
    "replace wasting = 0 if hw71 >= -2  // Not Wasted\n",
    "replace wasting = 1 if hw71 < -2   // Wasted\n",
    "label define wasting_lbl 0 \"Not Wasted\" 1 \"Wasted\"\n",
    "label values wasting wasting_lbl"
   ]
  },
  {
   "cell_type": "code",
   "execution_count": 15,
   "id": "9d11fdfd",
   "metadata": {},
   "outputs": [
    {
     "name": "stdout",
     "output_type": "stream",
     "text": [
      "(33,924 missing values generated)\n",
      "(33,154 real changes made)\n",
      "(770 real changes made)\n"
     ]
    }
   ],
   "source": [
    "* Underweight (Binary: Underweight vs. Not Underweight)\n",
    "gen underweight = .\n",
    "replace underweight = 0 if hw72 >= -2  // Not Underweight\n",
    "replace underweight = 1 if hw72 < -2   // Underweight\n",
    "label define underweight_lbl 0 \"Not Underweight\" 1 \"Underweight\"\n",
    "label values underweight underweight_lbl"
   ]
  },
  {
   "cell_type": "markdown",
   "id": "80af8be2",
   "metadata": {},
   "source": [
    "recoding household wealth index"
   ]
  },
  {
   "cell_type": "code",
   "execution_count": 16,
   "id": "0d729701",
   "metadata": {},
   "outputs": [
    {
     "name": "stdout",
     "output_type": "stream",
     "text": [
      "(25,858 differences between v190 and household_wealth)\n"
     ]
    }
   ],
   "source": [
    "recode v190 (1 2 = 1 \"poor_households\") (3 = 2 \"average_households\") (4 5 = 3 \"rich_households\"), gen(household_wealth)"
   ]
  },
  {
   "cell_type": "code",
   "execution_count": 17,
   "id": "db21fcb5",
   "metadata": {},
   "outputs": [
    {
     "name": "stdout",
     "output_type": "stream",
     "text": [
      "\n",
      "    RECODE of v190 |\n",
      "     (wealth index |\n",
      "         combined) |      Freq.     Percent        Cum.\n",
      "-------------------+-----------------------------------\n",
      "   poor_households |     15,809       46.60       46.60\n",
      "average_households |      7,171       21.14       67.74\n",
      "   rich_households |     10,944       32.26      100.00\n",
      "-------------------+-----------------------------------\n",
      "             Total |     33,924      100.00\n"
     ]
    }
   ],
   "source": [
    "tab household_wealth"
   ]
  },
  {
   "cell_type": "code",
   "execution_count": 18,
   "id": "7b70db54",
   "metadata": {},
   "outputs": [
    {
     "name": "stdout",
     "output_type": "stream",
     "text": [
      "\n",
      "    RECODE of v190 |\n",
      "     (wealth index |\n",
      "         combined) |      Freq.     Percent        Cum.\n",
      "-------------------+-----------------------------------\n",
      "   Poor_households |     15,809       46.60       46.60\n",
      "Average_Households |      7,171       21.14       67.74\n",
      "   Rich_Households |     10,944       32.26      100.00\n",
      "-------------------+-----------------------------------\n",
      "             Total |     33,924      100.00\n"
     ]
    }
   ],
   "source": [
    "label define wealth_label 1 \"Poor_households\" 2 \"Average_Households\" 3 \"Rich_Households\"\n",
    "label values household_wealth wealth_label\n",
    "tab household_wealth\n"
   ]
  },
  {
   "cell_type": "markdown",
   "id": "86a1c8d2",
   "metadata": {},
   "source": [
    "Collapse data to household level"
   ]
  },
  {
   "cell_type": "code",
   "execution_count": 19,
   "id": "475e3bc8",
   "metadata": {},
   "outputs": [],
   "source": [
    "collapse (max) h10 h11 h22 stunting wasting underweight v005 v021 v022 (count) num_children = b8 ///\n",
    "(first) v190 household_wealth v025 v024 v106, by(v001 v002)"
   ]
  },
  {
   "cell_type": "markdown",
   "id": "6541b3af",
   "metadata": {},
   "source": [
    "Checking the structure of the collapsed dataset"
   ]
  },
  {
   "cell_type": "code",
   "execution_count": 20,
   "id": "ef2e4a35",
   "metadata": {},
   "outputs": [
    {
     "name": "stdout",
     "output_type": "stream",
     "text": [
      "\n",
      "       +--------------------------------------------------------+\n",
      "       | v001   v002   stunting   wasting   underw~t   num_ch~n |\n",
      "       |--------------------------------------------------------|\n",
      "    1. |    1      1          0         0          0          1 |\n",
      "    2. |    1     11          0         0          0          1 |\n",
      "    3. |    1     25          0         0          0          1 |\n",
      "    4. |    1     35          1         0          0          1 |\n",
      "    5. |    1     40          0         0          0          1 |\n",
      "       |--------------------------------------------------------|\n",
      "    6. |    1     64          0         0          0          1 |\n",
      "    7. |    1     78          0         0          0          1 |\n",
      "    8. |    1     83          0         0          0          1 |\n",
      "    9. |    1     93          1         1          0          1 |\n",
      "   10. |    1    117          0         0          0          2 |\n",
      "       +--------------------------------------------------------+\n"
     ]
    }
   ],
   "source": [
    "list v001 v002 stunting wasting underweight num_children if _n <= 10"
   ]
  },
  {
   "cell_type": "markdown",
   "id": "f029559c",
   "metadata": {},
   "source": [
    "Renaming other varibales for easy identification"
   ]
  },
  {
   "cell_type": "code",
   "execution_count": 21,
   "id": "1a317db6",
   "metadata": {},
   "outputs": [],
   "source": [
    "label variable v025 residence_type\n",
    "label variable v024 geopolitical_region\n",
    "label variable v106 mother_education\n",
    "label variable h10 vaccination\n",
    "label variable h11 diarrhea\n",
    "label variable h22 fever"
   ]
  },
  {
   "cell_type": "code",
   "execution_count": 22,
   "id": "fe29b062",
   "metadata": {},
   "outputs": [],
   "source": [
    "rename v025 residence_type\n",
    "rename v024 geopolitical_region\n",
    "rename v106 mother_education\n",
    "rename h10 vaccination\n",
    "rename h11 diarrhea\n",
    "rename h22 fever"
   ]
  },
  {
   "cell_type": "code",
   "execution_count": 23,
   "id": "95041dee",
   "metadata": {},
   "outputs": [
    {
     "name": "stdout",
     "output_type": "stream",
     "text": [
      "\n",
      "Contains data\n",
      " Observations:        19,236                  \n",
      "    Variables:            17                  \n",
      "-------------------------------------------------------------------------------\n",
      "Variable      Storage   Display    Value\n",
      "    name         type    format    label      Variable label\n",
      "-------------------------------------------------------------------------------\n",
      "v001            int     %8.0g                 cluster number\n",
      "v002            int     %8.0g                 household number\n",
      "vaccination     byte    %8.0g                 vaccination\n",
      "diarrhea        byte    %8.0g                 diarrhea\n",
      "fever           byte    %8.0g                 fever\n",
      "stunting        float   %11.0g                (max) stunting\n",
      "wasting         float   %10.0g                (max) wasting\n",
      "underweight     float   %15.0g                (max) underweight\n",
      "v005            long    %12.0g                (max) v005\n",
      "v021            int     %8.0g                 (max) v021\n",
      "v022            byte    %8.0g                 (max) v022\n",
      "num_children    long    %8.0g                 (count) b8\n",
      "v190            byte    %8.0g                 (first) v190\n",
      "household_wea~h byte    %18.0g                (first) household_wealth\n",
      "residence_type  byte    %8.0g                 residence_type\n",
      "geopolitical_~n byte    %8.0g                 geopolitical_region\n",
      "mother_educat~n byte    %8.0g                 mother_education\n",
      "-------------------------------------------------------------------------------\n",
      "Sorted by: v001  v002\n",
      "     Note: Dataset has changed since last saved.\n"
     ]
    }
   ],
   "source": [
    "describe"
   ]
  },
  {
   "cell_type": "markdown",
   "id": "12912c1e",
   "metadata": {},
   "source": [
    "To confirm that each household appears once without duplicate"
   ]
  },
  {
   "cell_type": "code",
   "execution_count": 24,
   "id": "9870294e",
   "metadata": {},
   "outputs": [
    {
     "name": "stdout",
     "output_type": "stream",
     "text": [
      "\n",
      "Duplicates in terms of v001 v002\n",
      "\n",
      "--------------------------------------\n",
      "   Copies | Observations       Surplus\n",
      "----------+---------------------------\n",
      "        1 |        19236             0\n",
      "--------------------------------------\n"
     ]
    }
   ],
   "source": [
    "duplicates report v001 v002"
   ]
  },
  {
   "cell_type": "markdown",
   "id": "50c990ce",
   "metadata": {},
   "source": [
    "This dataset uses multi-stage cluster sampling, and the standard errors would be incorrect if survey weight is not applied. This will help to produce estimates that are representative of the Nigerian population and account for the complex sampling structure of the DHS dataset. "
   ]
  },
  {
   "cell_type": "markdown",
   "id": "748b884e",
   "metadata": {},
   "source": [
    "Reapply survey weight"
   ]
  },
  {
   "cell_type": "code",
   "execution_count": 25,
   "id": "036ba745",
   "metadata": {},
   "outputs": [
    {
     "name": "stdout",
     "output_type": "stream",
     "text": [
      "\n",
      "Sampling weights: v005\n",
      "             VCE: linearized\n",
      "     Single unit: missing\n",
      "        Strata 1: v022\n",
      " Sampling unit 1: v021\n",
      "           FPC 1: <zero>\n"
     ]
    }
   ],
   "source": [
    "svyset [pw= v005], psu(v021) strata(v022)"
   ]
  },
  {
   "cell_type": "code",
   "execution_count": 26,
   "id": "195fe028",
   "metadata": {},
   "outputs": [
    {
     "name": "stdout",
     "output_type": "stream",
     "text": [
      "file recodedchildren_under5.dta saved\n"
     ]
    }
   ],
   "source": [
    "save \"recodedchildren_under5.dta\", replace"
   ]
  },
  {
   "cell_type": "markdown",
   "id": "16a64279",
   "metadata": {},
   "source": [
    "Descriptive statistics"
   ]
  },
  {
   "cell_type": "code",
   "execution_count": 27,
   "id": "76aeb804",
   "metadata": {},
   "outputs": [],
   "source": [
    "use /Users/johnadeleke/Desktop/Household_inequalities_and_Child_Health/recodedchildren_under5.dta, clear"
   ]
  },
  {
   "cell_type": "code",
   "execution_count": 28,
   "id": "860e8f10",
   "metadata": {},
   "outputs": [
    {
     "name": "stdout",
     "output_type": "stream",
     "text": [
      "\n",
      "Contains data from /Users/johnadeleke/Desktop/Household_inequalities_and_Child_\n",
      "> Health/recodedchildren_under5.dta\n",
      " Observations:        19,236                  \n",
      "    Variables:            17                  11 Feb 2025 10:26\n",
      "-------------------------------------------------------------------------------\n",
      "Variable      Storage   Display    Value\n",
      "    name         type    format    label      Variable label\n",
      "-------------------------------------------------------------------------------\n",
      "v001            int     %8.0g                 cluster number\n",
      "v002            int     %8.0g                 household number\n",
      "vaccination     byte    %8.0g                 vaccination\n",
      "diarrhea        byte    %8.0g                 diarrhea\n",
      "fever           byte    %8.0g                 fever\n",
      "stunting        float   %11.0g                (max) stunting\n",
      "wasting         float   %10.0g                (max) wasting\n",
      "underweight     float   %15.0g                (max) underweight\n",
      "v005            long    %12.0g                (max) v005\n",
      "v021            int     %8.0g                 (max) v021\n",
      "v022            byte    %8.0g                 (max) v022\n",
      "num_children    long    %8.0g                 (count) b8\n",
      "v190            byte    %8.0g                 (first) v190\n",
      "household_wea~h byte    %18.0g                (first) household_wealth\n",
      "residence_type  byte    %8.0g                 residence_type\n",
      "geopolitical_~n byte    %8.0g                 geopolitical_region\n",
      "mother_educat~n byte    %8.0g                 mother_education\n",
      "-------------------------------------------------------------------------------\n",
      "Sorted by: v001  v002\n"
     ]
    }
   ],
   "source": [
    "describe"
   ]
  },
  {
   "cell_type": "code",
   "execution_count": 29,
   "id": "90952af9",
   "metadata": {},
   "outputs": [
    {
     "name": "stdout",
     "output_type": "stream",
     "text": [
      "\n",
      "-------------------------------------------------------------------------------\n",
      "v001                                                             cluster number\n",
      "-------------------------------------------------------------------------------\n",
      "\n",
      "                  Type: Numeric (int)\n",
      "\n",
      "                 Range: [1,1400]                      Units: 1\n",
      "         Unique values: 1,389                     Missing .: 0/19,236\n",
      "\n",
      "                  Mean: 636.883\n",
      "             Std. dev.: 379.728\n",
      "\n",
      "           Percentiles:     10%       25%       50%       75%       90%\n",
      "                            150       329       599       916      1219\n",
      "\n",
      "-------------------------------------------------------------------------------\n",
      "v002                                                           household number\n",
      "-------------------------------------------------------------------------------\n",
      "\n",
      "                  Type: Numeric (int)\n",
      "\n",
      "                 Range: [1,274]                       Units: 1\n",
      "         Unique values: 207                       Missing .: 0/19,236\n",
      "\n",
      "                  Mean: 31.1478\n",
      "             Std. dev.: 25.1006\n",
      "\n",
      "           Percentiles:     10%       25%       50%       75%       90%\n",
      "                              6      13.5        26        42        60\n",
      "\n",
      "-------------------------------------------------------------------------------\n",
      "vaccination                                                         vaccination\n",
      "-------------------------------------------------------------------------------\n",
      "\n",
      "                  Type: Numeric (byte)\n",
      "\n",
      "                 Range: [0,8]                         Units: 1\n",
      "         Unique values: 3                         Missing .: 10,020/19,236\n",
      "\n",
      "            Tabulation: Freq.  Value\n",
      "                        2,731  0\n",
      "                        6,477  1\n",
      "                            8  8\n",
      "                       10,020  .\n",
      "\n",
      "-------------------------------------------------------------------------------\n",
      "diarrhea                                                               diarrhea\n",
      "-------------------------------------------------------------------------------\n",
      "\n",
      "                  Type: Numeric (byte)\n",
      "\n",
      "                 Range: [0,8]                         Units: 1\n",
      "         Unique values: 3                         Missing .: 610/19,236\n",
      "\n",
      "            Tabulation: Freq.  Value\n",
      "                       15,090  0\n",
      "                        3,433  2\n",
      "                          103  8\n",
      "                          610  .\n",
      "\n",
      "-------------------------------------------------------------------------------\n",
      "fever                                                                     fever\n",
      "-------------------------------------------------------------------------------\n",
      "\n",
      "                  Type: Numeric (byte)\n",
      "\n",
      "                 Range: [0,8]                         Units: 1\n",
      "         Unique values: 3                         Missing .: 610/19,236\n",
      "\n",
      "            Tabulation: Freq.  Value\n",
      "                       12,481  0\n",
      "                        6,041  1\n",
      "                          104  8\n",
      "                          610  .\n",
      "\n",
      "-------------------------------------------------------------------------------\n",
      "stunting                                                         (max) stunting\n",
      "-------------------------------------------------------------------------------\n",
      "\n",
      "                  Type: Numeric (float)\n",
      "\n",
      "                 Range: [0,1]                         Units: 1\n",
      "         Unique values: 2                         Missing .: 0/19,236\n",
      "\n",
      "            Tabulation: Freq.  Value\n",
      "                       16,101  0\n",
      "                        3,135  1\n",
      "\n",
      "-------------------------------------------------------------------------------\n",
      "wasting                                                           (max) wasting\n",
      "-------------------------------------------------------------------------------\n",
      "\n",
      "                  Type: Numeric (float)\n",
      "\n",
      "                 Range: [0,1]                         Units: 1\n",
      "         Unique values: 2                         Missing .: 0/19,236\n",
      "\n",
      "            Tabulation: Freq.  Value\n",
      "                       17,207  0\n",
      "                        2,029  1\n",
      "\n",
      "-------------------------------------------------------------------------------\n",
      "underweight                                                   (max) underweight\n",
      "-------------------------------------------------------------------------------\n",
      "\n",
      "                  Type: Numeric (float)\n",
      "\n",
      "                 Range: [0,1]                         Units: 1\n",
      "         Unique values: 2                         Missing .: 0/19,236\n",
      "\n",
      "            Tabulation: Freq.  Value\n",
      "                       18,514  0\n",
      "                          722  1\n",
      "\n",
      "-------------------------------------------------------------------------------\n",
      "v005                                                                 (max) v005\n",
      "-------------------------------------------------------------------------------\n",
      "\n",
      "                  Type: Numeric (long)\n",
      "\n",
      "                 Range: [103280,13411626]             Units: 1\n",
      "         Unique values: 1,367                     Missing .: 0/19,236\n",
      "\n",
      "                  Mean: 1.0e+06\n",
      "             Std. dev.:  660131\n",
      "\n",
      "           Percentiles:     10%       25%       50%       75%       90%\n",
      "                         431577    612606    874391   1.2e+06   1.7e+06\n",
      "\n",
      "-------------------------------------------------------------------------------\n",
      "v021                                                                 (max) v021\n",
      "-------------------------------------------------------------------------------\n",
      "\n",
      "                  Type: Numeric (int)\n",
      "\n",
      "                 Range: [1,1400]                      Units: 1\n",
      "         Unique values: 1,389                     Missing .: 0/19,236\n",
      "\n",
      "                  Mean: 636.883\n",
      "             Std. dev.: 379.728\n",
      "\n",
      "           Percentiles:     10%       25%       50%       75%       90%\n",
      "                            150       329       599       916      1219\n",
      "\n",
      "-------------------------------------------------------------------------------\n",
      "v022                                                                 (max) v022\n",
      "-------------------------------------------------------------------------------\n",
      "\n",
      "                  Type: Numeric (byte)\n",
      "\n",
      "                 Range: [1,74]                        Units: 1\n",
      "         Unique values: 74                        Missing .: 0/19,236\n",
      "\n",
      "                  Mean: 34.7161\n",
      "             Std. dev.: 19.8739\n",
      "\n",
      "           Percentiles:     10%       25%       50%       75%       90%\n",
      "                              9        19        32        49        65\n",
      "\n",
      "-------------------------------------------------------------------------------\n",
      "num_children                                                         (count) b8\n",
      "-------------------------------------------------------------------------------\n",
      "\n",
      "                  Type: Numeric (long)\n",
      "\n",
      "                 Range: [0,9]                         Units: 1\n",
      "         Unique values: 9                         Missing .: 0/19,236\n",
      "\n",
      "            Tabulation: Freq.  Value\n",
      "                          610  0\n",
      "                        9,700  1\n",
      "                        6,708  2\n",
      "                        1,527  3\n",
      "                          498  4\n",
      "                          147  5\n",
      "                           35  6\n",
      "                           10  7\n",
      "                            1  9\n",
      "\n",
      "-------------------------------------------------------------------------------\n",
      "v190                                                               (first) v190\n",
      "-------------------------------------------------------------------------------\n",
      "\n",
      "                  Type: Numeric (byte)\n",
      "\n",
      "                 Range: [1,5]                         Units: 1\n",
      "         Unique values: 5                         Missing .: 0/19,236\n",
      "\n",
      "            Tabulation: Freq.  Value\n",
      "                        4,223  1\n",
      "                        4,127  2\n",
      "                        4,064  3\n",
      "                        3,708  4\n",
      "                        3,114  5\n",
      "\n",
      "-------------------------------------------------------------------------------\n",
      "household_wealth                                       (first) household_wealth\n",
      "-------------------------------------------------------------------------------\n",
      "\n",
      "                  Type: Numeric (byte)\n",
      "\n",
      "                 Range: [1,3]                         Units: 1\n",
      "         Unique values: 3                         Missing .: 0/19,236\n",
      "\n",
      "            Tabulation: Freq.  Value\n",
      "                        8,350  1\n",
      "                        4,064  2\n",
      "                        6,822  3\n",
      "\n",
      "-------------------------------------------------------------------------------\n",
      "residence_type                                                   residence_type\n",
      "-------------------------------------------------------------------------------\n",
      "\n",
      "                  Type: Numeric (byte)\n",
      "\n",
      "                 Range: [1,2]                         Units: 1\n",
      "         Unique values: 2                         Missing .: 0/19,236\n",
      "\n",
      "            Tabulation: Freq.  Value\n",
      "                        7,190  1\n",
      "                       12,046  2\n",
      "\n",
      "-------------------------------------------------------------------------------\n",
      "geopolitical_region                                         geopolitical_region\n",
      "-------------------------------------------------------------------------------\n",
      "\n",
      "                  Type: Numeric (byte)\n",
      "\n",
      "                 Range: [1,6]                         Units: 1\n",
      "         Unique values: 6                         Missing .: 0/19,236\n",
      "\n",
      "            Tabulation: Freq.  Value\n",
      "                        3,504  1\n",
      "                        3,749  2\n",
      "                        5,152  3\n",
      "                        2,256  4\n",
      "                        2,079  5\n",
      "                        2,496  6\n",
      "\n",
      "-------------------------------------------------------------------------------\n",
      "mother_education                                               mother_education\n",
      "-------------------------------------------------------------------------------\n",
      "\n",
      "                  Type: Numeric (byte)\n",
      "\n",
      "                 Range: [0,3]                         Units: 1\n",
      "         Unique values: 4                         Missing .: 0/19,236\n",
      "\n",
      "            Tabulation: Freq.  Value\n",
      "                        7,825  0\n",
      "                        3,090  1\n",
      "                        6,574  2\n",
      "                        1,747  3\n"
     ]
    }
   ],
   "source": [
    "codebook"
   ]
  },
  {
   "cell_type": "code",
   "execution_count": 30,
   "id": "c694f5e4",
   "metadata": {},
   "outputs": [
    {
     "name": "stdout",
     "output_type": "stream",
     "text": [
      "\n",
      "    Variable |        Obs        Mean    Std. dev.       Min        Max\n",
      "-------------+---------------------------------------------------------\n",
      "    stunting |     19,236    .1629757    .3693531          0          1\n",
      "     wasting |     19,236    .1054793     .307178          0          1\n",
      " underweight |     19,236    .0375338    .1900707          0          1\n",
      "household_~h |     19,236    1.920566    .8845679          1          3\n",
      "mother_edu~n |     19,236    1.116604     1.04799          0          3\n",
      "-------------+---------------------------------------------------------\n",
      "residence_~e |     19,236    1.626222    .4838184          1          2\n",
      "geopolitic~n |     19,236    3.163496    1.616892          1          6\n"
     ]
    }
   ],
   "source": [
    "summarize stunting wasting underweight household_wealth mother_education residence_type geopolitical_region"
   ]
  },
  {
   "cell_type": "code",
   "execution_count": 31,
   "id": "825ffe3e",
   "metadata": {},
   "outputs": [
    {
     "name": "stdout",
     "output_type": "stream",
     "text": [
      "\n",
      "Summary for variables: stunting wasting underweight household_wealth geopolitic\n",
      "> al_region\n",
      "Group variable: residence_type (residence_type)\n",
      "\n",
      "residence_type |      Mean        SD         N\n",
      "---------------+------------------------------\n",
      "             1 |  .1315716   .338048      7190\n",
      "               |  .0799722   .271269      7190\n",
      "               |  .0299026  .1703306      7190\n",
      "               |   2.52267  .7181649      7190\n",
      "               |  3.706815  1.743456      7190\n",
      "---------------+------------------------------\n",
      "             2 |  .1817201  .3856297     12046\n",
      "               |   .120704  .3257965     12046\n",
      "               |  .0420887  .2007998     12046\n",
      "               |  1.561182  .7720958     12046\n",
      "               |    2.8392  1.441988     12046\n",
      "---------------+------------------------------\n",
      "         Total |  .1629757  .3693531     19236\n",
      "               |  .1054793   .307178     19236\n",
      "               |  .0375338  .1900707     19236\n",
      "               |  1.920566  .8845679     19236\n",
      "               |  3.163496  1.616892     19236\n",
      "----------------------------------------------\n"
     ]
    }
   ],
   "source": [
    "tabstat stunting wasting underweight household_wealth geopolitical_region, by(residence_type) statistics(mean sd count) columns(statistics)\n"
   ]
  },
  {
   "cell_type": "markdown",
   "id": "a0c06e9c",
   "metadata": {},
   "source": [
    "Does household wealth impact each child health outcome? Association?"
   ]
  },
  {
   "cell_type": "code",
   "execution_count": 32,
   "id": "4b2c0705",
   "metadata": {},
   "outputs": [
    {
     "name": "stdout",
     "output_type": "stream",
     "text": [
      "\n",
      "     (max) |     (first) household_wealth\n",
      "  stunting |         1          2          3 |     Total\n",
      "-----------+---------------------------------+----------\n",
      "         0 |     6,661      3,353      6,087 |    16,101 \n",
      "         1 |     1,689        711        735 |     3,135 \n",
      "-----------+---------------------------------+----------\n",
      "     Total |     8,350      4,064      6,822 |    19,236 \n",
      "\n",
      "          Pearson chi2(2) = 251.3893   Pr = 0.000\n",
      "\n",
      "     (max) |     (first) household_wealth\n",
      "   wasting |         1          2          3 |     Total\n",
      "-----------+---------------------------------+----------\n",
      "         0 |     7,198      3,639      6,370 |    17,207 \n",
      "         1 |     1,152        425        452 |     2,029 \n",
      "-----------+---------------------------------+----------\n",
      "     Total |     8,350      4,064      6,822 |    19,236 \n",
      "\n",
      "          Pearson chi2(2) = 204.6564   Pr = 0.000\n",
      "\n",
      "     (max) |\n",
      "underweigh |     (first) household_wealth\n",
      "         t |         1          2          3 |     Total\n",
      "-----------+---------------------------------+----------\n",
      "         0 |     7,968      3,912      6,634 |    18,514 \n",
      "         1 |       382        152        188 |       722 \n",
      "-----------+---------------------------------+----------\n",
      "     Total |     8,350      4,064      6,822 |    19,236 \n",
      "\n",
      "          Pearson chi2(2) =  34.3932   Pr = 0.000\n"
     ]
    }
   ],
   "source": [
    "tabulate stunting household_wealth, chi2\n",
    "tabulate wasting household_wealth, chi2\n",
    "tabulate underweight household_wealth, chi2"
   ]
  },
  {
   "cell_type": "markdown",
   "id": "159f308f",
   "metadata": {},
   "source": [
    "Correllation matrix"
   ]
  },
  {
   "cell_type": "code",
   "execution_count": 33,
   "id": "29f32dc9",
   "metadata": {},
   "outputs": [
    {
     "name": "stdout",
     "output_type": "stream",
     "text": [
      "\n",
      "             | stunting  wasting underw~t househ~h mother~n reside~e geopol~n\n",
      "-------------+---------------------------------------------------------------\n",
      "    stunting |   1.0000 \n",
      "     wasting |   0.6458   1.0000 \n",
      " underweight |   0.2320   0.4549   1.0000 \n",
      "household_~h |  -0.1122  -0.1031  -0.0423   1.0000 \n",
      "mother_edu~n |  -0.1348  -0.1295  -0.0515   0.6068   1.0000 \n",
      "residence_~e |   0.0657   0.0642   0.0310  -0.5259  -0.3788   1.0000 \n",
      "geopolitic~n |  -0.0350  -0.0310  -0.0196   0.3346   0.3401  -0.2596   1.0000 \n"
     ]
    }
   ],
   "source": [
    "pwcorr stunting wasting underweight household_wealth mother_education residence_type geopolitical_region"
   ]
  },
  {
   "cell_type": "code",
   "execution_count": 34,
   "id": "92214158",
   "metadata": {},
   "outputs": [
    {
     "name": "stdout",
     "output_type": "stream",
     "text": [
      "\n",
      "      Source |       SS           df       MS      Number of obs   =    19,236\n",
      "-------------+----------------------------------   F(2, 19233)     =    127.34\n",
      "       Model |  34.2931703         2  17.1465852   Prob > F        =    0.0000\n",
      "    Residual |   2589.7781    19,233  .134652842   R-squared       =    0.0131\n",
      "-------------+----------------------------------   Adj R-squared   =    0.0130\n",
      "       Total |  2624.07127    19,235  .136421693   Root MSE        =    .36695\n",
      "\n",
      "------------------------------------------------------------------------------\n",
      "    stunting | Coefficient  Std. err.      t    P>|t|     [95% conf. interval]\n",
      "-------------+----------------------------------------------------------------\n",
      "household_~h |\n",
      "          2  |  -.0273247   .0070185    -3.89   0.000    -.0410815   -.0135678\n",
      "          3  |  -.0945358   .0059887   -15.79   0.000    -.1062741   -.0827975\n",
      "             |\n",
      "       _cons |   .2022754   .0040157    50.37   0.000     .1944043    .2101466\n",
      "------------------------------------------------------------------------------\n"
     ]
    }
   ],
   "source": [
    "reg stunting i.household_wealth"
   ]
  },
  {
   "cell_type": "code",
   "execution_count": 35,
   "id": "124d50e0",
   "metadata": {},
   "outputs": [
    {
     "name": "stdout",
     "output_type": "stream",
     "text": [
      "\n",
      "      Source |       SS           df       MS      Number of obs   =    19,236\n",
      "-------------+----------------------------------   F(2, 19233)     =    103.41\n",
      "       Model |  19.3100354         2  9.65501769   Prob > F        =    0.0000\n",
      "    Residual |  1795.67245    19,233  .093364137   R-squared       =    0.0106\n",
      "-------------+----------------------------------   Adj R-squared   =    0.0105\n",
      "       Total |  1814.98248    19,235   .09435833   Root MSE        =    .30556\n",
      "\n",
      "------------------------------------------------------------------------------\n",
      "     wasting | Coefficient  Std. err.      t    P>|t|     [95% conf. interval]\n",
      "-------------+----------------------------------------------------------------\n",
      "household_~h |\n",
      "          2  |  -.0333873   .0058442    -5.71   0.000    -.0448425   -.0219321\n",
      "          3  |  -.0717078   .0049867   -14.38   0.000    -.0814822   -.0619335\n",
      "             |\n",
      "       _cons |   .1379641   .0033439    41.26   0.000     .1314098    .1445183\n",
      "------------------------------------------------------------------------------\n"
     ]
    }
   ],
   "source": [
    "reg wasting i.household_wealth"
   ]
  },
  {
   "cell_type": "code",
   "execution_count": 36,
   "id": "3774d8c6",
   "metadata": {},
   "outputs": [
    {
     "name": "stdout",
     "output_type": "stream",
     "text": [
      "\n",
      "      Source |       SS           df       MS      Number of obs   =    19,236\n",
      "-------------+----------------------------------   F(2, 19233)     =     17.22\n",
      "       Model |  1.24245592         2   .62122796   Prob > F        =    0.0000\n",
      "    Residual |  693.658147    19,233   .03606604   R-squared       =    0.0018\n",
      "-------------+----------------------------------   Adj R-squared   =    0.0017\n",
      "       Total |  694.900603    19,235  .036126883   Root MSE        =    .18991\n",
      "\n",
      "------------------------------------------------------------------------------\n",
      " underweight | Coefficient  Std. err.      t    P>|t|     [95% conf. interval]\n",
      "-------------+----------------------------------------------------------------\n",
      "household_~h |\n",
      "          2  |  -.0083469   .0036323    -2.30   0.022    -.0154666   -.0012272\n",
      "          3  |  -.0181906   .0030994    -5.87   0.000    -.0242656   -.0121156\n",
      "             |\n",
      "       _cons |   .0457485   .0020783    22.01   0.000     .0416749    .0498221\n",
      "------------------------------------------------------------------------------\n"
     ]
    }
   ],
   "source": [
    "reg underweight i.household_wealth"
   ]
  },
  {
   "cell_type": "code",
   "execution_count": 37,
   "id": "da4db6f2",
   "metadata": {},
   "outputs": [
    {
     "name": "stdout",
     "output_type": "stream",
     "text": [
      "\n",
      "Iteration 0:  Log likelihood = -8551.7763  \n",
      "Iteration 1:  Log likelihood = -8360.8244  \n",
      "Iteration 2:  Log likelihood = -8354.3413  \n",
      "Iteration 3:  Log likelihood = -8354.3079  \n",
      "Iteration 4:  Log likelihood = -8354.3079  \n",
      "\n",
      "Logistic regression                                     Number of obs = 19,236\n",
      "                                                        LR chi2(35)   = 394.94\n",
      "                                                        Prob > chi2   = 0.0000\n",
      "Log likelihood = -8354.3079                             Pseudo R2     = 0.0231\n",
      "\n",
      "------------------------------------------------------------------------------\n",
      "    stunting | Odds ratio   Std. err.      z    P>|z|     [95% conf. interval]\n",
      "-------------+----------------------------------------------------------------\n",
      "household_~h |\n",
      "          2  |   .8822134   .2662125    -0.42   0.678     .4883365    1.593779\n",
      "          3  |   .4188014   .1102016    -3.31   0.001     .2500499    .7014386\n",
      "             |\n",
      "2.residenc~e |   .9646107   .2331556    -0.15   0.882     .6006321    1.549158\n",
      "             |\n",
      "household_~h#|\n",
      "residence_~e |\n",
      "        2 2  |   .8174598    .270861    -0.61   0.543     .4269975    1.564975\n",
      "        3 2  |   1.211379   .3853961     0.60   0.547     .6493413    2.259888\n",
      "             |\n",
      "geopolitic~n |\n",
      "          2  |    1.18627   .3842682     0.53   0.598     .6287153    2.238273\n",
      "          3  |   1.311741   .3502099     1.02   0.309     .7773085    2.213618\n",
      "          4  |   .8175466   .2353098    -0.70   0.484     .4650675    1.437173\n",
      "          5  |   .7826087   .4185829    -0.46   0.647     .2743307     2.23262\n",
      "          6  |    1.20564   .4156971     0.54   0.588     .6133791    2.369772\n",
      "             |\n",
      "household_~h#|\n",
      "geopolitic~n |\n",
      "        2 2  |   1.043447    .427559     0.10   0.917     .4673959    2.329462\n",
      "        2 3  |   .9966149    .355712    -0.01   0.992     .4951267    2.006034\n",
      "        2 4  |   1.297966   .4859995     0.70   0.486     .6230837    2.703834\n",
      "        2 5  |   1.004704   .6454209     0.01   0.994     .2852511    3.538744\n",
      "        2 6  |   .9408448   .4082733    -0.14   0.888     .4019248    2.202375\n",
      "        3 2  |   1.692431   .6322828     1.41   0.159     .8137796    3.519777\n",
      "        3 3  |   1.458945   .4625259     1.19   0.233     .7837622    2.715772\n",
      "        3 4  |   1.489506   .5004059     1.19   0.236     .7710407    2.877445\n",
      "        3 5  |   .9568786   .5515198    -0.08   0.939      .309205    2.961196\n",
      "        3 6  |   1.164284   .4393812     0.40   0.687     .5556868    2.439429\n",
      "             |\n",
      "residence_~e#|\n",
      "geopolitic~n |\n",
      "        2 2  |   1.032287   .3473188     0.09   0.925     .5338375    1.996145\n",
      "        2 3  |   1.118828   .3140657     0.40   0.689     .6453907    1.939562\n",
      "        2 4  |   .8063126   .3381408    -0.51   0.608     .3544359    1.834295\n",
      "        2 5  |   1.025775   .5771225     0.05   0.964     .3405246    3.089982\n",
      "        2 6  |   .9301336   .3632663    -0.19   0.853     .4326196     1.99979\n",
      "             |\n",
      "household_~h#|\n",
      "residence_~e#|\n",
      "geopolitic~n |\n",
      "      2 2 2  |   1.189362   .5386776     0.38   0.702     .4895462    2.889578\n",
      "      2 2 3  |   1.455644   .5780612     0.95   0.344     .6683876    3.170165\n",
      "      2 2 4  |    1.15651   .6198092     0.27   0.786     .4045425     3.30624\n",
      "      2 2 5  |   1.642703   1.129005     0.72   0.470     .4271112    6.317964\n",
      "      2 2 6  |   1.627813   .8366636     0.95   0.343     .5944339    4.457643\n",
      "      3 2 2  |   .6751767   .3416026    -0.78   0.438     .2504701    1.820032\n",
      "      3 2 3  |   1.045641    .423041     0.11   0.912     .4731588    2.310777\n",
      "      3 2 4  |   1.088501   .5516879     0.17   0.867     .4030992    2.939311\n",
      "      3 2 5  |   1.427559   .9113378     0.56   0.577      .408504    4.988749\n",
      "      3 2 6  |   .8597047    .419752    -0.31   0.757     .3301787    2.238461\n",
      "             |\n",
      "       _cons |    .212963   .0489062    -6.73   0.000     .1357778    .3340254\n",
      "------------------------------------------------------------------------------\n",
      "Note: _cons estimates baseline odds.\n",
      "\n",
      "Iteration 0:  Log likelihood = -6481.7258  \n",
      "Iteration 1:  Log likelihood = -6304.8546  \n",
      "Iteration 2:  Log likelihood = -6294.5228  \n",
      "Iteration 3:  Log likelihood = -6294.4845  \n",
      "Iteration 4:  Log likelihood = -6294.4845  \n",
      "\n",
      "Logistic regression                                     Number of obs = 19,236\n",
      "                                                        LR chi2(35)   = 374.48\n",
      "                                                        Prob > chi2   = 0.0000\n",
      "Log likelihood = -6294.4845                             Pseudo R2     = 0.0289\n",
      "\n",
      "------------------------------------------------------------------------------\n",
      "     wasting | Odds ratio   Std. err.      z    P>|z|     [95% conf. interval]\n",
      "-------------+----------------------------------------------------------------\n",
      "household_~h |\n",
      "          2  |   1.455116   .6132052     0.89   0.373     .6370742    3.323573\n",
      "          3  |   .7265069   .2766506    -0.84   0.401      .344434    1.532405\n",
      "             |\n",
      "2.residenc~e |   1.275677   .4591251     0.68   0.499     .6300676     2.58282\n",
      "             |\n",
      "household_~h#|\n",
      "residence_~e |\n",
      "        2 2  |   .5902281   .2698363    -1.15   0.249     .2409204    1.445993\n",
      "        3 2  |   1.095212   .4772714     0.21   0.835     .4661888     2.57297\n",
      "             |\n",
      "geopolitic~n |\n",
      "          2  |   1.955128   .8646661     1.52   0.130     .8217254    4.651829\n",
      "          3  |    2.02101   .7757479     1.83   0.067     .9524493    4.288398\n",
      "          4  |   1.237437   .5085725     0.52   0.604     .5529536    2.769218\n",
      "          5  |   1.270833   .8840207     0.34   0.730     .3250673    4.968255\n",
      "          6  |   1.818428   .8575813     1.27   0.205     .7215469    4.582767\n",
      "             |\n",
      "household_~h#|\n",
      "geopolitic~n |\n",
      "        2 2  |   .6543928   .3520445    -0.79   0.431     .2279904     1.87828\n",
      "        2 3  |   .6691169   .3216384    -0.84   0.403     .2608178    1.716591\n",
      "        2 4  |   .8882946   .4486924    -0.23   0.815     .3300661    2.390634\n",
      "        2 5  |   .4629763   .3926752    -0.91   0.364     .0878231    2.440669\n",
      "        2 6  |   .6501256   .3710671    -0.75   0.451     .2124045    1.989899\n",
      "        3 2  |   1.065884   .5298855     0.13   0.898     .4023002    2.824034\n",
      "        3 3  |   .7772884   .3433805    -0.57   0.568     .3270011     1.84763\n",
      "        3 4  |    .897068   .4180295    -0.23   0.816     .3598897    2.236049\n",
      "        3 5  |   .7233895   .5357238    -0.44   0.662     .1694315    3.088519\n",
      "        3 6  |   .7668763   .3901711    -0.52   0.602     .2829119    2.078736\n",
      "             |\n",
      "residence_~e#|\n",
      "geopolitic~n |\n",
      "        2 2  |   .9212352   .4213241    -0.18   0.858     .3759033    2.257693\n",
      "        2 3  |   1.132043   .4525311     0.31   0.756     .5171273    2.478155\n",
      "        2 4  |   .4128482   .2574109    -1.42   0.156     .1216371    1.401247\n",
      "        2 5  |    .740205   .5411259    -0.41   0.681     .1766372    3.101857\n",
      "        2 6  |   .5435908   .2913609    -1.14   0.255     .1901227    1.554212\n",
      "             |\n",
      "household_~h#|\n",
      "residence_~e#|\n",
      "geopolitic~n |\n",
      "      2 2 2  |   1.200482   .7103133     0.31   0.757     .3764505    3.828276\n",
      "      2 2 3  |   1.338655   .7074512     0.55   0.581     .4751452    3.771472\n",
      "      2 2 4  |   2.441548   1.821707     1.20   0.232     .5656659     10.5383\n",
      "      2 2 5  |   2.917332    2.63749     1.18   0.236     .4959465    17.16077\n",
      "      2 2 6  |   2.457803   1.664832     1.33   0.184     .6515868    9.270899\n",
      "      3 2 2  |   .4013292   .2756265    -1.33   0.184     .1044501    1.542029\n",
      "      3 2 3  |   .9961903   .5326207    -0.01   0.994      .349334     2.84082\n",
      "      3 2 4  |   2.012096   1.434851     0.98   0.327     .4973316      8.1405\n",
      "      3 2 5  |    1.06085   .8675655     0.07   0.942     .2135698    5.269488\n",
      "      3 2 6  |   1.484261   .9452169     0.62   0.535     .4260323    5.171042\n",
      "             |\n",
      "       _cons |   .0737705    .025481    -7.55   0.000      .037486    .1451764\n",
      "------------------------------------------------------------------------------\n",
      "Note: _cons estimates baseline odds.\n",
      "\n",
      "note: 1.household_wealth#1.residence_type#5.geopolitical_region != 0 predicts f\n",
      "> ailure perfectly;\n",
      "      1.household_wealth#1.residence_type#5.geopolitical_region omitted and 35 \n",
      "> obs not used.\n",
      "\n",
      "note: 3.household_wealth#2.residence_type#5.geopolitical_region omitted because\n",
      ">  of collinearity.\n",
      "Iteration 0:  Log likelihood = -3076.9122  \n",
      "Iteration 1:  Log likelihood = -3035.2813  \n",
      "Iteration 2:  Log likelihood = -3032.6263  \n",
      "Iteration 3:  Log likelihood = -3032.6185  \n",
      "Iteration 4:  Log likelihood = -3032.6185  \n",
      "\n",
      "Logistic regression                                     Number of obs = 19,201\n",
      "                                                        LR chi2(34)   =  88.59\n",
      "                                                        Prob > chi2   = 0.0000\n",
      "Log likelihood = -3032.6185                             Pseudo R2     = 0.0144\n",
      "\n",
      "------------------------------------------------------------------------------\n",
      " underweight | Odds ratio   Std. err.      z    P>|z|     [95% conf. interval]\n",
      "-------------+----------------------------------------------------------------\n",
      "household_~h |\n",
      "          2  |   1.815603   1.246653     0.87   0.385     .4726697    6.974033\n",
      "          3  |   .6448363    .420747    -0.67   0.501     .1794948    2.316578\n",
      "             |\n",
      "2.residenc~e |   1.601334   .9663918     0.78   0.435     .4906695    5.226067\n",
      "             |\n",
      "household_~h#|\n",
      "residence_~e |\n",
      "        2 2  |   .4891753   .3599649    -0.97   0.331     .1156375    2.069333\n",
      "        3 2  |   1.243417   .9035397     0.30   0.764     .2992843    5.165945\n",
      "             |\n",
      "geopolitic~n |\n",
      "          2  |   3.490909   2.371116     1.84   0.066      .922105     13.2159\n",
      "          3  |   1.977925   1.275548     1.06   0.290     .5588262    7.000722\n",
      "          4  |   1.338562   .9177377     0.43   0.671     .3491743    5.131387\n",
      "          5  |   3.116566   2.118832     1.67   0.095     .8222005     11.8134\n",
      "          6  |   .9377289   .8656284    -0.07   0.944      .153576    5.725735\n",
      "             |\n",
      "household_~h#|\n",
      "geopolitic~n |\n",
      "        2 2  |   .3192935   .2630934    -1.39   0.166     .0635056    1.605344\n",
      "        2 3  |   .5241679   .4113341    -0.82   0.410     .1125902    2.440282\n",
      "        2 4  |   .4757765   .3989426    -0.89   0.376     .0919736    2.461176\n",
      "        2 5  |    .230827   .2233265    -1.52   0.130     .0346533    1.537549\n",
      "        2 6  |   .9368429   .9879704    -0.06   0.951       .11858    7.401539\n",
      "        3 2  |   .6409563   .5046018    -0.56   0.572     .1369961    2.998809\n",
      "        3 3  |   .8703107   .6539529    -0.18   0.853      .199563    3.795496\n",
      "        3 4  |   1.710843   1.315916     0.70   0.485     .3788769    7.725424\n",
      "        3 5  |   .5686776   .3161999    -1.02   0.310     .1912385    1.691052\n",
      "        3 6  |   1.915215   1.880189     0.66   0.508     .2796295    13.11753\n",
      "             |\n",
      "residence_~e#|\n",
      "geopolitic~n |\n",
      "        2 2  |   .3827912   .2689189    -1.37   0.172     .0965995    1.516872\n",
      "        2 3  |   .7861131   .5245232    -0.36   0.718     .2125849    2.906951\n",
      "        2 4  |   .3720612   .3725203    -0.99   0.323     .0522832    2.647685\n",
      "        2 5  |   .2929665   .1721113    -2.09   0.037     .0926309    .9265738\n",
      "        2 6  |   .4920139   .5229069    -0.67   0.505     .0612816    3.950252\n",
      "             |\n",
      "household_~h#|\n",
      "residence_~e#|\n",
      "geopolitic~n |\n",
      "      1 1 5  |          1  (empty)\n",
      "      2 2 2  |   3.524422   3.173187     1.40   0.162     .6035522    20.58074\n",
      "      2 2 3  |   1.926461   1.645614     0.77   0.443     .3611192    10.27709\n",
      "      2 2 4  |   6.057858   7.135049     1.53   0.126     .6022259    60.93668\n",
      "      2 2 5  |   3.227763   3.176067     1.19   0.234     .4691732    22.20599\n",
      "      2 2 6  |   2.021547   2.563464     0.56   0.579     .1683838    24.26987\n",
      "      3 2 2  |   1.464083   1.457218     0.38   0.702     .2081398    10.29855\n",
      "      3 2 3  |    1.03761   .9216448     0.04   0.967     .1819552    5.917031\n",
      "      3 2 4  |   1.628818    1.82916     0.43   0.664     .1802911    14.71536\n",
      "      3 2 5  |          1  (omitted)\n",
      "      3 2 6  |   1.589026   1.885014     0.39   0.696     .1553734     16.2512\n",
      "             |\n",
      "       _cons |   .0234375   .0136893    -6.43   0.000     .0074601     .073634\n",
      "------------------------------------------------------------------------------\n",
      "Note: _cons estimates baseline odds.\n"
     ]
    }
   ],
   "source": [
    "logit stunting i.household_wealth##i.residence_type##i.geopolitical_region, or\n",
    "logit wasting i.household_wealth##i.residence_type##i.geopolitical_region, or\n",
    "logit underweight i.household_wealth##i.residence_type##i.geopolitical_region, or"
   ]
  },
  {
   "cell_type": "code",
   "execution_count": 38,
   "id": "edeba0d3",
   "metadata": {},
   "outputs": [
    {
     "name": "stdout",
     "output_type": "stream",
     "text": [
      "\n",
      "Iteration 0:  Log likelihood = -8551.7763  \n",
      "Iteration 1:  Log likelihood = -8360.8244  \n",
      "Iteration 2:  Log likelihood = -8354.3413  \n",
      "Iteration 3:  Log likelihood = -8354.3079  \n",
      "Iteration 4:  Log likelihood = -8354.3079  \n",
      "\n",
      "Logistic regression                                     Number of obs = 19,236\n",
      "                                                        LR chi2(35)   = 394.94\n",
      "                                                        Prob > chi2   = 0.0000\n",
      "Log likelihood = -8354.3079                             Pseudo R2     = 0.0231\n",
      "\n",
      "------------------------------------------------------------------------------\n",
      "    stunting | Odds ratio   Std. err.      z    P>|z|     [95% conf. interval]\n",
      "-------------+----------------------------------------------------------------\n",
      "household_~h |\n",
      "          2  |   .8822134   .2662125    -0.42   0.678     .4883365    1.593779\n",
      "          3  |   .4188014   .1102016    -3.31   0.001     .2500499    .7014386\n",
      "             |\n",
      "2.residenc~e |   .9646107   .2331556    -0.15   0.882     .6006321    1.549158\n",
      "             |\n",
      "household_~h#|\n",
      "residence_~e |\n",
      "        2 2  |   .8174598    .270861    -0.61   0.543     .4269975    1.564975\n",
      "        3 2  |   1.211379   .3853961     0.60   0.547     .6493413    2.259888\n",
      "             |\n",
      "geopolitic~n |\n",
      "          2  |    1.18627   .3842682     0.53   0.598     .6287153    2.238273\n",
      "          3  |   1.311741   .3502099     1.02   0.309     .7773085    2.213618\n",
      "          4  |   .8175466   .2353098    -0.70   0.484     .4650675    1.437173\n",
      "          5  |   .7826087   .4185829    -0.46   0.647     .2743307     2.23262\n",
      "          6  |    1.20564   .4156971     0.54   0.588     .6133791    2.369772\n",
      "             |\n",
      "household_~h#|\n",
      "geopolitic~n |\n",
      "        2 2  |   1.043447    .427559     0.10   0.917     .4673959    2.329462\n",
      "        2 3  |   .9966149    .355712    -0.01   0.992     .4951267    2.006034\n",
      "        2 4  |   1.297966   .4859995     0.70   0.486     .6230837    2.703834\n",
      "        2 5  |   1.004704   .6454209     0.01   0.994     .2852511    3.538744\n",
      "        2 6  |   .9408448   .4082733    -0.14   0.888     .4019248    2.202375\n",
      "        3 2  |   1.692431   .6322828     1.41   0.159     .8137796    3.519777\n",
      "        3 3  |   1.458945   .4625259     1.19   0.233     .7837622    2.715772\n",
      "        3 4  |   1.489506   .5004059     1.19   0.236     .7710407    2.877445\n",
      "        3 5  |   .9568786   .5515198    -0.08   0.939      .309205    2.961196\n",
      "        3 6  |   1.164284   .4393812     0.40   0.687     .5556868    2.439429\n",
      "             |\n",
      "residence_~e#|\n",
      "geopolitic~n |\n",
      "        2 2  |   1.032287   .3473188     0.09   0.925     .5338375    1.996145\n",
      "        2 3  |   1.118828   .3140657     0.40   0.689     .6453907    1.939562\n",
      "        2 4  |   .8063126   .3381408    -0.51   0.608     .3544359    1.834295\n",
      "        2 5  |   1.025775   .5771225     0.05   0.964     .3405246    3.089982\n",
      "        2 6  |   .9301336   .3632663    -0.19   0.853     .4326196     1.99979\n",
      "             |\n",
      "household_~h#|\n",
      "residence_~e#|\n",
      "geopolitic~n |\n",
      "      2 2 2  |   1.189362   .5386776     0.38   0.702     .4895462    2.889578\n",
      "      2 2 3  |   1.455644   .5780612     0.95   0.344     .6683876    3.170165\n",
      "      2 2 4  |    1.15651   .6198092     0.27   0.786     .4045425     3.30624\n",
      "      2 2 5  |   1.642703   1.129005     0.72   0.470     .4271112    6.317964\n",
      "      2 2 6  |   1.627813   .8366636     0.95   0.343     .5944339    4.457643\n",
      "      3 2 2  |   .6751767   .3416026    -0.78   0.438     .2504701    1.820032\n",
      "      3 2 3  |   1.045641    .423041     0.11   0.912     .4731588    2.310777\n",
      "      3 2 4  |   1.088501   .5516879     0.17   0.867     .4030992    2.939311\n",
      "      3 2 5  |   1.427559   .9113378     0.56   0.577      .408504    4.988749\n",
      "      3 2 6  |   .8597047    .419752    -0.31   0.757     .3301787    2.238461\n",
      "             |\n",
      "       _cons |    .212963   .0489062    -6.73   0.000     .1357778    .3340254\n",
      "------------------------------------------------------------------------------\n",
      "Note: _cons estimates baseline odds.\n",
      "\n",
      "Predictive margins                                      Number of obs = 19,236\n",
      "Model VCE: OIM\n",
      "\n",
      "Expression: Pr(stunting), predict()\n",
      "\n",
      "------------------------------------------------------------------------------\n",
      "             |            Delta-method\n",
      "             |     Margin   std. err.      z    P>|z|     [95% conf. interval]\n",
      "-------------+----------------------------------------------------------------\n",
      "household_~h#|\n",
      "residence_~e |\n",
      "        1 1  |   .1891113   .0142724    13.25   0.000     .1611378    .2170847\n",
      "        1 2  |   .1858415   .0062373    29.80   0.000     .1736166    .1980663\n",
      "        2 1  |   .1745965    .010269    17.00   0.000     .1544696    .1947235\n",
      "        2 2  |   .1825895   .0081049    22.53   0.000     .1667043    .1984748\n",
      "        3 1  |   .1162585   .0056997    20.40   0.000     .1050873    .1274298\n",
      "        3 2  |   .1290966   .0102092    12.65   0.000     .1090868    .1491063\n",
      "------------------------------------------------------------------------------\n"
     ]
    }
   ],
   "source": [
    "* Interaction for Stunting\n",
    "logit stunting i.household_wealth##i.residence_type##i.geopolitical_region, or\n",
    "margins household_wealth#residence_type\n"
   ]
  },
  {
   "cell_type": "code",
   "execution_count": 39,
   "id": "f573b5a0",
   "metadata": {},
   "outputs": [
    {
     "name": "stdout",
     "output_type": "stream",
     "text": [
      "\n",
      "Predictive margins                                      Number of obs = 19,236\n",
      "Model VCE: OIM\n",
      "\n",
      "Expression: Pr(stunting), predict()\n",
      "\n",
      "------------------------------------------------------------------------------\n",
      "             |            Delta-method\n",
      "             |     Margin   std. err.      z    P>|z|     [95% conf. interval]\n",
      "-------------+----------------------------------------------------------------\n",
      "household_~h#|\n",
      "residence_~e |\n",
      "        1 1  |   .1891113   .0142724    13.25   0.000     .1611378    .2170847\n",
      "        1 2  |   .1858415   .0062373    29.80   0.000     .1736166    .1980663\n",
      "        2 1  |   .1745965    .010269    17.00   0.000     .1544696    .1947235\n",
      "        2 2  |   .1825895   .0081049    22.53   0.000     .1667043    .1984748\n",
      "        3 1  |   .1162585   .0056997    20.40   0.000     .1050873    .1274298\n",
      "        3 2  |   .1290966   .0102092    12.65   0.000     .1090868    .1491063\n",
      "------------------------------------------------------------------------------\n",
      "\n",
      "Variables that uniquely identify margins: household_wealth residence_type\n"
     ]
    },
    {
     "data": {
      "image/png": "[encoded data removed]",
      "text/plain": [
       "<IPython.core.display.Image object>"
      ]
     },
     "metadata": {},
     "output_type": "display_data"
    }
   ],
   "source": [
    "margins household_wealth#residence_type\n",
    "marginsplot"
   ]
  },
  {
   "cell_type": "code",
   "execution_count": 40,
   "id": "8428d4c7",
   "metadata": {},
   "outputs": [
    {
     "name": "stdout",
     "output_type": "stream",
     "text": [
      "\n",
      "Iteration 0:  Log likelihood = -6481.7258  \n",
      "Iteration 1:  Log likelihood = -6304.8546  \n",
      "Iteration 2:  Log likelihood = -6294.5228  \n",
      "Iteration 3:  Log likelihood = -6294.4845  \n",
      "Iteration 4:  Log likelihood = -6294.4845  \n",
      "\n",
      "Logistic regression                                     Number of obs = 19,236\n",
      "                                                        LR chi2(35)   = 374.48\n",
      "                                                        Prob > chi2   = 0.0000\n",
      "Log likelihood = -6294.4845                             Pseudo R2     = 0.0289\n",
      "\n",
      "------------------------------------------------------------------------------\n",
      "     wasting | Odds ratio   Std. err.      z    P>|z|     [95% conf. interval]\n",
      "-------------+----------------------------------------------------------------\n",
      "household_~h |\n",
      "          2  |   1.455116   .6132052     0.89   0.373     .6370742    3.323573\n",
      "          3  |   .7265069   .2766506    -0.84   0.401      .344434    1.532405\n",
      "             |\n",
      "2.residenc~e |   1.275677   .4591251     0.68   0.499     .6300676     2.58282\n",
      "             |\n",
      "household_~h#|\n",
      "residence_~e |\n",
      "        2 2  |   .5902281   .2698363    -1.15   0.249     .2409204    1.445993\n",
      "        3 2  |   1.095212   .4772714     0.21   0.835     .4661888     2.57297\n",
      "             |\n",
      "geopolitic~n |\n",
      "          2  |   1.955128   .8646661     1.52   0.130     .8217254    4.651829\n",
      "          3  |    2.02101   .7757479     1.83   0.067     .9524493    4.288398\n",
      "          4  |   1.237437   .5085725     0.52   0.604     .5529536    2.769218\n",
      "          5  |   1.270833   .8840207     0.34   0.730     .3250673    4.968255\n",
      "          6  |   1.818428   .8575813     1.27   0.205     .7215469    4.582767\n",
      "             |\n",
      "household_~h#|\n",
      "geopolitic~n |\n",
      "        2 2  |   .6543928   .3520445    -0.79   0.431     .2279904     1.87828\n",
      "        2 3  |   .6691169   .3216384    -0.84   0.403     .2608178    1.716591\n",
      "        2 4  |   .8882946   .4486924    -0.23   0.815     .3300661    2.390634\n",
      "        2 5  |   .4629763   .3926752    -0.91   0.364     .0878231    2.440669\n",
      "        2 6  |   .6501256   .3710671    -0.75   0.451     .2124045    1.989899\n",
      "        3 2  |   1.065884   .5298855     0.13   0.898     .4023002    2.824034\n",
      "        3 3  |   .7772884   .3433805    -0.57   0.568     .3270011     1.84763\n",
      "        3 4  |    .897068   .4180295    -0.23   0.816     .3598897    2.236049\n",
      "        3 5  |   .7233895   .5357238    -0.44   0.662     .1694315    3.088519\n",
      "        3 6  |   .7668763   .3901711    -0.52   0.602     .2829119    2.078736\n",
      "             |\n",
      "residence_~e#|\n",
      "geopolitic~n |\n",
      "        2 2  |   .9212352   .4213241    -0.18   0.858     .3759033    2.257693\n",
      "        2 3  |   1.132043   .4525311     0.31   0.756     .5171273    2.478155\n",
      "        2 4  |   .4128482   .2574109    -1.42   0.156     .1216371    1.401247\n",
      "        2 5  |    .740205   .5411259    -0.41   0.681     .1766372    3.101857\n",
      "        2 6  |   .5435908   .2913609    -1.14   0.255     .1901227    1.554212\n",
      "             |\n",
      "household_~h#|\n",
      "residence_~e#|\n",
      "geopolitic~n |\n",
      "      2 2 2  |   1.200482   .7103133     0.31   0.757     .3764505    3.828276\n",
      "      2 2 3  |   1.338655   .7074512     0.55   0.581     .4751452    3.771472\n",
      "      2 2 4  |   2.441548   1.821707     1.20   0.232     .5656659     10.5383\n",
      "      2 2 5  |   2.917332    2.63749     1.18   0.236     .4959465    17.16077\n",
      "      2 2 6  |   2.457803   1.664832     1.33   0.184     .6515868    9.270899\n",
      "      3 2 2  |   .4013292   .2756265    -1.33   0.184     .1044501    1.542029\n",
      "      3 2 3  |   .9961903   .5326207    -0.01   0.994      .349334     2.84082\n",
      "      3 2 4  |   2.012096   1.434851     0.98   0.327     .4973316      8.1405\n",
      "      3 2 5  |    1.06085   .8675655     0.07   0.942     .2135698    5.269488\n",
      "      3 2 6  |   1.484261   .9452169     0.62   0.535     .4260323    5.171042\n",
      "             |\n",
      "       _cons |   .0737705    .025481    -7.55   0.000      .037486    .1451764\n",
      "------------------------------------------------------------------------------\n",
      "Note: _cons estimates baseline odds.\n",
      "\n",
      "Predictive margins                                      Number of obs = 19,236\n",
      "Model VCE: OIM\n",
      "\n",
      "Expression: Pr(wasting), predict()\n",
      "\n",
      "------------------------------------------------------------------------------\n",
      "             |            Delta-method\n",
      "             |     Margin   std. err.      z    P>|z|     [95% conf. interval]\n",
      "-------------+----------------------------------------------------------------\n",
      "household_~h#|\n",
      "residence_~e |\n",
      "        1 1  |   .1062535    .011227     9.46   0.000      .084249     .128258\n",
      "        1 2  |   .1165766   .0046037    25.32   0.000     .1075536    .1255996\n",
      "        2 1  |   .1085537    .008359    12.99   0.000     .0921704    .1249371\n",
      "        2 2  |   .1060746   .0064919    16.34   0.000     .0933506    .1187985\n",
      "        3 1  |    .070329   .0045484    15.46   0.000     .0614143    .0792438\n",
      "        3 2  |   .0778878   .0079341     9.82   0.000     .0623372    .0934383\n",
      "------------------------------------------------------------------------------\n"
     ]
    }
   ],
   "source": [
    "* Interaction for Wasting\n",
    "logit wasting i.household_wealth##i.residence_type##i.geopolitical_region, or\n",
    "margins household_wealth#residence_type"
   ]
  },
  {
   "cell_type": "code",
   "execution_count": 41,
   "id": "d0b073d4",
   "metadata": {},
   "outputs": [
    {
     "name": "stdout",
     "output_type": "stream",
     "text": [
      "\n",
      "Predictive margins                                      Number of obs = 19,236\n",
      "Model VCE: OIM\n",
      "\n",
      "Expression: Pr(wasting), predict()\n",
      "\n",
      "------------------------------------------------------------------------------\n",
      "             |            Delta-method\n",
      "             |     Margin   std. err.      z    P>|z|     [95% conf. interval]\n",
      "-------------+----------------------------------------------------------------\n",
      "household_~h#|\n",
      "geopolitic~n |\n",
      "        1 1  |   .0795425   .0096446     8.25   0.000     .0606394    .0984456\n",
      "        1 2  |   .1378754   .0122277    11.28   0.000     .1139097    .1618412\n",
      "        1 3  |   .1594389   .0082808    19.25   0.000     .1432088    .1756691\n",
      "        1 4  |   .0599924   .0140777     4.26   0.000     .0324005    .0875843\n",
      "        1 5  |   .0829658   .0200267     4.14   0.000     .0437142    .1222174\n",
      "        1 6  |   .0975058   .0169294     5.76   0.000     .0643248    .1306868\n",
      "        2 1  |   .0830625   .0101086     8.22   0.000       .06325     .102875\n",
      "        2 2  |   .1094017   .0119234     9.18   0.000     .0860322    .1327712\n",
      "        2 3  |   .1363639   .0113347    12.03   0.000     .1141483    .1585794\n",
      "        2 4  |   .0909192   .0130338     6.98   0.000     .0653734    .1164649\n",
      "        2 5  |   .0805224   .0122771     6.56   0.000     .0564597    .1045851\n",
      "        2 6  |   .1129852   .0157668     7.17   0.000     .0820828    .1438875\n",
      "        3 1  |    .062638   .0080921     7.74   0.000     .0467777    .0784982\n",
      "        3 2  |     .07171   .0146065     4.91   0.000     .0430818    .1003383\n",
      "        3 3  |   .1023669   .0140894     7.27   0.000     .0747521    .1299816\n",
      "        3 4  |   .0614351   .0078494     7.83   0.000     .0460505    .0768198\n",
      "        3 5  |   .0496653   .0065945     7.53   0.000     .0367403    .0625902\n",
      "        3 6  |    .074652   .0100614     7.42   0.000     .0549321     .094372\n",
      "------------------------------------------------------------------------------\n",
      "\n",
      "Variables that uniquely identify margins: household_wealth\n",
      "geopolitical_region\n"
     ]
    },
    {
     "data": {
      "image/png": "[encoded data removed]",
      "text/plain": [
       "<IPython.core.display.Image object>"
      ]
     },
     "metadata": {},
     "output_type": "display_data"
    }
   ],
   "source": [
    "margins household_wealth#geopolitical_region\n",
    "marginsplot"
   ]
  },
  {
   "cell_type": "code",
   "execution_count": 42,
   "id": "7e661b22",
   "metadata": {},
   "outputs": [
    {
     "name": "stdout",
     "output_type": "stream",
     "text": [
      "\n",
      "note: 1.household_wealth#1.residence_type#5.geopolitical_region != 0 predicts f\n",
      "> ailure perfectly;\n",
      "      1.household_wealth#1.residence_type#5.geopolitical_region omitted and 35 \n",
      "> obs not used.\n",
      "\n",
      "note: 3.household_wealth#2.residence_type#5.geopolitical_region omitted because\n",
      ">  of collinearity.\n",
      "Iteration 0:  Log likelihood = -3076.9122  \n",
      "Iteration 1:  Log likelihood = -3035.2813  \n",
      "Iteration 2:  Log likelihood = -3032.6263  \n",
      "Iteration 3:  Log likelihood = -3032.6185  \n",
      "Iteration 4:  Log likelihood = -3032.6185  \n",
      "\n",
      "Logistic regression                                     Number of obs = 19,201\n",
      "                                                        LR chi2(34)   =  88.59\n",
      "                                                        Prob > chi2   = 0.0000\n",
      "Log likelihood = -3032.6185                             Pseudo R2     = 0.0144\n",
      "\n",
      "------------------------------------------------------------------------------\n",
      " underweight | Odds ratio   Std. err.      z    P>|z|     [95% conf. interval]\n",
      "-------------+----------------------------------------------------------------\n",
      "household_~h |\n",
      "          2  |   1.815603   1.246653     0.87   0.385     .4726697    6.974033\n",
      "          3  |   .6448363    .420747    -0.67   0.501     .1794948    2.316578\n",
      "             |\n",
      "2.residenc~e |   1.601334   .9663918     0.78   0.435     .4906695    5.226067\n",
      "             |\n",
      "household_~h#|\n",
      "residence_~e |\n",
      "        2 2  |   .4891753   .3599649    -0.97   0.331     .1156375    2.069333\n",
      "        3 2  |   1.243417   .9035397     0.30   0.764     .2992843    5.165945\n",
      "             |\n",
      "geopolitic~n |\n",
      "          2  |   3.490909   2.371116     1.84   0.066      .922105     13.2159\n",
      "          3  |   1.977925   1.275548     1.06   0.290     .5588262    7.000722\n",
      "          4  |   1.338562   .9177377     0.43   0.671     .3491743    5.131387\n",
      "          5  |   3.116566   2.118832     1.67   0.095     .8222005     11.8134\n",
      "          6  |   .9377289   .8656284    -0.07   0.944      .153576    5.725735\n",
      "             |\n",
      "household_~h#|\n",
      "geopolitic~n |\n",
      "        2 2  |   .3192935   .2630934    -1.39   0.166     .0635056    1.605344\n",
      "        2 3  |   .5241679   .4113341    -0.82   0.410     .1125902    2.440282\n",
      "        2 4  |   .4757765   .3989426    -0.89   0.376     .0919736    2.461176\n",
      "        2 5  |    .230827   .2233265    -1.52   0.130     .0346533    1.537549\n",
      "        2 6  |   .9368429   .9879704    -0.06   0.951       .11858    7.401539\n",
      "        3 2  |   .6409563   .5046018    -0.56   0.572     .1369961    2.998809\n",
      "        3 3  |   .8703107   .6539529    -0.18   0.853      .199563    3.795496\n",
      "        3 4  |   1.710843   1.315916     0.70   0.485     .3788769    7.725424\n",
      "        3 5  |   .5686776   .3161999    -1.02   0.310     .1912385    1.691052\n",
      "        3 6  |   1.915215   1.880189     0.66   0.508     .2796295    13.11753\n",
      "             |\n",
      "residence_~e#|\n",
      "geopolitic~n |\n",
      "        2 2  |   .3827912   .2689189    -1.37   0.172     .0965995    1.516872\n",
      "        2 3  |   .7861131   .5245232    -0.36   0.718     .2125849    2.906951\n",
      "        2 4  |   .3720612   .3725203    -0.99   0.323     .0522832    2.647685\n",
      "        2 5  |   .2929665   .1721113    -2.09   0.037     .0926309    .9265738\n",
      "        2 6  |   .4920139   .5229069    -0.67   0.505     .0612816    3.950252\n",
      "             |\n",
      "household_~h#|\n",
      "residence_~e#|\n",
      "geopolitic~n |\n",
      "      1 1 5  |          1  (empty)\n",
      "      2 2 2  |   3.524422   3.173187     1.40   0.162     .6035522    20.58074\n",
      "      2 2 3  |   1.926461   1.645614     0.77   0.443     .3611192    10.27709\n",
      "      2 2 4  |   6.057858   7.135049     1.53   0.126     .6022259    60.93668\n",
      "      2 2 5  |   3.227763   3.176067     1.19   0.234     .4691732    22.20599\n",
      "      2 2 6  |   2.021547   2.563464     0.56   0.579     .1683838    24.26987\n",
      "      3 2 2  |   1.464083   1.457218     0.38   0.702     .2081398    10.29855\n",
      "      3 2 3  |    1.03761   .9216448     0.04   0.967     .1819552    5.917031\n",
      "      3 2 4  |   1.628818    1.82916     0.43   0.664     .1802911    14.71536\n",
      "      3 2 5  |          1  (omitted)\n",
      "      3 2 6  |   1.589026   1.885014     0.39   0.696     .1553734     16.2512\n",
      "             |\n",
      "       _cons |   .0234375   .0136893    -6.43   0.000     .0074601     .073634\n",
      "------------------------------------------------------------------------------\n",
      "Note: _cons estimates baseline odds.\n",
      "\n",
      "Predictive margins                                      Number of obs = 19,201\n",
      "Model VCE: OIM\n",
      "\n",
      "Expression: Pr(underweight), predict()\n",
      "\n",
      "------------------------------------------------------------------------------\n",
      "             |            Delta-method\n",
      "             |     Margin   std. err.      z    P>|z|     [95% conf. interval]\n",
      "-------------+----------------------------------------------------------------\n",
      "household_~h#|\n",
      "residence_~e |\n",
      "        1 1  |          .  (not estimable)\n",
      "        1 2  |   .0386163   .0027304    14.14   0.000     .0332649    .0439677\n",
      "        2 1  |   .0385741   .0052813     7.30   0.000     .0282229    .0489252\n",
      "        2 2  |   .0399555   .0041458     9.64   0.000       .03183    .0480811\n",
      "        3 1  |     .02605   .0027532     9.46   0.000     .0206538    .0314463\n",
      "        3 2  |    .034927   .0055298     6.32   0.000     .0240888    .0457651\n",
      "------------------------------------------------------------------------------\n"
     ]
    }
   ],
   "source": [
    "* Interaction for Underweight\n",
    "logit underweight i.household_wealth##i.residence_type##i.geopolitical_region, or\n",
    "margins household_wealth#residence_type"
   ]
  },
  {
   "cell_type": "code",
   "execution_count": 43,
   "id": "326448b8",
   "metadata": {},
   "outputs": [
    {
     "name": "stdout",
     "output_type": "stream",
     "text": [
      "\n",
      "Predictive margins                                      Number of obs = 19,201\n",
      "Model VCE: OIM\n",
      "\n",
      "Expression: Pr(underweight), predict()\n",
      "\n",
      "------------------------------------------------------------------------------\n",
      "             |            Delta-method\n",
      "             |     Margin   std. err.      z    P>|z|     [95% conf. interval]\n",
      "-------------+----------------------------------------------------------------\n",
      "household_~h#|\n",
      "residence_~e |\n",
      "        1 1  |          .  (not estimable)\n",
      "        1 2  |   .0386163   .0027304    14.14   0.000     .0332649    .0439677\n",
      "        2 1  |   .0385741   .0052813     7.30   0.000     .0282229    .0489252\n",
      "        2 2  |   .0399555   .0041458     9.64   0.000       .03183    .0480811\n",
      "        3 1  |     .02605   .0027532     9.46   0.000     .0206538    .0314463\n",
      "        3 2  |    .034927   .0055298     6.32   0.000     .0240888    .0457651\n",
      "------------------------------------------------------------------------------\n",
      "\n",
      "Variables that uniquely identify margins: household_wealth residence_type\n"
     ]
    },
    {
     "data": {
      "image/png": "[encoded data removed]",
      "text/plain": [
       "<IPython.core.display.Image object>"
      ]
     },
     "metadata": {},
     "output_type": "display_data"
    }
   ],
   "source": [
    "margins household_wealth#residence_type\n",
    "marginsplot"
   ]
  },
  {
   "cell_type": "code",
   "execution_count": 44,
   "id": "b8f09573",
   "metadata": {},
   "outputs": [
    {
     "name": "stdout",
     "output_type": "stream",
     "text": [
      "      name:  <unnamed>\n",
      "       log:  /Users/johnadeleke/Desktop/Household_inequalities_and_Child_Health\n",
      "> /Log for MA Thesis.smcl\n",
      "  log type:  smcl\n",
      " closed on:  11 Feb 2025, 10:26:34\n",
      "-------------------------------------------------------------------------------\n"
     ]
    }
   ],
   "source": [
    "log close"
   ]
  },
  {
   "cell_type": "code",
   "execution_count": null,
   "id": "9a114849",
   "metadata": {},
   "outputs": [],
   "source": []
  }
 ],
 "metadata": {
  "kernelspec": {
   "display_name": "Stata (nbstata)",
   "language": "stata",
   "name": "nbstata"
  },
  "language_info": {
   "file_extension": ".do",
   "mimetype": "text/x-stata",
   "name": "stata",
   "version": "17"
  }
 },
 "nbformat": 4,
 "nbformat_minor": 5
}
