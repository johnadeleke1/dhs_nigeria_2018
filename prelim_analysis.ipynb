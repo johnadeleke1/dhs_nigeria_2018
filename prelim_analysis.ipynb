{
 "cells": [
  {
   "cell_type": "markdown",
   "id": "d2827934-f9e2-459e-a785-7f0044d14178",
   "metadata": {},
   "source": [
    "Working Title: \n",
    "Household Inequities as Fundamental Cause of Child Health Disparities in Nigeria"
   ]
  },
  {
   "cell_type": "code",
   "execution_count": 1,
   "id": "9372c0a0-d02e-4488-bef9-c757bc01f3fe",
   "metadata": {
    "tags": []
   },
   "outputs": [
    {
     "data": {
      "text/html": [
       "<style>div.jp-Notebook .datagrid-container {min-height: 448px; }</style>"
      ],
      "text/plain": [
       "<IPython.core.display.HTML object>"
      ]
     },
     "metadata": {},
     "output_type": "display_data"
    },
    {
     "name": "stdout",
     "output_type": "stream",
     "text": [
      "(-set more- irrelevant in this version of Stata)\n"
     ]
    }
   ],
   "source": [
    "set more off"
   ]
  },
  {
   "cell_type": "code",
   "execution_count": 2,
   "id": "eacfce4c-c6e0-4644-a151-d9b736ba3ea4",
   "metadata": {
    "tags": []
   },
   "outputs": [
    {
     "name": "stdout",
     "output_type": "stream",
     "text": [
      "\n"
     ]
    }
   ],
   "source": [
    "set maxvar 120000"
   ]
  },
  {
   "cell_type": "code",
   "execution_count": 3,
   "id": "e1d71598-665a-4481-8249-59003445465f",
   "metadata": {},
   "outputs": [
    {
     "name": "stdout",
     "output_type": "stream",
     "text": [
      "(file /Users/johnadeleke/Desktop/Household_inequalities_and_Child_Health/Log\n",
      "    for MA Thesis.smcl not found)\n",
      "-------------------------------------------------------------------------------\n",
      "      name:  <unnamed>\n",
      "       log:  /Users/johnadeleke/Desktop/Household_inequalities_and_Child_Health\n",
      "> /Log for MA Thesis.smcl\n",
      "  log type:  smcl\n",
      " opened on:   4 Oct 2024, 17:00:09\n"
     ]
    }
   ],
   "source": [
    "log using \"Log for MA Thesis\", replace"
   ]
  },
  {
   "cell_type": "code",
   "execution_count": 4,
   "id": "936537ef-a32a-49f1-a7d5-c7d666af3a0b",
   "metadata": {
    "tags": []
   },
   "outputs": [],
   "source": [
    "***load data\n",
    "use /Users/johnadeleke/Desktop/Household_inequalities_and_Child_Health/NGKR7BDT/NGKR7BFL.DTA"
   ]
  },
  {
   "cell_type": "code",
   "execution_count": 5,
   "id": "0dae7faa-182c-4fa4-9588-723cf2f2d2a3",
   "metadata": {
    "tags": []
   },
   "outputs": [],
   "source": [
    "***keep variables of interest\n",
    "\n",
    "use caseid v002 v190 v025 v024 v106 hw70 hw71 hw72 using \"NGKR7BDT/NGKR7BFL.DTA\", clear"
   ]
  },
  {
   "cell_type": "code",
   "execution_count": 6,
   "id": "67033433-5998-4d1e-86ce-866784a25511",
   "metadata": {
    "tags": []
   },
   "outputs": [
    {
     "name": "stdout",
     "output_type": "stream",
     "text": [
      "\n",
      "Variable      Storage   Display    Value\n",
      "    name         type    format    label      Variable label\n",
      "-------------------------------------------------------------------------------\n",
      "caseid          str15   %15s                  case identification\n",
      "v002            int     %8.0g                 household number\n",
      "v190            byte    %8.0g      V190       wealth index combined\n",
      "v025            byte    %8.0g      V025       type of place of residence\n",
      "v024            byte    %8.0g      V024       region\n",
      "v106            byte    %8.0g      V106       highest educational level\n",
      "hw70            int     %8.0g      HW70       height/age standard deviation\n",
      "                                                (new who)\n",
      "hw71            int     %8.0g      HW71       weight/age standard deviation\n",
      "                                                (new who)\n",
      "hw72            int     %8.0g      HW72       weight/height standard deviation\n",
      "                                                (new who)\n"
     ]
    }
   ],
   "source": [
    "describe caseid v002 v190 v025 v024 v106 hw70 hw71 hw72"
   ]
  },
  {
   "cell_type": "code",
   "execution_count": 7,
   "id": "f3d32b23-fe25-46cd-a0fa-9ab98290348e",
   "metadata": {
    "tags": []
   },
   "outputs": [
    {
     "name": "stdout",
     "output_type": "stream",
     "text": [
      "\n",
      "-------------------------------------------------------------------------------\n",
      "caseid                                                      case identification\n",
      "-------------------------------------------------------------------------------\n",
      "\n",
      "                  Type: String (str15)\n",
      "\n",
      "         Unique values: 21,792                    Missing \"\": 0/33,924\n",
      "\n",
      "              Examples: \"286  22  3\"\n",
      "                        \"481  53  2\"\n",
      "                        \"665  47  2\"\n",
      "                        \"939  17  9\"\n",
      "\n",
      "               Warning: Variable has leading and embedded blanks.\n",
      "\n",
      "-------------------------------------------------------------------------------\n",
      "v002                                                           household number\n",
      "-------------------------------------------------------------------------------\n",
      "\n",
      "                  Type: Numeric (int)\n",
      "\n",
      "                 Range: [1,274]                       Units: 1\n",
      "         Unique values: 207                       Missing .: 0/33,924\n",
      "\n",
      "                  Mean: 31.0563\n",
      "             Std. dev.:  24.878\n",
      "\n",
      "           Percentiles:     10%       25%       50%       75%       90%\n",
      "                              6        14        26        41        60\n",
      "\n",
      "-------------------------------------------------------------------------------\n",
      "v190                                                      wealth index combined\n",
      "-------------------------------------------------------------------------------\n",
      "\n",
      "                  Type: Numeric (byte)\n",
      "                 Label: V190\n",
      "\n",
      "                 Range: [1,5]                         Units: 1\n",
      "         Unique values: 5                         Missing .: 0/33,924\n",
      "\n",
      "            Tabulation: Freq.   Numeric  Label\n",
      "                        8,066         1  poorest\n",
      "                        7,743         2  poorer\n",
      "                        7,171         3  middle\n",
      "                        6,166         4  richer\n",
      "                        4,778         5  richest\n",
      "\n",
      "-------------------------------------------------------------------------------\n",
      "v025                                                 type of place of residence\n",
      "-------------------------------------------------------------------------------\n",
      "\n",
      "                  Type: Numeric (byte)\n",
      "                 Label: V025\n",
      "\n",
      "                 Range: [1,2]                         Units: 1\n",
      "         Unique values: 2                         Missing .: 0/33,924\n",
      "\n",
      "            Tabulation: Freq.   Numeric  Label\n",
      "                       11,699         1  urban\n",
      "                       22,225         2  rural\n",
      "\n",
      "-------------------------------------------------------------------------------\n",
      "v024                                                                     region\n",
      "-------------------------------------------------------------------------------\n",
      "\n",
      "                  Type: Numeric (byte)\n",
      "                 Label: V024\n",
      "\n",
      "                 Range: [1,6]                         Units: 1\n",
      "         Unique values: 6                         Missing .: 0/33,924\n",
      "\n",
      "            Tabulation: Freq.   Numeric  Label\n",
      "                        5,875         1  north central\n",
      "                        7,211         2  north east\n",
      "                       10,305         3  north west\n",
      "                        3,798         4  south east\n",
      "                        3,202         5  south south\n",
      "                        3,533         6  south west\n",
      "\n",
      "-------------------------------------------------------------------------------\n",
      "v106                                                  highest educational level\n",
      "-------------------------------------------------------------------------------\n",
      "\n",
      "                  Type: Numeric (byte)\n",
      "                 Label: V106\n",
      "\n",
      "                 Range: [0,3]                         Units: 1\n",
      "         Unique values: 4                         Missing .: 0/33,924\n",
      "\n",
      "            Tabulation: Freq.   Numeric  Label\n",
      "                       15,391         0  no education\n",
      "                        5,274         1  primary\n",
      "                       10,623         2  secondary\n",
      "                        2,636         3  higher\n",
      "\n",
      "-------------------------------------------------------------------------------\n",
      "hw70                                    height/age standard deviation (new who)\n",
      "-------------------------------------------------------------------------------\n",
      "\n",
      "                  Type: Numeric (int)\n",
      "                 Label: HW70, but 898 nonmissing values are not labeled\n",
      "\n",
      "                 Range: [-599,9998]                   Units: 1\n",
      "         Unique values: 899                       Missing .: 22,453/33,924\n",
      "\n",
      "              Examples: -110  \n",
      "                        .     \n",
      "                        .     \n",
      "                        .     \n",
      "\n",
      "-------------------------------------------------------------------------------\n",
      "hw71                                    weight/age standard deviation (new who)\n",
      "-------------------------------------------------------------------------------\n",
      "\n",
      "                  Type: Numeric (int)\n",
      "                 Label: HW71, but 756 nonmissing values are not labeled\n",
      "\n",
      "                 Range: [-594,9998]                   Units: 1\n",
      "         Unique values: 757                       Missing .: 22,452/33,924\n",
      "\n",
      "              Examples: -76   \n",
      "                        .     \n",
      "                        .     \n",
      "                        .     \n",
      "\n",
      "-------------------------------------------------------------------------------\n",
      "hw72                                 weight/height standard deviation (new who)\n",
      "-------------------------------------------------------------------------------\n",
      "\n",
      "                  Type: Numeric (int)\n",
      "                 Label: HW72, but 729 nonmissing values are not labeled\n",
      "\n",
      "                 Range: [-499,9998]                   Units: 1\n",
      "         Unique values: 731                       Missing .: 22,448/33,924\n",
      "\n",
      "              Examples: 0     \n",
      "                        .     \n",
      "                        .     \n",
      "                        .     \n"
     ]
    }
   ],
   "source": [
    "codebook caseid v002 v190 v025 v024 v106 hw70 hw71 hw72"
   ]
  },
  {
   "cell_type": "code",
   "execution_count": 8,
   "id": "51c03af5-cd99-4c8b-92ef-c722fdd007f6",
   "metadata": {
    "tags": []
   },
   "outputs": [
    {
     "name": "stdout",
     "output_type": "stream",
     "text": [
      "(25,858 differences between v190 and household_wealth)\n"
     ]
    }
   ],
   "source": [
    "***recoding household wealth index\n",
    "recode v190 (1 2 = 1 \"poor_households\") (3 = 2 \"average_households\") (4 5 = 3 \"rich_households\"), gen(household_wealth)"
   ]
  },
  {
   "cell_type": "code",
   "execution_count": 9,
   "id": "6d58c206-81f3-445c-8678-ac2aa691169e",
   "metadata": {
    "tags": []
   },
   "outputs": [
    {
     "name": "stdout",
     "output_type": "stream",
     "text": [
      "\n",
      "    RECODE of v190 |\n",
      "     (wealth index |\n",
      "         combined) |      Freq.     Percent        Cum.\n",
      "-------------------+-----------------------------------\n",
      "   poor_households |     15,809       46.60       46.60\n",
      "average_households |      7,171       21.14       67.74\n",
      "   rich_households |     10,944       32.26      100.00\n",
      "-------------------+-----------------------------------\n",
      "             Total |     33,924      100.00\n"
     ]
    }
   ],
   "source": [
    "tab household_wealth"
   ]
  },
  {
   "cell_type": "code",
   "execution_count": 10,
   "id": "10e9e25f-3e0e-467e-b99a-fde04131bbc5",
   "metadata": {
    "tags": []
   },
   "outputs": [],
   "source": [
    "***renaming other varibales for easy identification\n",
    "rename v025 residence_type\n",
    "rename v024 geopolitical_region\n",
    "rename v106 mother_education\n",
    "rename hw70 height_for_age\n",
    "rename hw71 weight_for_height\n",
    "rename hw72 weight_for_age"
   ]
  },
  {
   "cell_type": "code",
   "execution_count": 11,
   "id": "ce87ca36-b59c-4ab1-82cf-cb9c3f8041a9",
   "metadata": {
    "tags": []
   },
   "outputs": [
    {
     "name": "stdout",
     "output_type": "stream",
     "text": [
      "\n",
      "Contains data from NGKR7BDT/NGKR7BFL.DTA\n",
      " Observations:        33,924                  \n",
      "    Variables:            10                  \n",
      "-------------------------------------------------------------------------------\n",
      "Variable      Storage   Display    Value\n",
      "    name         type    format    label      Variable label\n",
      "-------------------------------------------------------------------------------\n",
      "caseid          str15   %15s                  case identification\n",
      "v002            int     %8.0g                 household number\n",
      "geopolitical_~n byte    %8.0g      V024       region\n",
      "residence_type  byte    %8.0g      V025       type of place of residence\n",
      "mother_educat~n byte    %8.0g      V106       highest educational level\n",
      "v190            byte    %8.0g      V190       wealth index combined\n",
      "height_for_age  int     %8.0g      HW70       height/age standard deviation\n",
      "                                                (new who)\n",
      "weight_for_he~t int     %8.0g      HW71       weight/age standard deviation\n",
      "                                                (new who)\n",
      "weight_for_age  int     %8.0g      HW72       weight/height standard deviation\n",
      "                                                (new who)\n",
      "household_wea~h byte    %18.0g     household_wealth\n",
      "                                              RECODE of v190 (wealth index\n",
      "                                                combined)\n",
      "-------------------------------------------------------------------------------\n",
      "Sorted by: \n",
      "     Note: Dataset has changed since last saved.\n"
     ]
    }
   ],
   "source": [
    "describe"
   ]
  },
  {
   "cell_type": "code",
   "execution_count": 12,
   "id": "fa1b0bac-313b-476e-bb4a-e0441f409d76",
   "metadata": {
    "tags": []
   },
   "outputs": [
    {
     "name": "stdout",
     "output_type": "stream",
     "text": [
      "\n",
      "-------------------------\n",
      "                      (1)\n",
      "                         \n",
      "                  mean/sd\n",
      "-------------------------\n",
      "household_~h         1.86\n",
      "                   (0.88)\n",
      "residence_~e         1.66\n",
      "                   (0.48)\n",
      "geopolitic~n         3.05\n",
      "                   (1.53)\n",
      "mother_edu~n         1.01\n",
      "                   (1.04)\n",
      "-------------------------\n",
      "N                  33,924\n",
      "-------------------------\n"
     ]
    }
   ],
   "source": [
    "***mean and standard devaition\n",
    "eststo contractterm: quietly estpost summarize household_wealth residence_type geopolitical_region mother_education\n",
    "\n",
    "esttab, cells(\"mean(fmt(%9.2fc))\" sd(par)) stats(N, fmt(%9.0fc))"
   ]
  },
  {
   "cell_type": "code",
   "execution_count": 13,
   "id": "cbac2f4e-3fb0-4696-a2a2-a8ee6214754a",
   "metadata": {
    "tags": []
   },
   "outputs": [
    {
     "name": "stdout",
     "output_type": "stream",
     "text": [
      "\n",
      "Linear regression                               Number of obs     =     33,924\n",
      "                                                F(1, 33922)       =   12875.40\n",
      "                                                Prob > F          =     0.0000\n",
      "                                                R-squared         =     0.2721\n",
      "                                                Root MSE          =     .74772\n",
      "\n",
      "------------------------------------------------------------------------------\n",
      "             |               Robust\n",
      "household_~h | Coefficient  std. err.      t    P>|t|     [95% conf. interval]\n",
      "-------------+----------------------------------------------------------------\n",
      "residence_~e |\n",
      "      rural  |  -.9618039   .0084763  -113.47   0.000    -.9784177   -.9451901\n",
      "       _cons |   2.486708   .0068023   365.57   0.000     2.473375    2.500041\n",
      "------------------------------------------------------------------------------\n",
      "\n",
      "Adjusted predictions                                    Number of obs = 33,924\n",
      "Model VCE: Robust\n",
      "\n",
      "Expression: Linear prediction, predict()\n",
      "At: 1.residence_type = .3448591 (mean)\n",
      "    2.residence_type = .6551409 (mean)\n",
      "\n",
      "------------------------------------------------------------------------------\n",
      "             |            Delta-method\n",
      "             |     Margin   std. err.      t    P>|t|     [95% conf. interval]\n",
      "-------------+----------------------------------------------------------------\n",
      "residence_~e |\n",
      "      urban  |   2.486708   .0068023   365.57   0.000     2.473375    2.500041\n",
      "      rural  |   1.524904   .0050573   301.53   0.000     1.514992    1.534817\n",
      "------------------------------------------------------------------------------\n"
     ]
    }
   ],
   "source": [
    "***showing variation in household wealth across residence type and geopolitical regions\n",
    "reg household_wealth i.residence_type, ro\n",
    "\n",
    "margins i.residence_type, atmeans"
   ]
  },
  {
   "cell_type": "code",
   "execution_count": 14,
   "id": "77599b02-75b7-4564-a29a-ee2953c15eb0",
   "metadata": {
    "tags": []
   },
   "outputs": [
    {
     "name": "stdout",
     "output_type": "stream",
     "text": [
      "\n",
      "Variables that uniquely identify margins: residence_type\n"
     ]
    },
    {
     "data": {
      "image/png": "[encoded data removed]",
      "text/plain": [
       "<IPython.core.display.Image object>"
      ]
     },
     "metadata": {},
     "output_type": "display_data"
    }
   ],
   "source": [
    "marginsplot, scheme(dubois) ///\n",
    "title(\"Figure 1: household_wealth by residence_type\" \" \") ///\n",
    "    ytitle(proportion with household_wealth)"
   ]
  },
  {
   "cell_type": "code",
   "execution_count": 15,
   "id": "cbd4863e-3b62-45fd-a3f6-e9d04e00d863",
   "metadata": {
    "tags": []
   },
   "outputs": [
    {
     "name": "stdout",
     "output_type": "stream",
     "text": [
      "\n",
      "Linear regression                               Number of obs     =     33,924\n",
      "                                                F(5, 33918)       =    2234.84\n",
      "                                                Prob > F          =     0.0000\n",
      "                                                R-squared         =     0.2359\n",
      "                                                Root MSE          =     .76612\n",
      "\n",
      "------------------------------------------------------------------------------\n",
      "             |               Robust\n",
      "household_~h | Coefficient  std. err.      t    P>|t|     [95% conf. interval]\n",
      "-------------+----------------------------------------------------------------\n",
      "geopolitic~n |\n",
      " north east  |  -.4799608    .014158   -33.90   0.000    -.5077109   -.4522107\n",
      " north west  |  -.4422877   .0134946   -32.78   0.000    -.4687375   -.4158379\n",
      " south east  |   .4631282   .0167056    27.72   0.000     .4303846    .4958718\n",
      "south south  |   .4222151   .0177291    23.81   0.000     .3874654    .4569648\n",
      " south west  |   .6086887   .0165744    36.72   0.000     .5762023     .641175\n",
      "             |\n",
      "       _cons |   1.937872   .0112972   171.54   0.000     1.915729    1.960015\n",
      "------------------------------------------------------------------------------\n",
      "\n",
      "Adjusted predictions                                    Number of obs = 33,924\n",
      "Model VCE: Robust\n",
      "\n",
      "Expression: Linear prediction, predict()\n",
      "At: 1.geopolitical_region = .1731812 (mean)\n",
      "    2.geopolitical_region = .2125634 (mean)\n",
      "    3.geopolitical_region = .3037672 (mean)\n",
      "    4.geopolitical_region = .1119561 (mean)\n",
      "    5.geopolitical_region = .0943875 (mean)\n",
      "    6.geopolitical_region = .1041446 (mean)\n",
      "\n",
      "------------------------------------------------------------------------------\n",
      "             |            Delta-method\n",
      "             |     Margin   std. err.      t    P>|t|     [95% conf. interval]\n",
      "-------------+----------------------------------------------------------------\n",
      "geopolitic~n |\n",
      "north cen..  |   1.937872   .0112972   171.54   0.000     1.915729    1.960015\n",
      " north east  |   1.457912   .0085336   170.84   0.000     1.441185    1.474638\n",
      " north west  |   1.495585   .0073809   202.63   0.000     1.481118    1.510051\n",
      " south east  |   2.401001   .0123066   195.10   0.000     2.376879    2.425122\n",
      "south south  |   2.360087   .0136637   172.73   0.000     2.333306    2.386869\n",
      " south west  |   2.546561   .0121278   209.98   0.000      2.52279    2.570332\n",
      "------------------------------------------------------------------------------\n"
     ]
    }
   ],
   "source": [
    "reg household_wealth i.geopolitical_region, ro\n",
    "\n",
    "margins i.geopolitical_region, atmeans"
   ]
  },
  {
   "cell_type": "code",
   "execution_count": 16,
   "id": "0a80bf9b-7a46-4421-89a8-e7c498193551",
   "metadata": {
    "tags": []
   },
   "outputs": [
    {
     "name": "stdout",
     "output_type": "stream",
     "text": [
      "\n",
      "Variables that uniquely identify margins: geopolitical_region\n"
     ]
    },
    {
     "data": {
      "image/png": "[encoded data removed]",
      "text/plain": [
       "<IPython.core.display.Image object>"
      ]
     },
     "metadata": {},
     "output_type": "display_data"
    }
   ],
   "source": [
    "marginsplot, scheme(dubois) ///\n",
    "title(\"Figure 1: household_wealth by geopolitical_region\" \" \") ///\n",
    "    ytitle(proportion with household_wealth)"
   ]
  },
  {
   "cell_type": "code",
   "execution_count": 17,
   "id": "f7a2ec89-fafa-4a63-8589-e7142776b401",
   "metadata": {
    "tags": []
   },
   "outputs": [
    {
     "name": "stdout",
     "output_type": "stream",
     "text": [
      "      name:  <unnamed>\n",
      "       log:  /Users/johnadeleke/Desktop/Household_inequalities_and_Child_Health\n",
      "> /Log for MA Thesis.smcl\n",
      "  log type:  smcl\n",
      " closed on:   4 Oct 2024, 17:00:14\n",
      "-------------------------------------------------------------------------------\n"
     ]
    }
   ],
   "source": [
    "log close"
   ]
  }
 ],
 "metadata": {
  "kernelspec": {
   "display_name": "Stata (nbstata)",
   "language": "stata",
   "name": "nbstata"
  },
  "language_info": {
   "file_extension": ".do",
   "mimetype": "text/x-stata",
   "name": "stata",
   "version": "17"
  }
 },
 "nbformat": 4,
 "nbformat_minor": 5
}
